{
 "cells": [
  {
   "cell_type": "code",
   "execution_count": 1,
   "id": "806affad-c8ed-4229-a7fe-df800342b09c",
   "metadata": {},
   "outputs": [],
   "source": [
    "import pandas as pd\n",
    "import numpy as np\n",
    "import os\n",
    "import warnings\n",
    "from scipy.stats import nbinom, gamma, chi2_contingency\n",
    "from scipy.special import digamma\n",
    "from scipy.optimize import minimize\n"
   ]
  },
  {
   "cell_type": "code",
   "execution_count": 2,
   "id": "f2ac2d8c-5ac1-46a5-927f-5d33971b213e",
   "metadata": {},
   "outputs": [],
   "source": [
    "def download_faer_files(root_dir):\n",
    "    # Define root directory where FAERS datasets are located\n",
    "    quarters = ['Q1', 'Q2', 'Q3', 'Q4']\n",
    "\n",
    "    # Adjust range from 2013 to 2025\n",
    "    all_quarters = [f\"{str(y)[2:]}{q}\" for y in range(2013, 2026) for q in quarters]\n",
    "\n",
    "    # Limit to only those quarters that exist (sanity check)\n",
    "    existing_quarters = [q for q in all_quarters if os.path.exists(os.path.join(root_dir, f\"DEMO{q}.txt\"))]\n",
    "\n",
    "    # Store DataFrames in a dict\n",
    "    data = {}\n",
    "\n",
    "    for q in existing_quarters:\n",
    "        try:\n",
    "            data[q] = {\n",
    "                'demo': pd.read_csv(os.path.join(root_dir, f\"DEMO{q}.txt\"), delimiter='$', encoding='ISO-8859-1'),\n",
    "                'drug': pd.read_csv(os.path.join(root_dir, f\"DRUG{q}.txt\"), delimiter='$', encoding='ISO-8859-1'),\n",
    "                'reac': pd.read_csv(os.path.join(root_dir, f\"REAC{q}.txt\"), delimiter='$', encoding='ISO-8859-1'),\n",
    "                'outc': pd.read_csv(os.path.join(root_dir, f\"OUTC{q}.txt\"), delimiter='$', encoding='ISO-8859-1'),\n",
    "                'indi': pd.read_csv(os.path.join(root_dir, f\"INDI{q}.txt\"), delimiter='$', encoding='ISO-8859-1'),\n",
    "                'rpsr': pd.read_csv(os.path.join(root_dir, f\"RPSR{q}.txt\"), delimiter='$', encoding='ISO-8859-1'),\n",
    "                'ther': pd.read_csv(os.path.join(root_dir, f\"THER{q}.txt\"), delimiter='$', encoding='ISO-8859-1'),\n",
    "            }\n",
    "            print(f\"Loaded {q} successfully.\")\n",
    "        except Exception as e:\n",
    "            print(f\"Error loading data for {q}: {e}\")\n",
    "\n",
    "    return data\n",
    "\n"
   ]
  },
  {
   "cell_type": "code",
   "execution_count": 3,
   "id": "d743291f-94df-4f82-b3c1-673ac85e0aeb",
   "metadata": {},
   "outputs": [],
   "source": [
    "def generate_periods(start_year, start_quarter, end_year, end_quarter):\n",
    "    periods = []\n",
    "    quarters = ['Q1', 'Q2', 'Q3', 'Q4']\n",
    "\n",
    "    start_year = int(start_year)\n",
    "    end_year = int(end_year)\n",
    "\n",
    "    # Loop through the years and quarters to generate all periods in the range\n",
    "    for year in range(start_year, end_year + 1):\n",
    "        start_qtr = start_quarter if year == start_year else 'Q1'\n",
    "        end_qtr = end_quarter if year == end_year else 'Q4'\n",
    "\n",
    "        for qtr in quarters[quarters.index(start_qtr):quarters.index(end_qtr) + 1]:\n",
    "            periods.append(f\"{str(year)[-2:]}{qtr}\")\n",
    "\n",
    "    return periods\n"
   ]
  },
  {
   "cell_type": "code",
   "execution_count": 4,
   "id": "bdfaff8d-680b-4323-8603-6b9787e1736e",
   "metadata": {},
   "outputs": [],
   "source": [
    "def create_dataframes(start_year, start_quarter, end_year, end_quarter):\n",
    "    # Generate periods based on user input\n",
    "    periods = generate_periods(start_year, start_quarter, end_year, end_quarter)\n",
    "\n",
    "    # List of table types to be processed (can easily be extended)\n",
    "    table_types = ['demo', 'drug', 'reac', 'outc', 'indi', 'rpsr', 'ther']\n",
    "\n",
    "    # Initialize a dictionary to store lists of DataFrames for each table\n",
    "    data_dict = {table: [] for table in table_types}\n",
    "\n",
    "    # Loop through each period and collect data for each table type\n",
    "    for period in periods:\n",
    "        if period in data:  # Check if data for the period exists\n",
    "            for table in table_types:\n",
    "                if table in data[period]:\n",
    "                    data_dict[table].append(data[period][table])\n",
    "        else:\n",
    "            print(f\"Warning: No data available for {period}\")\n",
    "\n",
    "    # Concatenate data for each table type into a single DataFrame\n",
    "    merged_data = {\n",
    "        table: pd.concat(data_dict[table], ignore_index=True) if data_dict[table] else pd.DataFrame()\n",
    "        for table in table_types\n",
    "    }\n",
    "\n",
    "    demo = merged_data['demo']\n",
    "    drug = merged_data['drug']\n",
    "    reac = merged_data['reac']\n",
    "    outc = merged_data['outc']\n",
    "    indi = merged_data['indi']\n",
    "    rpsr = merged_data['rpsr']\n",
    "    ther = merged_data['ther']\n",
    "\n",
    "    return demo, drug, reac, outc, indi, rpsr, ther\n"
   ]
  },
  {
   "cell_type": "code",
   "execution_count": 5,
   "id": "30246cbf-1b6b-4cd0-ab28-b98beae9dc2d",
   "metadata": {},
   "outputs": [],
   "source": [
    "def preprocess_drug_df(drug):\n",
    "    drug = drug[['primaryid', 'caseid', 'role_cod', 'drugname', 'prod_ai']]\n",
    "    drug = drug[drug['role_cod'] == 'PS']\n",
    "\n",
    "    drug = drug[pd.notnull(drug['drugname'])]  # Drops Nulls\n",
    "    drug['drugname'] = drug['drugname'].str.strip().str.lower()  # Stips whitespace, Transforms to lowercase\n",
    "    drug = drug[~drug['drugname'].isin(['unknown'])]  # Drops unknowns\n",
    "    drug['drugname'] = drug['drugname'].str.replace('\\\\', '/')  # Standardizes slashes to '/'\n",
    "    drug['drugname'] = drug['drugname'].map(\n",
    "        lambda x: x[:-1] if str(x).endswith(\".\") else x)  # Removes periods at the end of drug names\n",
    "\n",
    "    return drug\n"
   ]
  },
  {
   "cell_type": "code",
   "execution_count": 7,
   "id": "180a8617-17c2-4b0a-a776-91d43ce8b2ae",
   "metadata": {},
   "outputs": [],
   "source": [
    "def preprocess_reac_df(reac):\n",
    "    reac = reac[pd.notnull(reac['pt'])] # Drops Nulls\n",
    "    reac['pt'] = reac['pt'].str.strip().str.lower()  # Transforms to lowercase\n",
    "    reac = reac[~reac['pt'].isin(['unknown'])]  # Drops unknowns\n",
    "    reac['pt'] = reac['pt'].map(\n",
    "        lambda x: x[:-1] if str(x).endswith(\".\") else x)  # Removes periods at the end of drug names\n",
    "\n",
    "    return reac\n"
   ]
  },
  {
   "cell_type": "code",
   "execution_count": 17,
   "id": "2bfbbfa1-5891-4694-b9e3-b5b25d2cd211",
   "metadata": {},
   "outputs": [],
   "source": [
    "def preprocess_demo_df(demo):\n",
    "    demo = demo[['primaryid', 'caseid', 'caseversion', 'age_cod', 'age', 'sex', 'wt']]\n",
    "    demo = demo.sort_values('caseversion', ascending=False).drop_duplicates(subset='caseid', keep='last')\n",
    "\n",
    "    demo = demo[pd.notnull(demo['age'])]\n",
    "    demo = demo[demo.age_cod != 'dec'].reset_index(drop=True)\n",
    "    demo['age'] = demo['age'].apply(pd.to_numeric, errors='coerce')\n",
    "    demo['age'] = np.where(demo['age_cod'] == 'MON', demo['age'] * 1 / 12, demo['age'])  # mounth\n",
    "    demo['age'] = np.where(demo['age_cod'] == 'WK', demo['age'] * 1 / 52, demo['age'])  # week\n",
    "    demo['age'] = np.where(demo['age_cod'] == 'DY', demo['age'] * 1 / 365, demo['age'])  # day\n",
    "    demo['age'] = np.where(demo['age_cod'] == 'HR', demo['age'] * 1 / 8760, demo['age'])  # hour\n",
    "    demo = demo.drop(['age_cod'], axis=1)\n",
    "\n",
    "    return demo\n"
   ]
  },
  {
   "cell_type": "code",
   "execution_count": 9,
   "id": "cb1262c2-fe70-4cb3-9bcd-2bb769e552b2",
   "metadata": {},
   "outputs": [],
   "source": [
    "# Function to compute Odds Ratio (OR) and Confidence Interval (CI)\n",
    "def compute_or_and_ci(a, b, c, d):\n",
    "    # Odds Ratio\n",
    "    or_val = (a * d) / (b * c)\n",
    "\n",
    "    # Log(OR) and standard error\n",
    "    log_or = np.log(or_val)\n",
    "    se = np.sqrt(1 / a + 1 / b + 1 / c + 1 / d)\n",
    "\n",
    "    # Confidence Interval\n",
    "    ci_low = np.exp(log_or - 1.96 * se)\n",
    "    ci_high = np.exp(log_or + 1.96 * se)\n",
    "\n",
    "    return or_val, ci_low, ci_high\n",
    "\n",
    "\n",
    "# Function to compute Proportional Reporting Ratio (PRR), Standard Error (SE), and Confidence Interval (CI)\n",
    "def compute_prr_and_ci(a, b, c, d):\n",
    "    # Proportional Reporting Ratio (PRR)\n",
    "    prr = (a / (a + b)) / (c / (c + d))\n",
    "\n",
    "    # Standard Error (SE)\n",
    "    se = np.sqrt(1 / a + 1 / c - 1 / (a + b) - 1 / (c + d))\n",
    "\n",
    "    # Confidence Interval for PRR\n",
    "    ln_prr = np.log(prr)\n",
    "    ci_low = np.exp(ln_prr - 1.96 * se)\n",
    "    ci_high = np.exp(ln_prr + 1.96 * se)\n",
    "\n",
    "    return prr, se, ci_low, ci_high\n",
    "\n",
    "\n",
    "# Function to add statistics (OR and PRR) to the DataFrame\n",
    "def add_stats(df):\n",
    "    # Add 0.5 to all columns to avoid zero counts\n",
    "    a = df['Count_query_drug'] + 0.5\n",
    "    b = df['No_AE_query_drug'] + 0.5\n",
    "    c = df['Count_non_query_drug'] + 0.5\n",
    "    d = df['No_AE_non_query_drug'] + 0.5\n",
    "\n",
    "    # Compute Odds Ratio (OR) and Confidence Interval (CI) using vectorized operations\n",
    "    or_vals, ci_low_or, ci_high_or = compute_or_and_ci(a, b, c, d)\n",
    "\n",
    "    # Compute Proportional Reporting Ratio (PRR), SE, and Confidence Interval (CI) using vectorized operations\n",
    "    prr_vals, se_prr, ci_low_prr, ci_high_prr = compute_prr_and_ci(a, b, c, d)\n",
    "\n",
    "    # Perform chi-squared test for each row in a vectorized way\n",
    "    p_values = df.apply(lambda row: chi2_contingency([[row['Count_query_drug'], row['No_AE_query_drug']],\n",
    "                                                      [row['Count_non_query_drug'], row['No_AE_non_query_drug']]])[1],\n",
    "                        axis=1)\n",
    "\n",
    "    \"\"\"\n",
    "    ebgm_result = phv_ebgm(a, b, c, d, alpha = 0.05) \n",
    "    ebgm_result = ebgm_result.rename(columns={\n",
    "        'ebgm': 'ebgm',\n",
    "        'ci_low': 'ci_lower_ebgm',\n",
    "        'ci_high': 'ci_upper_ebgm'\n",
    "    })\n",
    "    \"\"\"\n",
    "\n",
    "    # Add new columns for OR, PRR, and p-value statistics\n",
    "    df['odds_ratio'] = or_vals\n",
    "    df['ci_lower_or'] = ci_low_or\n",
    "    df['ci_upper_or'] = ci_high_or\n",
    "    df['prr'] = prr_vals\n",
    "    df['se_prr'] = se_prr\n",
    "    df['ci_lower_prr'] = ci_low_prr\n",
    "    df['ci_upper_prr'] = ci_high_prr\n",
    "    df['p_value'] = p_values\n",
    "    # df = pd.concat([df, ebgm_result], axis=1)\n",
    "\n",
    "    print(df)\n",
    "    return df\n",
    "\n"
   ]
  },
  {
   "cell_type": "code",
   "execution_count": 22,
   "id": "e82851b9-dfdd-41ec-ae19-ae4cf6df5398",
   "metadata": {},
   "outputs": [
    {
     "name": "stderr",
     "output_type": "stream",
     "text": [
      "/var/folders/1z/lz8g1zg14zv6dkhlyvsk7zvc0000gn/T/ipykernel_32080/1055847591.py:17: DtypeWarning: Columns (11,15) have mixed types. Specify dtype option on import or set low_memory=False.\n",
      "  'demo': pd.read_csv(os.path.join(root_dir, f\"DEMO{q}.txt\"), delimiter='$', encoding='ISO-8859-1'),\n",
      "/var/folders/1z/lz8g1zg14zv6dkhlyvsk7zvc0000gn/T/ipykernel_32080/1055847591.py:18: DtypeWarning: Columns (9,10,13,15) have mixed types. Specify dtype option on import or set low_memory=False.\n",
      "  'drug': pd.read_csv(os.path.join(root_dir, f\"DRUG{q}.txt\"), delimiter='$', encoding='ISO-8859-1'),\n"
     ]
    },
    {
     "name": "stdout",
     "output_type": "stream",
     "text": [
      "Loaded 13Q1 successfully.\n"
     ]
    },
    {
     "name": "stderr",
     "output_type": "stream",
     "text": [
      "/var/folders/1z/lz8g1zg14zv6dkhlyvsk7zvc0000gn/T/ipykernel_32080/1055847591.py:18: DtypeWarning: Columns (9) have mixed types. Specify dtype option on import or set low_memory=False.\n",
      "  'drug': pd.read_csv(os.path.join(root_dir, f\"DRUG{q}.txt\"), delimiter='$', encoding='ISO-8859-1'),\n"
     ]
    },
    {
     "name": "stdout",
     "output_type": "stream",
     "text": [
      "Loaded 13Q2 successfully.\n"
     ]
    },
    {
     "name": "stderr",
     "output_type": "stream",
     "text": [
      "/var/folders/1z/lz8g1zg14zv6dkhlyvsk7zvc0000gn/T/ipykernel_32080/1055847591.py:17: DtypeWarning: Columns (15) have mixed types. Specify dtype option on import or set low_memory=False.\n",
      "  'demo': pd.read_csv(os.path.join(root_dir, f\"DEMO{q}.txt\"), delimiter='$', encoding='ISO-8859-1'),\n",
      "/var/folders/1z/lz8g1zg14zv6dkhlyvsk7zvc0000gn/T/ipykernel_32080/1055847591.py:18: DtypeWarning: Columns (13) have mixed types. Specify dtype option on import or set low_memory=False.\n",
      "  'drug': pd.read_csv(os.path.join(root_dir, f\"DRUG{q}.txt\"), delimiter='$', encoding='ISO-8859-1'),\n"
     ]
    },
    {
     "name": "stdout",
     "output_type": "stream",
     "text": [
      "Loaded 13Q3 successfully.\n"
     ]
    },
    {
     "name": "stderr",
     "output_type": "stream",
     "text": [
      "/var/folders/1z/lz8g1zg14zv6dkhlyvsk7zvc0000gn/T/ipykernel_32080/1055847591.py:17: DtypeWarning: Columns (11,15,21) have mixed types. Specify dtype option on import or set low_memory=False.\n",
      "  'demo': pd.read_csv(os.path.join(root_dir, f\"DEMO{q}.txt\"), delimiter='$', encoding='ISO-8859-1'),\n",
      "/var/folders/1z/lz8g1zg14zv6dkhlyvsk7zvc0000gn/T/ipykernel_32080/1055847591.py:18: DtypeWarning: Columns (13,15) have mixed types. Specify dtype option on import or set low_memory=False.\n",
      "  'drug': pd.read_csv(os.path.join(root_dir, f\"DRUG{q}.txt\"), delimiter='$', encoding='ISO-8859-1'),\n",
      "/var/folders/1z/lz8g1zg14zv6dkhlyvsk7zvc0000gn/T/ipykernel_32080/1055847591.py:23: DtypeWarning: Columns (5) have mixed types. Specify dtype option on import or set low_memory=False.\n",
      "  'ther': pd.read_csv(os.path.join(root_dir, f\"THER{q}.txt\"), delimiter='$', encoding='ISO-8859-1'),\n"
     ]
    },
    {
     "name": "stdout",
     "output_type": "stream",
     "text": [
      "Loaded 13Q4 successfully.\n"
     ]
    },
    {
     "name": "stderr",
     "output_type": "stream",
     "text": [
      "/var/folders/1z/lz8g1zg14zv6dkhlyvsk7zvc0000gn/T/ipykernel_32080/1055847591.py:17: DtypeWarning: Columns (15) have mixed types. Specify dtype option on import or set low_memory=False.\n",
      "  'demo': pd.read_csv(os.path.join(root_dir, f\"DEMO{q}.txt\"), delimiter='$', encoding='ISO-8859-1'),\n",
      "/var/folders/1z/lz8g1zg14zv6dkhlyvsk7zvc0000gn/T/ipykernel_32080/1055847591.py:18: DtypeWarning: Columns (13) have mixed types. Specify dtype option on import or set low_memory=False.\n",
      "  'drug': pd.read_csv(os.path.join(root_dir, f\"DRUG{q}.txt\"), delimiter='$', encoding='ISO-8859-1'),\n"
     ]
    },
    {
     "name": "stdout",
     "output_type": "stream",
     "text": [
      "Loaded 14Q1 successfully.\n"
     ]
    },
    {
     "name": "stderr",
     "output_type": "stream",
     "text": [
      "/var/folders/1z/lz8g1zg14zv6dkhlyvsk7zvc0000gn/T/ipykernel_32080/1055847591.py:18: DtypeWarning: Columns (13,14) have mixed types. Specify dtype option on import or set low_memory=False.\n",
      "  'drug': pd.read_csv(os.path.join(root_dir, f\"DRUG{q}.txt\"), delimiter='$', encoding='ISO-8859-1'),\n"
     ]
    },
    {
     "name": "stdout",
     "output_type": "stream",
     "text": [
      "Loaded 14Q2 successfully.\n"
     ]
    },
    {
     "name": "stderr",
     "output_type": "stream",
     "text": [
      "/var/folders/1z/lz8g1zg14zv6dkhlyvsk7zvc0000gn/T/ipykernel_32080/1055847591.py:17: DtypeWarning: Columns (18) have mixed types. Specify dtype option on import or set low_memory=False.\n",
      "  'demo': pd.read_csv(os.path.join(root_dir, f\"DEMO{q}.txt\"), delimiter='$', encoding='ISO-8859-1'),\n",
      "/var/folders/1z/lz8g1zg14zv6dkhlyvsk7zvc0000gn/T/ipykernel_32080/1055847591.py:18: DtypeWarning: Columns (10,11,14,15,16) have mixed types. Specify dtype option on import or set low_memory=False.\n",
      "  'drug': pd.read_csv(os.path.join(root_dir, f\"DRUG{q}.txt\"), delimiter='$', encoding='ISO-8859-1'),\n",
      "/var/folders/1z/lz8g1zg14zv6dkhlyvsk7zvc0000gn/T/ipykernel_32080/1055847591.py:23: DtypeWarning: Columns (5) have mixed types. Specify dtype option on import or set low_memory=False.\n",
      "  'ther': pd.read_csv(os.path.join(root_dir, f\"THER{q}.txt\"), delimiter='$', encoding='ISO-8859-1'),\n"
     ]
    },
    {
     "name": "stdout",
     "output_type": "stream",
     "text": [
      "Loaded 14Q3 successfully.\n"
     ]
    },
    {
     "name": "stderr",
     "output_type": "stream",
     "text": [
      "/var/folders/1z/lz8g1zg14zv6dkhlyvsk7zvc0000gn/T/ipykernel_32080/1055847591.py:17: DtypeWarning: Columns (18) have mixed types. Specify dtype option on import or set low_memory=False.\n",
      "  'demo': pd.read_csv(os.path.join(root_dir, f\"DEMO{q}.txt\"), delimiter='$', encoding='ISO-8859-1'),\n",
      "/var/folders/1z/lz8g1zg14zv6dkhlyvsk7zvc0000gn/T/ipykernel_32080/1055847591.py:18: DtypeWarning: Columns (14,15) have mixed types. Specify dtype option on import or set low_memory=False.\n",
      "  'drug': pd.read_csv(os.path.join(root_dir, f\"DRUG{q}.txt\"), delimiter='$', encoding='ISO-8859-1'),\n",
      "/var/folders/1z/lz8g1zg14zv6dkhlyvsk7zvc0000gn/T/ipykernel_32080/1055847591.py:23: DtypeWarning: Columns (5) have mixed types. Specify dtype option on import or set low_memory=False.\n",
      "  'ther': pd.read_csv(os.path.join(root_dir, f\"THER{q}.txt\"), delimiter='$', encoding='ISO-8859-1'),\n"
     ]
    },
    {
     "name": "stdout",
     "output_type": "stream",
     "text": [
      "Loaded 14Q4 successfully.\n"
     ]
    },
    {
     "name": "stderr",
     "output_type": "stream",
     "text": [
      "/var/folders/1z/lz8g1zg14zv6dkhlyvsk7zvc0000gn/T/ipykernel_32080/1055847591.py:18: DtypeWarning: Columns (11,14,15,16) have mixed types. Specify dtype option on import or set low_memory=False.\n",
      "  'drug': pd.read_csv(os.path.join(root_dir, f\"DRUG{q}.txt\"), delimiter='$', encoding='ISO-8859-1'),\n"
     ]
    },
    {
     "name": "stdout",
     "output_type": "stream",
     "text": [
      "Loaded 15Q1 successfully.\n"
     ]
    },
    {
     "name": "stderr",
     "output_type": "stream",
     "text": [
      "/var/folders/1z/lz8g1zg14zv6dkhlyvsk7zvc0000gn/T/ipykernel_32080/1055847591.py:18: DtypeWarning: Columns (14,15,16) have mixed types. Specify dtype option on import or set low_memory=False.\n",
      "  'drug': pd.read_csv(os.path.join(root_dir, f\"DRUG{q}.txt\"), delimiter='$', encoding='ISO-8859-1'),\n"
     ]
    },
    {
     "name": "stdout",
     "output_type": "stream",
     "text": [
      "Loaded 15Q2 successfully.\n"
     ]
    },
    {
     "name": "stderr",
     "output_type": "stream",
     "text": [
      "/var/folders/1z/lz8g1zg14zv6dkhlyvsk7zvc0000gn/T/ipykernel_32080/1055847591.py:18: DtypeWarning: Columns (14,16) have mixed types. Specify dtype option on import or set low_memory=False.\n",
      "  'drug': pd.read_csv(os.path.join(root_dir, f\"DRUG{q}.txt\"), delimiter='$', encoding='ISO-8859-1'),\n",
      "/var/folders/1z/lz8g1zg14zv6dkhlyvsk7zvc0000gn/T/ipykernel_32080/1055847591.py:23: DtypeWarning: Columns (5) have mixed types. Specify dtype option on import or set low_memory=False.\n",
      "  'ther': pd.read_csv(os.path.join(root_dir, f\"THER{q}.txt\"), delimiter='$', encoding='ISO-8859-1'),\n"
     ]
    },
    {
     "name": "stdout",
     "output_type": "stream",
     "text": [
      "Loaded 15Q3 successfully.\n"
     ]
    },
    {
     "name": "stderr",
     "output_type": "stream",
     "text": [
      "/var/folders/1z/lz8g1zg14zv6dkhlyvsk7zvc0000gn/T/ipykernel_32080/1055847591.py:18: DtypeWarning: Columns (14) have mixed types. Specify dtype option on import or set low_memory=False.\n",
      "  'drug': pd.read_csv(os.path.join(root_dir, f\"DRUG{q}.txt\"), delimiter='$', encoding='ISO-8859-1'),\n",
      "/var/folders/1z/lz8g1zg14zv6dkhlyvsk7zvc0000gn/T/ipykernel_32080/1055847591.py:23: DtypeWarning: Columns (6) have mixed types. Specify dtype option on import or set low_memory=False.\n",
      "  'ther': pd.read_csv(os.path.join(root_dir, f\"THER{q}.txt\"), delimiter='$', encoding='ISO-8859-1'),\n"
     ]
    },
    {
     "name": "stdout",
     "output_type": "stream",
     "text": [
      "Loaded 15Q4 successfully.\n"
     ]
    },
    {
     "name": "stderr",
     "output_type": "stream",
     "text": [
      "/var/folders/1z/lz8g1zg14zv6dkhlyvsk7zvc0000gn/T/ipykernel_32080/1055847591.py:18: DtypeWarning: Columns (11,14) have mixed types. Specify dtype option on import or set low_memory=False.\n",
      "  'drug': pd.read_csv(os.path.join(root_dir, f\"DRUG{q}.txt\"), delimiter='$', encoding='ISO-8859-1'),\n"
     ]
    },
    {
     "name": "stdout",
     "output_type": "stream",
     "text": [
      "Loaded 16Q1 successfully.\n"
     ]
    },
    {
     "name": "stderr",
     "output_type": "stream",
     "text": [
      "/var/folders/1z/lz8g1zg14zv6dkhlyvsk7zvc0000gn/T/ipykernel_32080/1055847591.py:18: DtypeWarning: Columns (11,14) have mixed types. Specify dtype option on import or set low_memory=False.\n",
      "  'drug': pd.read_csv(os.path.join(root_dir, f\"DRUG{q}.txt\"), delimiter='$', encoding='ISO-8859-1'),\n"
     ]
    },
    {
     "name": "stdout",
     "output_type": "stream",
     "text": [
      "Loaded 16Q2 successfully.\n"
     ]
    },
    {
     "name": "stderr",
     "output_type": "stream",
     "text": [
      "/var/folders/1z/lz8g1zg14zv6dkhlyvsk7zvc0000gn/T/ipykernel_32080/1055847591.py:18: DtypeWarning: Columns (14) have mixed types. Specify dtype option on import or set low_memory=False.\n",
      "  'drug': pd.read_csv(os.path.join(root_dir, f\"DRUG{q}.txt\"), delimiter='$', encoding='ISO-8859-1'),\n"
     ]
    },
    {
     "name": "stdout",
     "output_type": "stream",
     "text": [
      "Loaded 16Q3 successfully.\n"
     ]
    },
    {
     "name": "stderr",
     "output_type": "stream",
     "text": [
      "/var/folders/1z/lz8g1zg14zv6dkhlyvsk7zvc0000gn/T/ipykernel_32080/1055847591.py:18: DtypeWarning: Columns (14,15) have mixed types. Specify dtype option on import or set low_memory=False.\n",
      "  'drug': pd.read_csv(os.path.join(root_dir, f\"DRUG{q}.txt\"), delimiter='$', encoding='ISO-8859-1'),\n"
     ]
    },
    {
     "name": "stdout",
     "output_type": "stream",
     "text": [
      "Loaded 16Q4 successfully.\n"
     ]
    },
    {
     "name": "stderr",
     "output_type": "stream",
     "text": [
      "/var/folders/1z/lz8g1zg14zv6dkhlyvsk7zvc0000gn/T/ipykernel_32080/1055847591.py:17: DtypeWarning: Columns (21) have mixed types. Specify dtype option on import or set low_memory=False.\n",
      "  'demo': pd.read_csv(os.path.join(root_dir, f\"DEMO{q}.txt\"), delimiter='$', encoding='ISO-8859-1'),\n",
      "/var/folders/1z/lz8g1zg14zv6dkhlyvsk7zvc0000gn/T/ipykernel_32080/1055847591.py:18: DtypeWarning: Columns (14) have mixed types. Specify dtype option on import or set low_memory=False.\n",
      "  'drug': pd.read_csv(os.path.join(root_dir, f\"DRUG{q}.txt\"), delimiter='$', encoding='ISO-8859-1'),\n",
      "/var/folders/1z/lz8g1zg14zv6dkhlyvsk7zvc0000gn/T/ipykernel_32080/1055847591.py:23: DtypeWarning: Columns (6) have mixed types. Specify dtype option on import or set low_memory=False.\n",
      "  'ther': pd.read_csv(os.path.join(root_dir, f\"THER{q}.txt\"), delimiter='$', encoding='ISO-8859-1'),\n"
     ]
    },
    {
     "name": "stdout",
     "output_type": "stream",
     "text": [
      "Loaded 17Q1 successfully.\n"
     ]
    },
    {
     "name": "stderr",
     "output_type": "stream",
     "text": [
      "/var/folders/1z/lz8g1zg14zv6dkhlyvsk7zvc0000gn/T/ipykernel_32080/1055847591.py:17: DtypeWarning: Columns (21) have mixed types. Specify dtype option on import or set low_memory=False.\n",
      "  'demo': pd.read_csv(os.path.join(root_dir, f\"DEMO{q}.txt\"), delimiter='$', encoding='ISO-8859-1'),\n",
      "/var/folders/1z/lz8g1zg14zv6dkhlyvsk7zvc0000gn/T/ipykernel_32080/1055847591.py:18: DtypeWarning: Columns (14) have mixed types. Specify dtype option on import or set low_memory=False.\n",
      "  'drug': pd.read_csv(os.path.join(root_dir, f\"DRUG{q}.txt\"), delimiter='$', encoding='ISO-8859-1'),\n",
      "/var/folders/1z/lz8g1zg14zv6dkhlyvsk7zvc0000gn/T/ipykernel_32080/1055847591.py:23: DtypeWarning: Columns (6) have mixed types. Specify dtype option on import or set low_memory=False.\n",
      "  'ther': pd.read_csv(os.path.join(root_dir, f\"THER{q}.txt\"), delimiter='$', encoding='ISO-8859-1'),\n"
     ]
    },
    {
     "name": "stdout",
     "output_type": "stream",
     "text": [
      "Loaded 17Q2 successfully.\n"
     ]
    },
    {
     "name": "stderr",
     "output_type": "stream",
     "text": [
      "/var/folders/1z/lz8g1zg14zv6dkhlyvsk7zvc0000gn/T/ipykernel_32080/1055847591.py:18: DtypeWarning: Columns (14) have mixed types. Specify dtype option on import or set low_memory=False.\n",
      "  'drug': pd.read_csv(os.path.join(root_dir, f\"DRUG{q}.txt\"), delimiter='$', encoding='ISO-8859-1'),\n"
     ]
    },
    {
     "name": "stdout",
     "output_type": "stream",
     "text": [
      "Loaded 17Q3 successfully.\n"
     ]
    },
    {
     "name": "stderr",
     "output_type": "stream",
     "text": [
      "/var/folders/1z/lz8g1zg14zv6dkhlyvsk7zvc0000gn/T/ipykernel_32080/1055847591.py:17: DtypeWarning: Columns (21) have mixed types. Specify dtype option on import or set low_memory=False.\n",
      "  'demo': pd.read_csv(os.path.join(root_dir, f\"DEMO{q}.txt\"), delimiter='$', encoding='ISO-8859-1'),\n",
      "/var/folders/1z/lz8g1zg14zv6dkhlyvsk7zvc0000gn/T/ipykernel_32080/1055847591.py:18: DtypeWarning: Columns (14) have mixed types. Specify dtype option on import or set low_memory=False.\n",
      "  'drug': pd.read_csv(os.path.join(root_dir, f\"DRUG{q}.txt\"), delimiter='$', encoding='ISO-8859-1'),\n",
      "/var/folders/1z/lz8g1zg14zv6dkhlyvsk7zvc0000gn/T/ipykernel_32080/1055847591.py:23: DtypeWarning: Columns (6) have mixed types. Specify dtype option on import or set low_memory=False.\n",
      "  'ther': pd.read_csv(os.path.join(root_dir, f\"THER{q}.txt\"), delimiter='$', encoding='ISO-8859-1'),\n"
     ]
    },
    {
     "name": "stdout",
     "output_type": "stream",
     "text": [
      "Loaded 17Q4 successfully.\n"
     ]
    },
    {
     "name": "stderr",
     "output_type": "stream",
     "text": [
      "/var/folders/1z/lz8g1zg14zv6dkhlyvsk7zvc0000gn/T/ipykernel_32080/1055847591.py:17: DtypeWarning: Columns (21) have mixed types. Specify dtype option on import or set low_memory=False.\n",
      "  'demo': pd.read_csv(os.path.join(root_dir, f\"DEMO{q}.txt\"), delimiter='$', encoding='ISO-8859-1'),\n",
      "/var/folders/1z/lz8g1zg14zv6dkhlyvsk7zvc0000gn/T/ipykernel_32080/1055847591.py:18: DtypeWarning: Columns (14) have mixed types. Specify dtype option on import or set low_memory=False.\n",
      "  'drug': pd.read_csv(os.path.join(root_dir, f\"DRUG{q}.txt\"), delimiter='$', encoding='ISO-8859-1'),\n",
      "/var/folders/1z/lz8g1zg14zv6dkhlyvsk7zvc0000gn/T/ipykernel_32080/1055847591.py:23: DtypeWarning: Columns (6) have mixed types. Specify dtype option on import or set low_memory=False.\n",
      "  'ther': pd.read_csv(os.path.join(root_dir, f\"THER{q}.txt\"), delimiter='$', encoding='ISO-8859-1'),\n"
     ]
    },
    {
     "name": "stdout",
     "output_type": "stream",
     "text": [
      "Loaded 18Q1 successfully.\n"
     ]
    },
    {
     "name": "stderr",
     "output_type": "stream",
     "text": [
      "/var/folders/1z/lz8g1zg14zv6dkhlyvsk7zvc0000gn/T/ipykernel_32080/1055847591.py:17: DtypeWarning: Columns (21) have mixed types. Specify dtype option on import or set low_memory=False.\n",
      "  'demo': pd.read_csv(os.path.join(root_dir, f\"DEMO{q}.txt\"), delimiter='$', encoding='ISO-8859-1'),\n",
      "/var/folders/1z/lz8g1zg14zv6dkhlyvsk7zvc0000gn/T/ipykernel_32080/1055847591.py:18: DtypeWarning: Columns (14) have mixed types. Specify dtype option on import or set low_memory=False.\n",
      "  'drug': pd.read_csv(os.path.join(root_dir, f\"DRUG{q}.txt\"), delimiter='$', encoding='ISO-8859-1'),\n",
      "/var/folders/1z/lz8g1zg14zv6dkhlyvsk7zvc0000gn/T/ipykernel_32080/1055847591.py:23: DtypeWarning: Columns (6) have mixed types. Specify dtype option on import or set low_memory=False.\n",
      "  'ther': pd.read_csv(os.path.join(root_dir, f\"THER{q}.txt\"), delimiter='$', encoding='ISO-8859-1'),\n"
     ]
    },
    {
     "name": "stdout",
     "output_type": "stream",
     "text": [
      "Loaded 18Q2 successfully.\n"
     ]
    },
    {
     "name": "stderr",
     "output_type": "stream",
     "text": [
      "/var/folders/1z/lz8g1zg14zv6dkhlyvsk7zvc0000gn/T/ipykernel_32080/1055847591.py:17: DtypeWarning: Columns (21) have mixed types. Specify dtype option on import or set low_memory=False.\n",
      "  'demo': pd.read_csv(os.path.join(root_dir, f\"DEMO{q}.txt\"), delimiter='$', encoding='ISO-8859-1'),\n",
      "/var/folders/1z/lz8g1zg14zv6dkhlyvsk7zvc0000gn/T/ipykernel_32080/1055847591.py:18: DtypeWarning: Columns (14) have mixed types. Specify dtype option on import or set low_memory=False.\n",
      "  'drug': pd.read_csv(os.path.join(root_dir, f\"DRUG{q}.txt\"), delimiter='$', encoding='ISO-8859-1'),\n",
      "/var/folders/1z/lz8g1zg14zv6dkhlyvsk7zvc0000gn/T/ipykernel_32080/1055847591.py:23: DtypeWarning: Columns (6) have mixed types. Specify dtype option on import or set low_memory=False.\n",
      "  'ther': pd.read_csv(os.path.join(root_dir, f\"THER{q}.txt\"), delimiter='$', encoding='ISO-8859-1'),\n"
     ]
    },
    {
     "name": "stdout",
     "output_type": "stream",
     "text": [
      "Loaded 18Q3 successfully.\n"
     ]
    },
    {
     "name": "stderr",
     "output_type": "stream",
     "text": [
      "/var/folders/1z/lz8g1zg14zv6dkhlyvsk7zvc0000gn/T/ipykernel_32080/1055847591.py:17: DtypeWarning: Columns (21) have mixed types. Specify dtype option on import or set low_memory=False.\n",
      "  'demo': pd.read_csv(os.path.join(root_dir, f\"DEMO{q}.txt\"), delimiter='$', encoding='ISO-8859-1'),\n",
      "/var/folders/1z/lz8g1zg14zv6dkhlyvsk7zvc0000gn/T/ipykernel_32080/1055847591.py:18: DtypeWarning: Columns (14) have mixed types. Specify dtype option on import or set low_memory=False.\n",
      "  'drug': pd.read_csv(os.path.join(root_dir, f\"DRUG{q}.txt\"), delimiter='$', encoding='ISO-8859-1'),\n",
      "/var/folders/1z/lz8g1zg14zv6dkhlyvsk7zvc0000gn/T/ipykernel_32080/1055847591.py:23: DtypeWarning: Columns (6) have mixed types. Specify dtype option on import or set low_memory=False.\n",
      "  'ther': pd.read_csv(os.path.join(root_dir, f\"THER{q}.txt\"), delimiter='$', encoding='ISO-8859-1'),\n"
     ]
    },
    {
     "name": "stdout",
     "output_type": "stream",
     "text": [
      "Loaded 18Q4 successfully.\n"
     ]
    },
    {
     "name": "stderr",
     "output_type": "stream",
     "text": [
      "/var/folders/1z/lz8g1zg14zv6dkhlyvsk7zvc0000gn/T/ipykernel_32080/1055847591.py:17: DtypeWarning: Columns (21) have mixed types. Specify dtype option on import or set low_memory=False.\n",
      "  'demo': pd.read_csv(os.path.join(root_dir, f\"DEMO{q}.txt\"), delimiter='$', encoding='ISO-8859-1'),\n",
      "/var/folders/1z/lz8g1zg14zv6dkhlyvsk7zvc0000gn/T/ipykernel_32080/1055847591.py:18: DtypeWarning: Columns (14) have mixed types. Specify dtype option on import or set low_memory=False.\n",
      "  'drug': pd.read_csv(os.path.join(root_dir, f\"DRUG{q}.txt\"), delimiter='$', encoding='ISO-8859-1'),\n",
      "/var/folders/1z/lz8g1zg14zv6dkhlyvsk7zvc0000gn/T/ipykernel_32080/1055847591.py:23: DtypeWarning: Columns (6) have mixed types. Specify dtype option on import or set low_memory=False.\n",
      "  'ther': pd.read_csv(os.path.join(root_dir, f\"THER{q}.txt\"), delimiter='$', encoding='ISO-8859-1'),\n"
     ]
    },
    {
     "name": "stdout",
     "output_type": "stream",
     "text": [
      "Loaded 19Q1 successfully.\n"
     ]
    },
    {
     "name": "stderr",
     "output_type": "stream",
     "text": [
      "/var/folders/1z/lz8g1zg14zv6dkhlyvsk7zvc0000gn/T/ipykernel_32080/1055847591.py:17: DtypeWarning: Columns (21) have mixed types. Specify dtype option on import or set low_memory=False.\n",
      "  'demo': pd.read_csv(os.path.join(root_dir, f\"DEMO{q}.txt\"), delimiter='$', encoding='ISO-8859-1'),\n",
      "/var/folders/1z/lz8g1zg14zv6dkhlyvsk7zvc0000gn/T/ipykernel_32080/1055847591.py:18: DtypeWarning: Columns (14) have mixed types. Specify dtype option on import or set low_memory=False.\n",
      "  'drug': pd.read_csv(os.path.join(root_dir, f\"DRUG{q}.txt\"), delimiter='$', encoding='ISO-8859-1'),\n",
      "/var/folders/1z/lz8g1zg14zv6dkhlyvsk7zvc0000gn/T/ipykernel_32080/1055847591.py:23: DtypeWarning: Columns (6) have mixed types. Specify dtype option on import or set low_memory=False.\n",
      "  'ther': pd.read_csv(os.path.join(root_dir, f\"THER{q}.txt\"), delimiter='$', encoding='ISO-8859-1'),\n"
     ]
    },
    {
     "name": "stdout",
     "output_type": "stream",
     "text": [
      "Loaded 19Q2 successfully.\n"
     ]
    },
    {
     "name": "stderr",
     "output_type": "stream",
     "text": [
      "/var/folders/1z/lz8g1zg14zv6dkhlyvsk7zvc0000gn/T/ipykernel_32080/1055847591.py:17: DtypeWarning: Columns (21) have mixed types. Specify dtype option on import or set low_memory=False.\n",
      "  'demo': pd.read_csv(os.path.join(root_dir, f\"DEMO{q}.txt\"), delimiter='$', encoding='ISO-8859-1'),\n",
      "/var/folders/1z/lz8g1zg14zv6dkhlyvsk7zvc0000gn/T/ipykernel_32080/1055847591.py:18: DtypeWarning: Columns (14) have mixed types. Specify dtype option on import or set low_memory=False.\n",
      "  'drug': pd.read_csv(os.path.join(root_dir, f\"DRUG{q}.txt\"), delimiter='$', encoding='ISO-8859-1'),\n",
      "/var/folders/1z/lz8g1zg14zv6dkhlyvsk7zvc0000gn/T/ipykernel_32080/1055847591.py:23: DtypeWarning: Columns (6) have mixed types. Specify dtype option on import or set low_memory=False.\n",
      "  'ther': pd.read_csv(os.path.join(root_dir, f\"THER{q}.txt\"), delimiter='$', encoding='ISO-8859-1'),\n"
     ]
    },
    {
     "name": "stdout",
     "output_type": "stream",
     "text": [
      "Loaded 19Q3 successfully.\n"
     ]
    },
    {
     "name": "stderr",
     "output_type": "stream",
     "text": [
      "/var/folders/1z/lz8g1zg14zv6dkhlyvsk7zvc0000gn/T/ipykernel_32080/1055847591.py:17: DtypeWarning: Columns (21) have mixed types. Specify dtype option on import or set low_memory=False.\n",
      "  'demo': pd.read_csv(os.path.join(root_dir, f\"DEMO{q}.txt\"), delimiter='$', encoding='ISO-8859-1'),\n",
      "/var/folders/1z/lz8g1zg14zv6dkhlyvsk7zvc0000gn/T/ipykernel_32080/1055847591.py:18: DtypeWarning: Columns (14) have mixed types. Specify dtype option on import or set low_memory=False.\n",
      "  'drug': pd.read_csv(os.path.join(root_dir, f\"DRUG{q}.txt\"), delimiter='$', encoding='ISO-8859-1'),\n",
      "/var/folders/1z/lz8g1zg14zv6dkhlyvsk7zvc0000gn/T/ipykernel_32080/1055847591.py:23: DtypeWarning: Columns (6) have mixed types. Specify dtype option on import or set low_memory=False.\n",
      "  'ther': pd.read_csv(os.path.join(root_dir, f\"THER{q}.txt\"), delimiter='$', encoding='ISO-8859-1'),\n"
     ]
    },
    {
     "name": "stdout",
     "output_type": "stream",
     "text": [
      "Loaded 19Q4 successfully.\n"
     ]
    },
    {
     "name": "stderr",
     "output_type": "stream",
     "text": [
      "/var/folders/1z/lz8g1zg14zv6dkhlyvsk7zvc0000gn/T/ipykernel_32080/1055847591.py:17: DtypeWarning: Columns (21) have mixed types. Specify dtype option on import or set low_memory=False.\n",
      "  'demo': pd.read_csv(os.path.join(root_dir, f\"DEMO{q}.txt\"), delimiter='$', encoding='ISO-8859-1'),\n",
      "/var/folders/1z/lz8g1zg14zv6dkhlyvsk7zvc0000gn/T/ipykernel_32080/1055847591.py:18: DtypeWarning: Columns (14) have mixed types. Specify dtype option on import or set low_memory=False.\n",
      "  'drug': pd.read_csv(os.path.join(root_dir, f\"DRUG{q}.txt\"), delimiter='$', encoding='ISO-8859-1'),\n",
      "/var/folders/1z/lz8g1zg14zv6dkhlyvsk7zvc0000gn/T/ipykernel_32080/1055847591.py:23: DtypeWarning: Columns (6) have mixed types. Specify dtype option on import or set low_memory=False.\n",
      "  'ther': pd.read_csv(os.path.join(root_dir, f\"THER{q}.txt\"), delimiter='$', encoding='ISO-8859-1'),\n"
     ]
    },
    {
     "name": "stdout",
     "output_type": "stream",
     "text": [
      "Loaded 20Q1 successfully.\n"
     ]
    },
    {
     "name": "stderr",
     "output_type": "stream",
     "text": [
      "/var/folders/1z/lz8g1zg14zv6dkhlyvsk7zvc0000gn/T/ipykernel_32080/1055847591.py:17: DtypeWarning: Columns (21) have mixed types. Specify dtype option on import or set low_memory=False.\n",
      "  'demo': pd.read_csv(os.path.join(root_dir, f\"DEMO{q}.txt\"), delimiter='$', encoding='ISO-8859-1'),\n",
      "/var/folders/1z/lz8g1zg14zv6dkhlyvsk7zvc0000gn/T/ipykernel_32080/1055847591.py:18: DtypeWarning: Columns (14) have mixed types. Specify dtype option on import or set low_memory=False.\n",
      "  'drug': pd.read_csv(os.path.join(root_dir, f\"DRUG{q}.txt\"), delimiter='$', encoding='ISO-8859-1'),\n",
      "/var/folders/1z/lz8g1zg14zv6dkhlyvsk7zvc0000gn/T/ipykernel_32080/1055847591.py:23: DtypeWarning: Columns (6) have mixed types. Specify dtype option on import or set low_memory=False.\n",
      "  'ther': pd.read_csv(os.path.join(root_dir, f\"THER{q}.txt\"), delimiter='$', encoding='ISO-8859-1'),\n"
     ]
    },
    {
     "name": "stdout",
     "output_type": "stream",
     "text": [
      "Loaded 20Q2 successfully.\n"
     ]
    },
    {
     "name": "stderr",
     "output_type": "stream",
     "text": [
      "/var/folders/1z/lz8g1zg14zv6dkhlyvsk7zvc0000gn/T/ipykernel_32080/1055847591.py:18: DtypeWarning: Columns (14,16) have mixed types. Specify dtype option on import or set low_memory=False.\n",
      "  'drug': pd.read_csv(os.path.join(root_dir, f\"DRUG{q}.txt\"), delimiter='$', encoding='ISO-8859-1'),\n"
     ]
    },
    {
     "name": "stdout",
     "output_type": "stream",
     "text": [
      "Loaded 20Q3 successfully.\n"
     ]
    },
    {
     "name": "stderr",
     "output_type": "stream",
     "text": [
      "/var/folders/1z/lz8g1zg14zv6dkhlyvsk7zvc0000gn/T/ipykernel_32080/1055847591.py:17: DtypeWarning: Columns (21) have mixed types. Specify dtype option on import or set low_memory=False.\n",
      "  'demo': pd.read_csv(os.path.join(root_dir, f\"DEMO{q}.txt\"), delimiter='$', encoding='ISO-8859-1'),\n",
      "/var/folders/1z/lz8g1zg14zv6dkhlyvsk7zvc0000gn/T/ipykernel_32080/1055847591.py:18: DtypeWarning: Columns (14) have mixed types. Specify dtype option on import or set low_memory=False.\n",
      "  'drug': pd.read_csv(os.path.join(root_dir, f\"DRUG{q}.txt\"), delimiter='$', encoding='ISO-8859-1'),\n",
      "/var/folders/1z/lz8g1zg14zv6dkhlyvsk7zvc0000gn/T/ipykernel_32080/1055847591.py:23: DtypeWarning: Columns (6) have mixed types. Specify dtype option on import or set low_memory=False.\n",
      "  'ther': pd.read_csv(os.path.join(root_dir, f\"THER{q}.txt\"), delimiter='$', encoding='ISO-8859-1'),\n"
     ]
    },
    {
     "name": "stdout",
     "output_type": "stream",
     "text": [
      "Loaded 20Q4 successfully.\n"
     ]
    },
    {
     "name": "stderr",
     "output_type": "stream",
     "text": [
      "/var/folders/1z/lz8g1zg14zv6dkhlyvsk7zvc0000gn/T/ipykernel_32080/1055847591.py:17: DtypeWarning: Columns (21) have mixed types. Specify dtype option on import or set low_memory=False.\n",
      "  'demo': pd.read_csv(os.path.join(root_dir, f\"DEMO{q}.txt\"), delimiter='$', encoding='ISO-8859-1'),\n",
      "/var/folders/1z/lz8g1zg14zv6dkhlyvsk7zvc0000gn/T/ipykernel_32080/1055847591.py:23: DtypeWarning: Columns (6) have mixed types. Specify dtype option on import or set low_memory=False.\n",
      "  'ther': pd.read_csv(os.path.join(root_dir, f\"THER{q}.txt\"), delimiter='$', encoding='ISO-8859-1'),\n"
     ]
    },
    {
     "name": "stdout",
     "output_type": "stream",
     "text": [
      "Loaded 21Q1 successfully.\n"
     ]
    },
    {
     "name": "stderr",
     "output_type": "stream",
     "text": [
      "/var/folders/1z/lz8g1zg14zv6dkhlyvsk7zvc0000gn/T/ipykernel_32080/1055847591.py:17: DtypeWarning: Columns (21) have mixed types. Specify dtype option on import or set low_memory=False.\n",
      "  'demo': pd.read_csv(os.path.join(root_dir, f\"DEMO{q}.txt\"), delimiter='$', encoding='ISO-8859-1'),\n",
      "/var/folders/1z/lz8g1zg14zv6dkhlyvsk7zvc0000gn/T/ipykernel_32080/1055847591.py:18: DtypeWarning: Columns (14) have mixed types. Specify dtype option on import or set low_memory=False.\n",
      "  'drug': pd.read_csv(os.path.join(root_dir, f\"DRUG{q}.txt\"), delimiter='$', encoding='ISO-8859-1'),\n",
      "/var/folders/1z/lz8g1zg14zv6dkhlyvsk7zvc0000gn/T/ipykernel_32080/1055847591.py:23: DtypeWarning: Columns (6) have mixed types. Specify dtype option on import or set low_memory=False.\n",
      "  'ther': pd.read_csv(os.path.join(root_dir, f\"THER{q}.txt\"), delimiter='$', encoding='ISO-8859-1'),\n"
     ]
    },
    {
     "name": "stdout",
     "output_type": "stream",
     "text": [
      "Loaded 21Q2 successfully.\n"
     ]
    },
    {
     "name": "stderr",
     "output_type": "stream",
     "text": [
      "/var/folders/1z/lz8g1zg14zv6dkhlyvsk7zvc0000gn/T/ipykernel_32080/1055847591.py:17: DtypeWarning: Columns (21) have mixed types. Specify dtype option on import or set low_memory=False.\n",
      "  'demo': pd.read_csv(os.path.join(root_dir, f\"DEMO{q}.txt\"), delimiter='$', encoding='ISO-8859-1'),\n",
      "/var/folders/1z/lz8g1zg14zv6dkhlyvsk7zvc0000gn/T/ipykernel_32080/1055847591.py:18: DtypeWarning: Columns (14) have mixed types. Specify dtype option on import or set low_memory=False.\n",
      "  'drug': pd.read_csv(os.path.join(root_dir, f\"DRUG{q}.txt\"), delimiter='$', encoding='ISO-8859-1'),\n",
      "/var/folders/1z/lz8g1zg14zv6dkhlyvsk7zvc0000gn/T/ipykernel_32080/1055847591.py:23: DtypeWarning: Columns (6) have mixed types. Specify dtype option on import or set low_memory=False.\n",
      "  'ther': pd.read_csv(os.path.join(root_dir, f\"THER{q}.txt\"), delimiter='$', encoding='ISO-8859-1'),\n"
     ]
    },
    {
     "name": "stdout",
     "output_type": "stream",
     "text": [
      "Loaded 21Q3 successfully.\n"
     ]
    },
    {
     "name": "stderr",
     "output_type": "stream",
     "text": [
      "/var/folders/1z/lz8g1zg14zv6dkhlyvsk7zvc0000gn/T/ipykernel_32080/1055847591.py:17: DtypeWarning: Columns (21) have mixed types. Specify dtype option on import or set low_memory=False.\n",
      "  'demo': pd.read_csv(os.path.join(root_dir, f\"DEMO{q}.txt\"), delimiter='$', encoding='ISO-8859-1'),\n"
     ]
    },
    {
     "name": "stdout",
     "output_type": "stream",
     "text": [
      "Loaded 21Q4 successfully.\n"
     ]
    },
    {
     "name": "stderr",
     "output_type": "stream",
     "text": [
      "/var/folders/1z/lz8g1zg14zv6dkhlyvsk7zvc0000gn/T/ipykernel_32080/1055847591.py:17: DtypeWarning: Columns (21) have mixed types. Specify dtype option on import or set low_memory=False.\n",
      "  'demo': pd.read_csv(os.path.join(root_dir, f\"DEMO{q}.txt\"), delimiter='$', encoding='ISO-8859-1'),\n"
     ]
    },
    {
     "name": "stdout",
     "output_type": "stream",
     "text": [
      "Loaded 22Q1 successfully.\n"
     ]
    },
    {
     "name": "stderr",
     "output_type": "stream",
     "text": [
      "/var/folders/1z/lz8g1zg14zv6dkhlyvsk7zvc0000gn/T/ipykernel_32080/1055847591.py:17: DtypeWarning: Columns (21) have mixed types. Specify dtype option on import or set low_memory=False.\n",
      "  'demo': pd.read_csv(os.path.join(root_dir, f\"DEMO{q}.txt\"), delimiter='$', encoding='ISO-8859-1'),\n"
     ]
    },
    {
     "name": "stdout",
     "output_type": "stream",
     "text": [
      "Loaded 22Q2 successfully.\n"
     ]
    },
    {
     "name": "stderr",
     "output_type": "stream",
     "text": [
      "/var/folders/1z/lz8g1zg14zv6dkhlyvsk7zvc0000gn/T/ipykernel_32080/1055847591.py:17: DtypeWarning: Columns (21) have mixed types. Specify dtype option on import or set low_memory=False.\n",
      "  'demo': pd.read_csv(os.path.join(root_dir, f\"DEMO{q}.txt\"), delimiter='$', encoding='ISO-8859-1'),\n"
     ]
    },
    {
     "name": "stdout",
     "output_type": "stream",
     "text": [
      "Loaded 22Q3 successfully.\n"
     ]
    },
    {
     "name": "stderr",
     "output_type": "stream",
     "text": [
      "/var/folders/1z/lz8g1zg14zv6dkhlyvsk7zvc0000gn/T/ipykernel_32080/1055847591.py:17: DtypeWarning: Columns (21) have mixed types. Specify dtype option on import or set low_memory=False.\n",
      "  'demo': pd.read_csv(os.path.join(root_dir, f\"DEMO{q}.txt\"), delimiter='$', encoding='ISO-8859-1'),\n"
     ]
    },
    {
     "name": "stdout",
     "output_type": "stream",
     "text": [
      "Loaded 22Q4 successfully.\n"
     ]
    },
    {
     "name": "stderr",
     "output_type": "stream",
     "text": [
      "/var/folders/1z/lz8g1zg14zv6dkhlyvsk7zvc0000gn/T/ipykernel_32080/1055847591.py:17: DtypeWarning: Columns (21) have mixed types. Specify dtype option on import or set low_memory=False.\n",
      "  'demo': pd.read_csv(os.path.join(root_dir, f\"DEMO{q}.txt\"), delimiter='$', encoding='ISO-8859-1'),\n"
     ]
    },
    {
     "name": "stdout",
     "output_type": "stream",
     "text": [
      "Loaded 23Q1 successfully.\n"
     ]
    },
    {
     "name": "stderr",
     "output_type": "stream",
     "text": [
      "/var/folders/1z/lz8g1zg14zv6dkhlyvsk7zvc0000gn/T/ipykernel_32080/1055847591.py:17: DtypeWarning: Columns (21) have mixed types. Specify dtype option on import or set low_memory=False.\n",
      "  'demo': pd.read_csv(os.path.join(root_dir, f\"DEMO{q}.txt\"), delimiter='$', encoding='ISO-8859-1'),\n"
     ]
    },
    {
     "name": "stdout",
     "output_type": "stream",
     "text": [
      "Loaded 23Q2 successfully.\n"
     ]
    },
    {
     "name": "stderr",
     "output_type": "stream",
     "text": [
      "/var/folders/1z/lz8g1zg14zv6dkhlyvsk7zvc0000gn/T/ipykernel_32080/1055847591.py:17: DtypeWarning: Columns (21) have mixed types. Specify dtype option on import or set low_memory=False.\n",
      "  'demo': pd.read_csv(os.path.join(root_dir, f\"DEMO{q}.txt\"), delimiter='$', encoding='ISO-8859-1'),\n"
     ]
    },
    {
     "name": "stdout",
     "output_type": "stream",
     "text": [
      "Loaded 23Q3 successfully.\n"
     ]
    },
    {
     "name": "stderr",
     "output_type": "stream",
     "text": [
      "/var/folders/1z/lz8g1zg14zv6dkhlyvsk7zvc0000gn/T/ipykernel_32080/1055847591.py:17: DtypeWarning: Columns (21) have mixed types. Specify dtype option on import or set low_memory=False.\n",
      "  'demo': pd.read_csv(os.path.join(root_dir, f\"DEMO{q}.txt\"), delimiter='$', encoding='ISO-8859-1'),\n"
     ]
    },
    {
     "name": "stdout",
     "output_type": "stream",
     "text": [
      "Loaded 23Q4 successfully.\n"
     ]
    },
    {
     "name": "stderr",
     "output_type": "stream",
     "text": [
      "/var/folders/1z/lz8g1zg14zv6dkhlyvsk7zvc0000gn/T/ipykernel_32080/1055847591.py:17: DtypeWarning: Columns (21) have mixed types. Specify dtype option on import or set low_memory=False.\n",
      "  'demo': pd.read_csv(os.path.join(root_dir, f\"DEMO{q}.txt\"), delimiter='$', encoding='ISO-8859-1'),\n"
     ]
    },
    {
     "name": "stdout",
     "output_type": "stream",
     "text": [
      "Loaded 24Q1 successfully.\n"
     ]
    },
    {
     "name": "stderr",
     "output_type": "stream",
     "text": [
      "/var/folders/1z/lz8g1zg14zv6dkhlyvsk7zvc0000gn/T/ipykernel_32080/1055847591.py:17: DtypeWarning: Columns (21) have mixed types. Specify dtype option on import or set low_memory=False.\n",
      "  'demo': pd.read_csv(os.path.join(root_dir, f\"DEMO{q}.txt\"), delimiter='$', encoding='ISO-8859-1'),\n",
      "/var/folders/1z/lz8g1zg14zv6dkhlyvsk7zvc0000gn/T/ipykernel_32080/1055847591.py:18: DtypeWarning: Columns (15) have mixed types. Specify dtype option on import or set low_memory=False.\n",
      "  'drug': pd.read_csv(os.path.join(root_dir, f\"DRUG{q}.txt\"), delimiter='$', encoding='ISO-8859-1'),\n"
     ]
    },
    {
     "name": "stdout",
     "output_type": "stream",
     "text": [
      "Loaded 24Q2 successfully.\n"
     ]
    },
    {
     "name": "stderr",
     "output_type": "stream",
     "text": [
      "/var/folders/1z/lz8g1zg14zv6dkhlyvsk7zvc0000gn/T/ipykernel_32080/1055847591.py:17: DtypeWarning: Columns (21) have mixed types. Specify dtype option on import or set low_memory=False.\n",
      "  'demo': pd.read_csv(os.path.join(root_dir, f\"DEMO{q}.txt\"), delimiter='$', encoding='ISO-8859-1'),\n"
     ]
    },
    {
     "name": "stdout",
     "output_type": "stream",
     "text": [
      "Loaded 24Q3 successfully.\n"
     ]
    },
    {
     "name": "stderr",
     "output_type": "stream",
     "text": [
      "/var/folders/1z/lz8g1zg14zv6dkhlyvsk7zvc0000gn/T/ipykernel_32080/1055847591.py:17: DtypeWarning: Columns (21) have mixed types. Specify dtype option on import or set low_memory=False.\n",
      "  'demo': pd.read_csv(os.path.join(root_dir, f\"DEMO{q}.txt\"), delimiter='$', encoding='ISO-8859-1'),\n",
      "/var/folders/1z/lz8g1zg14zv6dkhlyvsk7zvc0000gn/T/ipykernel_32080/1055847591.py:18: DtypeWarning: Columns (15) have mixed types. Specify dtype option on import or set low_memory=False.\n",
      "  'drug': pd.read_csv(os.path.join(root_dir, f\"DRUG{q}.txt\"), delimiter='$', encoding='ISO-8859-1'),\n"
     ]
    },
    {
     "name": "stdout",
     "output_type": "stream",
     "text": [
      "Loaded 24Q4 successfully.\n"
     ]
    },
    {
     "name": "stderr",
     "output_type": "stream",
     "text": [
      "/var/folders/1z/lz8g1zg14zv6dkhlyvsk7zvc0000gn/T/ipykernel_32080/1055847591.py:17: DtypeWarning: Columns (21) have mixed types. Specify dtype option on import or set low_memory=False.\n",
      "  'demo': pd.read_csv(os.path.join(root_dir, f\"DEMO{q}.txt\"), delimiter='$', encoding='ISO-8859-1'),\n"
     ]
    },
    {
     "name": "stdout",
     "output_type": "stream",
     "text": [
      "Loaded 25Q1 successfully.\n"
     ]
    }
   ],
   "source": [
    "root_dir = '/Users/jodie/Documents/BMI 212/faers-cohort-generation/FAERS-data-toolkit-master/FAERSdata'\n",
    "data = download_faer_files(root_dir)\n"
   ]
  },
  {
   "cell_type": "code",
   "execution_count": 27,
   "id": "1a57c6c2-1056-4ac2-9b92-38ef9ab3f16f",
   "metadata": {},
   "outputs": [],
   "source": [
    "start_year = 2024\n",
    "start_quarter = 'Q1'\n",
    "end_year = 2024\n",
    "end_quarter = 'Q1'\n",
    "\n",
    "demo, drug, reac, outc, indi, rpsr, ther = create_dataframes(start_year, start_quarter, end_year, end_quarter)\n"
   ]
  },
  {
   "cell_type": "code",
   "execution_count": 28,
   "id": "4ddd7b35-7d34-4443-b2b2-24bfb5598a11",
   "metadata": {},
   "outputs": [],
   "source": [
    "demo = preprocess_demo_df(demo)\n",
    "drug = preprocess_drug_df(drug)\n",
    "reac = preprocess_reac_df(reac)\n"
   ]
  },
  {
   "cell_type": "code",
   "execution_count": 30,
   "id": "ef7072d2-ad03-433a-92a2-4bc1e1d13eee",
   "metadata": {},
   "outputs": [],
   "source": [
    "query_drug = 'edaravone'\n",
    "\n",
    "drug = pd.merge(drug, demo, on='primaryid', how='left')\n",
    "\n",
    "# Finds reports related to the query drug\n",
    "query_drug_df = drug[\n",
    "    drug['drugname'].str.lower().str.contains(query_drug, na=False) |\n",
    "    drug['prod_ai'].str.lower().str.contains(query_drug, na=False)\n",
    "]"
   ]
  },
  {
   "cell_type": "code",
   "execution_count": 31,
   "id": "0ce5c8b1-e79a-4107-8db2-1779ea7500ea",
   "metadata": {},
   "outputs": [
    {
     "data": {
      "text/html": [
       "<div>\n",
       "<style scoped>\n",
       "    .dataframe tbody tr th:only-of-type {\n",
       "        vertical-align: middle;\n",
       "    }\n",
       "\n",
       "    .dataframe tbody tr th {\n",
       "        vertical-align: top;\n",
       "    }\n",
       "\n",
       "    .dataframe thead th {\n",
       "        text-align: right;\n",
       "    }\n",
       "</style>\n",
       "<table border=\"1\" class=\"dataframe\">\n",
       "  <thead>\n",
       "    <tr style=\"text-align: right;\">\n",
       "      <th></th>\n",
       "      <th>primaryid</th>\n",
       "      <th>caseid_x</th>\n",
       "      <th>role_cod</th>\n",
       "      <th>drugname</th>\n",
       "      <th>prod_ai</th>\n",
       "      <th>caseid_y</th>\n",
       "      <th>caseversion</th>\n",
       "      <th>age</th>\n",
       "      <th>sex</th>\n",
       "      <th>wt</th>\n",
       "    </tr>\n",
       "  </thead>\n",
       "  <tbody>\n",
       "    <tr>\n",
       "      <th>42622</th>\n",
       "      <td>226230622</td>\n",
       "      <td>22623062</td>\n",
       "      <td>PS</td>\n",
       "      <td>radicava ors</td>\n",
       "      <td>EDARAVONE</td>\n",
       "      <td>NaN</td>\n",
       "      <td>NaN</td>\n",
       "      <td>NaN</td>\n",
       "      <td>NaN</td>\n",
       "      <td>NaN</td>\n",
       "    </tr>\n",
       "    <tr>\n",
       "      <th>45502</th>\n",
       "      <td>227044184</td>\n",
       "      <td>22704418</td>\n",
       "      <td>PS</td>\n",
       "      <td>edaravone</td>\n",
       "      <td>EDARAVONE</td>\n",
       "      <td>22704418.0</td>\n",
       "      <td>4.0</td>\n",
       "      <td>69.0</td>\n",
       "      <td>F</td>\n",
       "      <td>NaN</td>\n",
       "    </tr>\n",
       "    <tr>\n",
       "      <th>49057</th>\n",
       "      <td>228023685</td>\n",
       "      <td>22802368</td>\n",
       "      <td>PS</td>\n",
       "      <td>edaravone</td>\n",
       "      <td>EDARAVONE</td>\n",
       "      <td>22802368.0</td>\n",
       "      <td>5.0</td>\n",
       "      <td>86.0</td>\n",
       "      <td>M</td>\n",
       "      <td>NaN</td>\n",
       "    </tr>\n",
       "    <tr>\n",
       "      <th>74696</th>\n",
       "      <td>232449572</td>\n",
       "      <td>23244957</td>\n",
       "      <td>PS</td>\n",
       "      <td>edaravone</td>\n",
       "      <td>EDARAVONE</td>\n",
       "      <td>NaN</td>\n",
       "      <td>NaN</td>\n",
       "      <td>NaN</td>\n",
       "      <td>NaN</td>\n",
       "      <td>NaN</td>\n",
       "    </tr>\n",
       "    <tr>\n",
       "      <th>77305</th>\n",
       "      <td>232688512</td>\n",
       "      <td>23268851</td>\n",
       "      <td>PS</td>\n",
       "      <td>edaravone</td>\n",
       "      <td>EDARAVONE</td>\n",
       "      <td>23268851.0</td>\n",
       "      <td>2.0</td>\n",
       "      <td>60.0</td>\n",
       "      <td>M</td>\n",
       "      <td>NaN</td>\n",
       "    </tr>\n",
       "    <tr>\n",
       "      <th>...</th>\n",
       "      <td>...</td>\n",
       "      <td>...</td>\n",
       "      <td>...</td>\n",
       "      <td>...</td>\n",
       "      <td>...</td>\n",
       "      <td>...</td>\n",
       "      <td>...</td>\n",
       "      <td>...</td>\n",
       "      <td>...</td>\n",
       "      <td>...</td>\n",
       "    </tr>\n",
       "    <tr>\n",
       "      <th>375654</th>\n",
       "      <td>236561181</td>\n",
       "      <td>23656118</td>\n",
       "      <td>PS</td>\n",
       "      <td>radicava ors</td>\n",
       "      <td>EDARAVONE</td>\n",
       "      <td>NaN</td>\n",
       "      <td>NaN</td>\n",
       "      <td>NaN</td>\n",
       "      <td>NaN</td>\n",
       "      <td>NaN</td>\n",
       "    </tr>\n",
       "    <tr>\n",
       "      <th>375655</th>\n",
       "      <td>236561191</td>\n",
       "      <td>23656119</td>\n",
       "      <td>PS</td>\n",
       "      <td>radicava ors</td>\n",
       "      <td>EDARAVONE</td>\n",
       "      <td>NaN</td>\n",
       "      <td>NaN</td>\n",
       "      <td>NaN</td>\n",
       "      <td>NaN</td>\n",
       "      <td>NaN</td>\n",
       "    </tr>\n",
       "    <tr>\n",
       "      <th>385129</th>\n",
       "      <td>236665261</td>\n",
       "      <td>23666526</td>\n",
       "      <td>PS</td>\n",
       "      <td>radicava</td>\n",
       "      <td>EDARAVONE</td>\n",
       "      <td>NaN</td>\n",
       "      <td>NaN</td>\n",
       "      <td>NaN</td>\n",
       "      <td>NaN</td>\n",
       "      <td>NaN</td>\n",
       "    </tr>\n",
       "    <tr>\n",
       "      <th>385130</th>\n",
       "      <td>236665271</td>\n",
       "      <td>23666527</td>\n",
       "      <td>PS</td>\n",
       "      <td>radicava</td>\n",
       "      <td>EDARAVONE</td>\n",
       "      <td>NaN</td>\n",
       "      <td>NaN</td>\n",
       "      <td>NaN</td>\n",
       "      <td>NaN</td>\n",
       "      <td>NaN</td>\n",
       "    </tr>\n",
       "    <tr>\n",
       "      <th>385636</th>\n",
       "      <td>236670691</td>\n",
       "      <td>23667069</td>\n",
       "      <td>PS</td>\n",
       "      <td>radicava ors</td>\n",
       "      <td>EDARAVONE</td>\n",
       "      <td>NaN</td>\n",
       "      <td>NaN</td>\n",
       "      <td>NaN</td>\n",
       "      <td>NaN</td>\n",
       "      <td>NaN</td>\n",
       "    </tr>\n",
       "  </tbody>\n",
       "</table>\n",
       "<p>123 rows × 10 columns</p>\n",
       "</div>"
      ],
      "text/plain": [
       "        primaryid  caseid_x role_cod      drugname    prod_ai    caseid_y  \\\n",
       "42622   226230622  22623062       PS  radicava ors  EDARAVONE         NaN   \n",
       "45502   227044184  22704418       PS     edaravone  EDARAVONE  22704418.0   \n",
       "49057   228023685  22802368       PS     edaravone  EDARAVONE  22802368.0   \n",
       "74696   232449572  23244957       PS     edaravone  EDARAVONE         NaN   \n",
       "77305   232688512  23268851       PS     edaravone  EDARAVONE  23268851.0   \n",
       "...           ...       ...      ...           ...        ...         ...   \n",
       "375654  236561181  23656118       PS  radicava ors  EDARAVONE         NaN   \n",
       "375655  236561191  23656119       PS  radicava ors  EDARAVONE         NaN   \n",
       "385129  236665261  23666526       PS      radicava  EDARAVONE         NaN   \n",
       "385130  236665271  23666527       PS      radicava  EDARAVONE         NaN   \n",
       "385636  236670691  23667069       PS  radicava ors  EDARAVONE         NaN   \n",
       "\n",
       "        caseversion   age  sex  wt  \n",
       "42622           NaN   NaN  NaN NaN  \n",
       "45502           4.0  69.0    F NaN  \n",
       "49057           5.0  86.0    M NaN  \n",
       "74696           NaN   NaN  NaN NaN  \n",
       "77305           2.0  60.0    M NaN  \n",
       "...             ...   ...  ...  ..  \n",
       "375654          NaN   NaN  NaN NaN  \n",
       "375655          NaN   NaN  NaN NaN  \n",
       "385129          NaN   NaN  NaN NaN  \n",
       "385130          NaN   NaN  NaN NaN  \n",
       "385636          NaN   NaN  NaN NaN  \n",
       "\n",
       "[123 rows x 10 columns]"
      ]
     },
     "execution_count": 31,
     "metadata": {},
     "output_type": "execute_result"
    }
   ],
   "source": [
    "query_drug_df"
   ]
  },
  {
   "cell_type": "code",
   "execution_count": 32,
   "id": "17668eea-77ea-4d81-bdbe-7502a95cbfd7",
   "metadata": {},
   "outputs": [],
   "source": [
    "# Get AE counts for cases where query drug is mentioned\n",
    "query_drug_ids = query_drug_df['primaryid'].unique()\n",
    "query_drug_reac = reac[reac['primaryid'].isin(query_drug_ids)]\n",
    "ae_counts = query_drug_reac['pt'].value_counts().reset_index()\n",
    "ae_counts.columns = ['Adverse_Event', 'Count']\n",
    "\n",
    "# Get AE counts for cases where query drug is not mentioned\n",
    "non_query_drug = drug[~drug['primaryid'].isin(query_drug_ids)]\n",
    "non_query_ids = non_query_drug['primaryid'].unique()\n",
    "non_query_reac = reac[reac['primaryid'].isin(non_query_ids)]\n",
    "non_ae_counts = non_query_reac['pt'].value_counts().reset_index()\n",
    "non_ae_counts.columns = ['Adverse_Event', 'Count']\n",
    "\n",
    "ae_counts.columns = ['Adverse_Event', 'Count_query_drug']\n",
    "non_ae_counts.columns = ['Adverse_Event', 'Count_non_query_drug']\n",
    "\n",
    "# Merge AE counts for query drug and non-query drug\n",
    "ae_comparison = pd.merge(\n",
    "    ae_counts,\n",
    "    non_ae_counts,\n",
    "    on='Adverse_Event',\n",
    "    how='outer'\n",
    ")\n",
    "\n",
    "# Filter to AEs with at least 3 reports for the query drug\n",
    "ae_filtered = ae_comparison[\n",
    "    (ae_comparison['Count_query_drug'].notna()) &\n",
    "    (ae_comparison['Count_query_drug'] >= 3)\n",
    "].copy()"
   ]
  },
  {
   "cell_type": "code",
   "execution_count": 33,
   "id": "dcd0fb99-0bf3-4d14-a0bd-d486d8a0e6cf",
   "metadata": {},
   "outputs": [],
   "source": [
    "# Calculates the number of reports that did not include a specific adverse\n",
    "# event for both the query drug and non-query drugs\n",
    "query_num = query_drug_ids.shape[0]\n",
    "non_num = non_query_ids.shape[0]\n",
    "ae_filtered['No_AE_query_drug'] = query_num - ae_filtered['Count_query_drug']\n",
    "ae_filtered['No_AE_non_query_drug'] = non_num - ae_filtered['Count_non_query_drug']\n"
   ]
  },
  {
   "cell_type": "code",
   "execution_count": 34,
   "id": "2813e6b9-2446-400d-9c91-ab1e63d2b0b4",
   "metadata": {},
   "outputs": [
    {
     "name": "stdout",
     "output_type": "stream",
     "text": [
      "                                          Adverse_Event  Count_query_drug  \\\n",
      "493                       amyotrophic lateral sclerosis              11.0   \n",
      "2216                               cerebral haemorrhage               3.0   \n",
      "2219                                cerebral infarction               6.0   \n",
      "3019                                              death              29.0   \n",
      "3322                                disease progression              23.0   \n",
      "3542                                           dyspnoea               3.0   \n",
      "4569                          gastrointestinal disorder               3.0   \n",
      "4995                                           headache               4.0   \n",
      "5713   inappropriate schedule of product administration               3.0   \n",
      "6820                                            malaise               3.0   \n",
      "8006                                      off label use               5.0   \n",
      "8909                               pneumonia aspiration               5.0   \n",
      "10569                                   speech disorder               4.0   \n",
      "\n",
      "       Count_non_query_drug  No_AE_query_drug  No_AE_non_query_drug  \\\n",
      "493                      26             112.0                406035   \n",
      "2216                    512             120.0                405549   \n",
      "2219                    330             117.0                405731   \n",
      "3019                  15878              94.0                390183   \n",
      "3322                   2712             100.0                403349   \n",
      "3542                  11803             120.0                394258   \n",
      "4569                   3094             120.0                402967   \n",
      "4995                  13232             119.0                392829   \n",
      "5713                   9731             120.0                396330   \n",
      "6820                   9500             120.0                396561   \n",
      "8006                  34923             118.0                371138   \n",
      "8909                    499             118.0                405562   \n",
      "10569                  1048             119.0                405013   \n",
      "\n",
      "        odds_ratio  ci_lower_or  ci_upper_or          prr    se_prr  \\\n",
      "493    1566.258532   765.158082  3206.090150  1421.093427  0.341505   \n",
      "2216     22.984285     7.913066    66.760132    22.363761  0.528771   \n",
      "2219     67.911411    30.603674   150.699545    64.403958  0.385752   \n",
      "3019      7.670959     5.072157    11.601298     6.083916  0.160917   \n",
      "3322     34.770711    22.155454    54.569062    28.370617  0.186695   \n",
      "3542      0.970178     0.335141     2.808504     0.971019  0.527003   \n",
      "4569      3.782340     1.306020    10.953964     3.703806  0.527229   \n",
      "4995      1.117910     0.436098     2.865689     1.113631  0.462851   \n",
      "5713      1.182929     0.408621     3.424495     1.177766  0.527020   \n",
      "6820      1.212398     0.418799     3.509821     1.206403  0.527022   \n",
      "8006      0.493245     0.209770     1.159794     0.515722  0.416869   \n",
      "8909     37.684837    15.956149    89.003114    36.057687  0.419229   \n",
      "10569    14.546070     5.664297    37.354710    14.054479  0.463798   \n",
      "\n",
      "       ci_lower_prr  ci_upper_prr        p_value  \n",
      "493      727.659236   2775.346517   0.000000e+00  \n",
      "2216       7.933157     63.043977   2.843891e-09  \n",
      "2219      30.238031    137.173938   2.562630e-64  \n",
      "3019       4.438210      8.339857   3.414236e-28  \n",
      "3322      19.676648     40.905946  3.228674e-126  \n",
      "3542       0.345648      2.727858   9.678529e-01  \n",
      "4569       1.317837     10.409614   1.053287e-01  \n",
      "4995       0.449526      2.758848   1.000000e+00  \n",
      "5713       0.419228      3.308776   1.000000e+00  \n",
      "6820       0.429419      3.389243   1.000000e+00  \n",
      "8006       0.227808      1.167513   1.024533e-01  \n",
      "8909      15.854140     82.007400   8.314356e-29  \n",
      "10569      5.662674     34.882527   1.653187e-08  \n"
     ]
    }
   ],
   "source": [
    "ae_filtered_new = add_stats(ae_filtered)"
   ]
  },
  {
   "cell_type": "code",
   "execution_count": null,
   "id": "d9a602c4-e604-4fca-947e-be46c736f7d6",
   "metadata": {},
   "outputs": [],
   "source": []
  }
 ],
 "metadata": {
  "kernelspec": {
   "display_name": "Python 3 (ipykernel)",
   "language": "python",
   "name": "python3"
  },
  "language_info": {
   "codemirror_mode": {
    "name": "ipython",
    "version": 3
   },
   "file_extension": ".py",
   "mimetype": "text/x-python",
   "name": "python",
   "nbconvert_exporter": "python",
   "pygments_lexer": "ipython3",
   "version": "3.10.16"
  }
 },
 "nbformat": 4,
 "nbformat_minor": 5
}
