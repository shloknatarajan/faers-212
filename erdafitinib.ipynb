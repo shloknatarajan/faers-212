{
 "cells": [
  {
   "cell_type": "code",
   "execution_count": 12,
   "id": "2198ffc0",
   "metadata": {},
   "outputs": [
    {
     "ename": "NameError",
     "evalue": "name 'pd' is not defined",
     "output_type": "error",
     "traceback": [
      "\u001b[31m---------------------------------------------------------------------------\u001b[39m",
      "\u001b[31mNameError\u001b[39m                                 Traceback (most recent call last)",
      "\u001b[36mCell\u001b[39m\u001b[36m \u001b[39m\u001b[32mIn[12]\u001b[39m\u001b[32m, line 2\u001b[39m\n\u001b[32m      1\u001b[39m \u001b[38;5;28;01mfrom\u001b[39;00m\u001b[38;5;250m \u001b[39m\u001b[34;01msrc\u001b[39;00m\u001b[34;01m.\u001b[39;00m\u001b[34;01mdata_loader\u001b[39;00m\u001b[38;5;250m \u001b[39m\u001b[38;5;28;01mimport\u001b[39;00m FAERSData, FAERSDataLoader\n\u001b[32m----> \u001b[39m\u001b[32m2\u001b[39m \u001b[38;5;28;01mfrom\u001b[39;00m\u001b[38;5;250m \u001b[39m\u001b[34;01msrc\u001b[39;00m\u001b[34;01m.\u001b[39;00m\u001b[34;01mreport_downloader\u001b[39;00m\u001b[38;5;250m \u001b[39m\u001b[38;5;28;01mimport\u001b[39;00m download_quarters\n\u001b[32m      3\u001b[39m \u001b[38;5;28;01mfrom\u001b[39;00m\u001b[38;5;250m \u001b[39m\u001b[34;01msrc\u001b[39;00m\u001b[34;01m.\u001b[39;00m\u001b[34;01mdrug_search\u001b[39;00m\u001b[38;5;250m \u001b[39m\u001b[38;5;28;01mimport\u001b[39;00m filter_by_drug_name, run_indications_analysis\n",
      "\u001b[36mFile \u001b[39m\u001b[32m~/stanford/bmi212/faers-212/src/__init__.py:5\u001b[39m\n\u001b[32m      3\u001b[39m \u001b[38;5;28;01mfrom\u001b[39;00m\u001b[38;5;250m \u001b[39m\u001b[34;01m.\u001b[39;00m\u001b[34;01mmeddra_search\u001b[39;00m\u001b[38;5;250m \u001b[39m\u001b[38;5;28;01mimport\u001b[39;00m filter_by_preferred_terms\n\u001b[32m      4\u001b[39m \u001b[38;5;28;01mfrom\u001b[39;00m\u001b[38;5;250m \u001b[39m\u001b[34;01m.\u001b[39;00m\u001b[34;01mdrug_search\u001b[39;00m\u001b[38;5;250m \u001b[39m\u001b[38;5;28;01mimport\u001b[39;00m filter_by_drug_name, run_indications_analysis, extract_top_indications, filter_by_age, merge_with_demographics, merge_with_outcomes, merge_with_indications\n\u001b[32m----> \u001b[39m\u001b[32m5\u001b[39m \u001b[38;5;28;01mfrom\u001b[39;00m\u001b[38;5;250m \u001b[39m\u001b[34;01m.\u001b[39;00m\u001b[34;01mfilters\u001b[39;00m\u001b[38;5;250m \u001b[39m\u001b[38;5;28;01mimport\u001b[39;00m filter_by\n\u001b[32m      7\u001b[39m __all__ = [\n\u001b[32m      8\u001b[39m     \u001b[33m\"\u001b[39m\u001b[33mFAERSData\u001b[39m\u001b[33m\"\u001b[39m,\n\u001b[32m      9\u001b[39m     \u001b[33m\"\u001b[39m\u001b[33mFAERSDataLoader\u001b[39m\u001b[33m\"\u001b[39m,\n\u001b[32m   (...)\u001b[39m\u001b[32m     13\u001b[39m     \u001b[33m\"\u001b[39m\u001b[33mfilter_by\u001b[39m\u001b[33m\"\u001b[39m\n\u001b[32m     14\u001b[39m ]\n",
      "\u001b[36mFile \u001b[39m\u001b[32m~/stanford/bmi212/faers-212/src/filters.py:5\u001b[39m\n\u001b[32m      2\u001b[39m \u001b[38;5;28;01mfrom\u001b[39;00m\u001b[38;5;250m \u001b[39m\u001b[34;01m.\u001b[39;00m\u001b[34;01mmeddra_search\u001b[39;00m\u001b[38;5;250m \u001b[39m\u001b[38;5;28;01mimport\u001b[39;00m filter_by_preferred_terms\n\u001b[32m      3\u001b[39m \u001b[38;5;28;01mfrom\u001b[39;00m\u001b[38;5;250m \u001b[39m\u001b[34;01mtyping\u001b[39;00m\u001b[38;5;250m \u001b[39m\u001b[38;5;28;01mimport\u001b[39;00m List\n\u001b[32m----> \u001b[39m\u001b[32m5\u001b[39m \u001b[38;5;28;01mdef\u001b[39;00m\u001b[38;5;250m \u001b[39m\u001b[34mfilter_by\u001b[39m(df: \u001b[43mpd\u001b[49m.DataFrame | FAERSData, filter_type: \u001b[38;5;28mstr\u001b[39m, filter_value: \u001b[38;5;28mstr\u001b[39m | List[\u001b[38;5;28mstr\u001b[39m] | Tuple[\u001b[38;5;28mint\u001b[39m, \u001b[38;5;28mint\u001b[39m]) -> pd.DataFrame:\n\u001b[32m      6\u001b[39m     \u001b[38;5;28;01mif\u001b[39;00m filter_type == \u001b[33m\"\u001b[39m\u001b[33mdrug\u001b[39m\u001b[33m\"\u001b[39m:\n\u001b[32m      7\u001b[39m         \u001b[38;5;28;01mreturn\u001b[39;00m filter_by_drug_name(df, filter_value)\n",
      "\u001b[31mNameError\u001b[39m: name 'pd' is not defined"
     ]
    }
   ],
   "source": [
    "from src.data_loader import FAERSData, FAERSDataLoader\n",
    "from src.report_downloader import download_quarters\n",
    "from src.drug_search import filter_by_drug_name, run_indications_analysis\n"
   ]
  },
  {
   "cell_type": "code",
   "execution_count": 11,
   "id": "2b6c6004",
   "metadata": {},
   "outputs": [
    {
     "ename": "NameError",
     "evalue": "name 'download_quarters' is not defined",
     "output_type": "error",
     "traceback": [
      "\u001b[31m---------------------------------------------------------------------------\u001b[39m",
      "\u001b[31mNameError\u001b[39m                                 Traceback (most recent call last)",
      "\u001b[36mCell\u001b[39m\u001b[36m \u001b[39m\u001b[32mIn[11]\u001b[39m\u001b[32m, line 6\u001b[39m\n\u001b[32m      4\u001b[39m end_year = \u001b[32m2024\u001b[39m\n\u001b[32m      5\u001b[39m end_quarter = \u001b[32m4\u001b[39m\n\u001b[32m----> \u001b[39m\u001b[32m6\u001b[39m faers_data = \u001b[43mdownload_quarters\u001b[49m(start_year=start_year, end_year=end_year, start_quarter=start_quarter, end_quarter=end_quarter)\n",
      "\u001b[31mNameError\u001b[39m: name 'download_quarters' is not defined"
     ]
    }
   ],
   "source": [
    "# Download the Data\n",
    "start_year = 2024\n",
    "start_quarter = 1\n",
    "end_year = 2024\n",
    "end_quarter = 4\n",
    "faers_data = download_quarters(start_year=start_year, end_year=end_year, start_quarter=start_quarter, end_quarter=end_quarter)"
   ]
  },
  {
   "cell_type": "code",
   "execution_count": null,
   "id": "ab87aa48",
   "metadata": {},
   "outputs": [],
   "source": [
    "# Load after downloading\n",
    "data = load_faers_data(start_year, start_quarter, end_year, end_quarter)"
   ]
  },
  {
   "cell_type": "code",
   "execution_count": null,
   "id": "139f5429",
   "metadata": {},
   "outputs": [],
   "source": [
    "# Drugs of Interest \n",
    "query_drug = 'erdafitinib' \n",
    "min_age_yrs = 0\n",
    "max_age_yrs = 100\n",
    "min_AE_ct = 3 \n"
   ]
  }
 ],
 "metadata": {
  "kernelspec": {
   "display_name": "default",
   "language": "python",
   "name": "python3"
  },
  "language_info": {
   "codemirror_mode": {
    "name": "ipython",
    "version": 3
   },
   "file_extension": ".py",
   "mimetype": "text/x-python",
   "name": "python",
   "nbconvert_exporter": "python",
   "pygments_lexer": "ipython3",
   "version": "3.13.3"
  }
 },
 "nbformat": 4,
 "nbformat_minor": 5
}
