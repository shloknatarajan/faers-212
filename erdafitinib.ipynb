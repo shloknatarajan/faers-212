{
 "cells": [
  {
   "cell_type": "code",
   "execution_count": 23,
   "id": "53ab69cc",
   "metadata": {},
   "outputs": [],
   "source": [
    "# Run this cell: \n",
    "# The lines below will instruct jupyter to reload imported modules before \n",
    "# executing code cells. This enables you to quickly iterate and test revisions\n",
    "# to your code without having to restart the kernel and reload all of your \n",
    "# modules each time you make a code change in a separate python file.\n",
    "\n",
    "%load_ext autoreload\n",
    "%autoreload 2"
   ]
  },
  {
   "cell_type": "code",
   "execution_count": null,
   "id": "2198ffc0",
   "metadata": {},
   "outputs": [],
   "source": [
    "from src.data_loader import FAERSData, FAERSDataLoader, load_faers_data\n",
    "from src.report_downloader import download_faers_quarters\n",
    "from src.drug_search import filter_by_drug_name, run_indications_analysis\n",
    "from src.descriptive_stats import describe"
   ]
  },
  {
   "cell_type": "code",
   "execution_count": 25,
   "id": "2b6c6004",
   "metadata": {},
   "outputs": [
    {
     "name": "stderr",
     "output_type": "stream",
     "text": [
      "\u001b[32m2025-06-03 06:54:48.859\u001b[0m | \u001b[1mINFO    \u001b[0m | \u001b[36msrc.parse_quarters\u001b[0m:\u001b[36mcheck_available_online\u001b[0m:\u001b[36m94\u001b[0m - \u001b[1mAll quarters ['2024Q1', '2024Q2', '2024Q3', '2024Q4'] found on FAERS Download Page (https://fis.fda.gov/extensions/FPD-QDE-FAERS/FPD-QDE-FAERS.html)\u001b[0m\n",
      "\u001b[32m2025-06-03 06:54:49.548\u001b[0m | \u001b[1mINFO    \u001b[0m | \u001b[36msrc.report_downloader\u001b[0m:\u001b[36mdownload_quarters\u001b[0m:\u001b[36m145\u001b[0m - \u001b[1mDownloading 4 quarters\u001b[0m\n",
      "  0%|          | 0/4 [00:00<?, ?it/s]\u001b[32m2025-06-03 06:54:49.549\u001b[0m | \u001b[33m\u001b[1mWARNING \u001b[0m | \u001b[36msrc.report_downloader\u001b[0m:\u001b[36mdownload_quarter\u001b[0m:\u001b[36m169\u001b[0m - \u001b[33m\u001b[1mSkipping 2024Q1 because it already exists\u001b[0m\n",
      "\u001b[32m2025-06-03 06:54:49.549\u001b[0m | \u001b[33m\u001b[1mWARNING \u001b[0m | \u001b[36msrc.report_downloader\u001b[0m:\u001b[36mdownload_quarter\u001b[0m:\u001b[36m169\u001b[0m - \u001b[33m\u001b[1mSkipping 2024Q2 because it already exists\u001b[0m\n",
      "\u001b[32m2025-06-03 06:54:49.550\u001b[0m | \u001b[33m\u001b[1mWARNING \u001b[0m | \u001b[36msrc.report_downloader\u001b[0m:\u001b[36mdownload_quarter\u001b[0m:\u001b[36m169\u001b[0m - \u001b[33m\u001b[1mSkipping 2024Q3 because it already exists\u001b[0m\n",
      "\u001b[32m2025-06-03 06:54:49.550\u001b[0m | \u001b[33m\u001b[1mWARNING \u001b[0m | \u001b[36msrc.report_downloader\u001b[0m:\u001b[36mdownload_quarter\u001b[0m:\u001b[36m169\u001b[0m - \u001b[33m\u001b[1mSkipping 2024Q4 because it already exists\u001b[0m\n",
      "100%|██████████| 4/4 [00:00<00:00, 3384.55it/s]\n"
     ]
    }
   ],
   "source": [
    "# Download the Data\n",
    "start_year = 2024\n",
    "start_quarter = 1\n",
    "end_year = 2024\n",
    "end_quarter = 4\n",
    "faers_data = download_faers_quarters(start_year=start_year, end_year=end_year, start_quarter=start_quarter, end_quarter=end_quarter)"
   ]
  },
  {
   "cell_type": "code",
   "execution_count": 27,
   "id": "ab87aa48",
   "metadata": {},
   "outputs": [
    {
     "name": "stderr",
     "output_type": "stream",
     "text": [
      "\u001b[32m2025-06-03 06:55:03.188\u001b[0m | \u001b[1mINFO    \u001b[0m | \u001b[36msrc.parse_quarters\u001b[0m:\u001b[36mcheck_available_downloaded\u001b[0m:\u001b[36m114\u001b[0m - \u001b[1mAll quarters ['2024Q1', '2024Q2', '2024Q3', '2024Q4'] found in data/faers_reports\u001b[0m\n",
      "\u001b[32m2025-06-03 06:55:03.190\u001b[0m | \u001b[1mINFO    \u001b[0m | \u001b[36msrc.data_loader\u001b[0m:\u001b[36m_load_from_cache\u001b[0m:\u001b[36m201\u001b[0m - \u001b[1mChecking cache at data/cache/a0dbba34da2daa1700cea1799c29d354.pkl\u001b[0m\n",
      "\u001b[32m2025-06-03 06:55:03.191\u001b[0m | \u001b[1mINFO    \u001b[0m | \u001b[36msrc.data_loader\u001b[0m:\u001b[36m_load_from_cache\u001b[0m:\u001b[36m215\u001b[0m - \u001b[1mNo cached data found\u001b[0m\n",
      "Loading quarters:   0%|          | 0/4 [00:00<?, ?it/s]\u001b[32m2025-06-03 06:55:03.192\u001b[0m | \u001b[1mINFO    \u001b[0m | \u001b[36msrc.data_loader\u001b[0m:\u001b[36mload_quarters\u001b[0m:\u001b[36m167\u001b[0m - \u001b[1mLoading quarter: 2024Q1\u001b[0m\n"
     ]
    },
    {
     "name": "stderr",
     "output_type": "stream",
     "text": [
      "\u001b[32m2025-06-03 06:55:06.289\u001b[0m | \u001b[1mINFO    \u001b[0m | \u001b[36msrc.preprocessing\u001b[0m:\u001b[36mpreprocess_drug_df\u001b[0m:\u001b[36m69\u001b[0m - \u001b[1mStarting number of reports in 'drug' file: 1909327\u001b[0m\n",
      "\u001b[32m2025-06-03 06:55:06.376\u001b[0m | \u001b[1mINFO    \u001b[0m | \u001b[36msrc.preprocessing\u001b[0m:\u001b[36mpreprocess_drug_df\u001b[0m:\u001b[36m72\u001b[0m - \u001b[1mNumber of reports in the 'drug' file where drug is the primary suspect: 406273\u001b[0m\n",
      "\u001b[32m2025-06-03 06:55:06.409\u001b[0m | \u001b[1mINFO    \u001b[0m | \u001b[36msrc.preprocessing\u001b[0m:\u001b[36mpreprocess_drug_df\u001b[0m:\u001b[36m79\u001b[0m - \u001b[1mNumber of reports in the 'drug' file after unknown/null drugs are removed: 406273\u001b[0m\n",
      "\u001b[32m2025-06-03 06:55:06.520\u001b[0m | \u001b[1mINFO    \u001b[0m | \u001b[36msrc.preprocessing\u001b[0m:\u001b[36mload_rxnorm_mapping\u001b[0m:\u001b[36m43\u001b[0m - \u001b[1mLoading RxNorm mapping from: data/rxnorm_map.csv\u001b[0m\n",
      "\u001b[32m2025-06-03 06:55:07.597\u001b[0m | \u001b[1mINFO    \u001b[0m | \u001b[36msrc.preprocessing\u001b[0m:\u001b[36mpreprocess_drug_df\u001b[0m:\u001b[36m107\u001b[0m - \u001b[1mNumber of reports in the 'drug' file after rxnorm mapping: 406184\u001b[0m\n",
      "Loading quarters:  25%|██▌       | 1/4 [00:11<00:34, 11.48s/it]\u001b[32m2025-06-03 06:55:14.670\u001b[0m | \u001b[1mINFO    \u001b[0m | \u001b[36msrc.data_loader\u001b[0m:\u001b[36mload_quarters\u001b[0m:\u001b[36m167\u001b[0m - \u001b[1mLoading quarter: 2024Q2\u001b[0m\n",
      "\u001b[32m2025-06-03 06:55:17.758\u001b[0m | \u001b[1mINFO    \u001b[0m | \u001b[36msrc.preprocessing\u001b[0m:\u001b[36mpreprocess_drug_df\u001b[0m:\u001b[36m69\u001b[0m - \u001b[1mStarting number of reports in 'drug' file: 1888937\u001b[0m\n",
      "\u001b[32m2025-06-03 06:55:17.843\u001b[0m | \u001b[1mINFO    \u001b[0m | \u001b[36msrc.preprocessing\u001b[0m:\u001b[36mpreprocess_drug_df\u001b[0m:\u001b[36m72\u001b[0m - \u001b[1mNumber of reports in the 'drug' file where drug is the primary suspect: 398134\u001b[0m\n",
      "\u001b[32m2025-06-03 06:55:17.879\u001b[0m | \u001b[1mINFO    \u001b[0m | \u001b[36msrc.preprocessing\u001b[0m:\u001b[36mpreprocess_drug_df\u001b[0m:\u001b[36m79\u001b[0m - \u001b[1mNumber of reports in the 'drug' file after unknown/null drugs are removed: 398134\u001b[0m\n",
      "\u001b[32m2025-06-03 06:55:17.990\u001b[0m | \u001b[1mINFO    \u001b[0m | \u001b[36msrc.preprocessing\u001b[0m:\u001b[36mload_rxnorm_mapping\u001b[0m:\u001b[36m43\u001b[0m - \u001b[1mLoading RxNorm mapping from: data/rxnorm_map.csv\u001b[0m\n",
      "\u001b[32m2025-06-03 06:55:19.062\u001b[0m | \u001b[1mINFO    \u001b[0m | \u001b[36msrc.preprocessing\u001b[0m:\u001b[36mpreprocess_drug_df\u001b[0m:\u001b[36m107\u001b[0m - \u001b[1mNumber of reports in the 'drug' file after rxnorm mapping: 397119\u001b[0m\n",
      "Loading quarters:  50%|█████     | 2/4 [00:23<00:23, 11.70s/it]\u001b[32m2025-06-03 06:55:26.522\u001b[0m | \u001b[1mINFO    \u001b[0m | \u001b[36msrc.data_loader\u001b[0m:\u001b[36mload_quarters\u001b[0m:\u001b[36m167\u001b[0m - \u001b[1mLoading quarter: 2024Q3\u001b[0m\n",
      "\u001b[32m2025-06-03 06:55:29.751\u001b[0m | \u001b[1mINFO    \u001b[0m | \u001b[36msrc.preprocessing\u001b[0m:\u001b[36mpreprocess_drug_df\u001b[0m:\u001b[36m69\u001b[0m - \u001b[1mStarting number of reports in 'drug' file: 1907293\u001b[0m\n",
      "\u001b[32m2025-06-03 06:55:29.841\u001b[0m | \u001b[1mINFO    \u001b[0m | \u001b[36msrc.preprocessing\u001b[0m:\u001b[36mpreprocess_drug_df\u001b[0m:\u001b[36m72\u001b[0m - \u001b[1mNumber of reports in the 'drug' file where drug is the primary suspect: 408860\u001b[0m\n",
      "\u001b[32m2025-06-03 06:55:29.876\u001b[0m | \u001b[1mINFO    \u001b[0m | \u001b[36msrc.preprocessing\u001b[0m:\u001b[36mpreprocess_drug_df\u001b[0m:\u001b[36m79\u001b[0m - \u001b[1mNumber of reports in the 'drug' file after unknown/null drugs are removed: 408860\u001b[0m\n",
      "\u001b[32m2025-06-03 06:55:29.986\u001b[0m | \u001b[1mINFO    \u001b[0m | \u001b[36msrc.preprocessing\u001b[0m:\u001b[36mload_rxnorm_mapping\u001b[0m:\u001b[36m43\u001b[0m - \u001b[1mLoading RxNorm mapping from: data/rxnorm_map.csv\u001b[0m\n",
      "\u001b[32m2025-06-03 06:55:31.104\u001b[0m | \u001b[1mINFO    \u001b[0m | \u001b[36msrc.preprocessing\u001b[0m:\u001b[36mpreprocess_drug_df\u001b[0m:\u001b[36m107\u001b[0m - \u001b[1mNumber of reports in the 'drug' file after rxnorm mapping: 405512\u001b[0m\n",
      "Loading quarters:  75%|███████▌  | 3/4 [00:35<00:11, 11.94s/it]\u001b[32m2025-06-03 06:55:38.743\u001b[0m | \u001b[1mINFO    \u001b[0m | \u001b[36msrc.data_loader\u001b[0m:\u001b[36mload_quarters\u001b[0m:\u001b[36m167\u001b[0m - \u001b[1mLoading quarter: 2024Q4\u001b[0m\n",
      "\u001b[32m2025-06-03 06:55:42.193\u001b[0m | \u001b[1mINFO    \u001b[0m | \u001b[36msrc.preprocessing\u001b[0m:\u001b[36mpreprocess_drug_df\u001b[0m:\u001b[36m69\u001b[0m - \u001b[1mStarting number of reports in 'drug' file: 2030938\u001b[0m\n",
      "\u001b[32m2025-06-03 06:55:42.321\u001b[0m | \u001b[1mINFO    \u001b[0m | \u001b[36msrc.preprocessing\u001b[0m:\u001b[36mpreprocess_drug_df\u001b[0m:\u001b[36m72\u001b[0m - \u001b[1mNumber of reports in the 'drug' file where drug is the primary suspect: 434165\u001b[0m\n",
      "\u001b[32m2025-06-03 06:55:42.362\u001b[0m | \u001b[1mINFO    \u001b[0m | \u001b[36msrc.preprocessing\u001b[0m:\u001b[36mpreprocess_drug_df\u001b[0m:\u001b[36m79\u001b[0m - \u001b[1mNumber of reports in the 'drug' file after unknown/null drugs are removed: 434165\u001b[0m\n",
      "\u001b[32m2025-06-03 06:55:42.483\u001b[0m | \u001b[1mINFO    \u001b[0m | \u001b[36msrc.preprocessing\u001b[0m:\u001b[36mload_rxnorm_mapping\u001b[0m:\u001b[36m43\u001b[0m - \u001b[1mLoading RxNorm mapping from: data/rxnorm_map.csv\u001b[0m\n",
      "\u001b[32m2025-06-03 06:55:43.571\u001b[0m | \u001b[1mINFO    \u001b[0m | \u001b[36msrc.preprocessing\u001b[0m:\u001b[36mpreprocess_drug_df\u001b[0m:\u001b[36m107\u001b[0m - \u001b[1mNumber of reports in the 'drug' file after rxnorm mapping: 410849\u001b[0m\n",
      "Loading quarters: 100%|██████████| 4/4 [00:48<00:00, 12.22s/it]\n",
      "\u001b[32m2025-06-03 06:55:52.097\u001b[0m | \u001b[1mINFO    \u001b[0m | \u001b[36msrc.data_loader\u001b[0m:\u001b[36mget_data\u001b[0m:\u001b[36m231\u001b[0m - \u001b[1mSaving data to cache at data/cache/a0dbba34da2daa1700cea1799c29d354.pkl\u001b[0m\n"
     ]
    }
   ],
   "source": [
    "# Load after downloading\n",
    "data = load_faers_data(start_year=2024, start_quarter=1, end_year=2024, end_quarter=4, save_dir=\"data\")"
   ]
  },
  {
   "cell_type": "code",
   "execution_count": 28,
   "id": "139f5429",
   "metadata": {},
   "outputs": [],
   "source": [
    "# Drugs of Interest \n",
    "query_drug = 'erdafitinib' \n",
    "min_age_yrs = 0\n",
    "max_age_yrs = 100\n",
    "min_AE_ct = 3 "
   ]
  },
  {
   "cell_type": "code",
   "execution_count": 40,
   "id": "7eaae897",
   "metadata": {},
   "outputs": [
    {
     "name": "stdout",
     "output_type": "stream",
     "text": [
      "Starting analysis for drug: erdafitinib\n",
      "Age range: 0-100 years\n",
      "--------------------------------------------------\n"
     ]
    },
    {
     "name": "stderr",
     "output_type": "stream",
     "text": [
      "\u001b[32m2025-06-03 07:09:54.020\u001b[0m | \u001b[1mINFO    \u001b[0m | \u001b[36msrc.drug_search\u001b[0m:\u001b[36mfilter_by_drug_name_drug_df\u001b[0m:\u001b[36m27\u001b[0m - \u001b[1mNumber of reports for erdafitinib in 'drug' file: 152\u001b[0m\n",
      "\u001b[32m2025-06-03 07:09:54.021\u001b[0m | \u001b[1mINFO    \u001b[0m | \u001b[36msrc.drug_search\u001b[0m:\u001b[36mfilter_by_drug_name_drug_df\u001b[0m:\u001b[36m28\u001b[0m - \u001b[1mNumber of reports with same 'primaryid': 0\u001b[0m\n",
      "\u001b[32m2025-06-03 07:09:54.127\u001b[0m | \u001b[1mINFO    \u001b[0m | \u001b[36msrc.drug_search\u001b[0m:\u001b[36mmerge_with_demographics\u001b[0m:\u001b[36m49\u001b[0m - \u001b[1mNumber of reports after merging with demographics: 63\u001b[0m\n",
      "\u001b[32m2025-06-03 07:09:54.127\u001b[0m | \u001b[1mINFO    \u001b[0m | \u001b[36msrc.drug_search\u001b[0m:\u001b[36mmerge_with_demographics\u001b[0m:\u001b[36m50\u001b[0m - \u001b[1mNumber of reports with same 'primaryid': 0\u001b[0m\n",
      "\u001b[32m2025-06-03 07:09:54.233\u001b[0m | \u001b[1mINFO    \u001b[0m | \u001b[36msrc.drug_search\u001b[0m:\u001b[36mmerge_with_outcomes\u001b[0m:\u001b[36m58\u001b[0m - \u001b[1mNumber of reports after merging with outcomes: 63\u001b[0m\n",
      "\u001b[32m2025-06-03 07:09:54.773\u001b[0m | \u001b[1mINFO    \u001b[0m | \u001b[36msrc.drug_search\u001b[0m:\u001b[36mmerge_with_indications\u001b[0m:\u001b[36m72\u001b[0m - \u001b[1mNumber of reports after merging with indications: 63\u001b[0m\n",
      "\u001b[32m2025-06-03 07:09:54.774\u001b[0m | \u001b[1mINFO    \u001b[0m | \u001b[36msrc.drug_search\u001b[0m:\u001b[36mfilter_by_age\u001b[0m:\u001b[36m92\u001b[0m - \u001b[1mNumber of reports that meet age range (0-100): 63\u001b[0m\n",
      "\u001b[32m2025-06-03 07:09:54.774\u001b[0m | \u001b[1mINFO    \u001b[0m | \u001b[36msrc.drug_search\u001b[0m:\u001b[36mfilter_by_age\u001b[0m:\u001b[36m93\u001b[0m - \u001b[1mNumber of reports with same 'primaryid': 0\u001b[0m\n",
      "\u001b[32m2025-06-03 07:09:54.774\u001b[0m | \u001b[1mINFO    \u001b[0m | \u001b[36msrc.drug_search\u001b[0m:\u001b[36mextract_top_indications\u001b[0m:\u001b[36m107\u001b[0m - \u001b[1mTop 10 indications:\u001b[0m\n",
      "\u001b[32m2025-06-03 07:09:54.775\u001b[0m | \u001b[1mINFO    \u001b[0m | \u001b[36msrc.drug_search\u001b[0m:\u001b[36mextract_top_indications\u001b[0m:\u001b[36m108\u001b[0m - \u001b[1mindi_pt\n",
      "Product used for unknown indication             12\n",
      "Bladder cancer                                  12\n",
      "Transitional cell carcinoma                     12\n",
      "Metastatic carcinoma of the bladder              5\n",
      "Prostate cancer                                  2\n",
      "Chemotherapy                                     2\n",
      "Neoplasm                                         1\n",
      "Bladder transitional cell carcinoma stage IV     1\n",
      "Cholangiocarcinoma                               1\n",
      "Transitional cell carcinoma metastatic           1\n",
      "Name: count, dtype: int64\u001b[0m\n"
     ]
    },
    {
     "name": "stdout",
     "output_type": "stream",
     "text": [
      "\n",
      "==================================================\n",
      "TOP INDICATIONS ANALYSIS\n",
      "==================================================\n"
     ]
    },
    {
     "name": "stderr",
     "output_type": "stream",
     "text": [
      "\u001b[32m2025-06-03 07:09:55.080\u001b[0m | \u001b[1mINFO    \u001b[0m | \u001b[36msrc.drug_search\u001b[0m:\u001b[36mextract_top_indications\u001b[0m:\u001b[36m123\u001b[0m - \u001b[1m\n",
      "Number of reports matching top indications: 25420\u001b[0m\n"
     ]
    },
    {
     "name": "stdout",
     "output_type": "stream",
     "text": [
      "\n",
      "Final dataset shape: (63, 19)\n",
      "Analysis complete\n"
     ]
    }
   ],
   "source": [
    "indications_df = run_indications_analysis(data, query_drug, min_age_yrs, max_age_yrs)"
   ]
  },
  {
   "cell_type": "code",
   "execution_count": 54,
   "id": "c66f0595",
   "metadata": {},
   "outputs": [
    {
     "name": "stdout",
     "output_type": "stream",
     "text": [
      "====== Demographic Information ======\n",
      "Age:\n",
      "(             age\n",
      "count  63.000000\n",
      "mean   61.396825\n",
      "std    22.996171\n",
      "min     4.000000\n",
      "25%    57.000000\n",
      "50%    70.000000\n",
      "75%    76.000000\n",
      "max    91.000000, {'missing_age_count': np.int64(0)})\n",
      "\n",
      "Sex:\n",
      "     count  percent\n",
      "sex                \n",
      "M       44    69.84\n",
      "F       18    28.57\n",
      "NaN      1     1.59\n",
      "\n",
      "Reporting Delay:\n",
      "count     35.000000\n",
      "mean     101.657143\n",
      "std      120.040910\n",
      "min        1.000000\n",
      "25%       16.000000\n",
      "50%       54.000000\n",
      "75%      131.500000\n",
      "max      411.000000\n",
      "Name: reporting_delay, dtype: float64\n"
     ]
    }
   ],
   "source": [
    "describe(indications_df, 'all_demographics')"
   ]
  },
  {
   "cell_type": "code",
   "execution_count": null,
   "id": "b1213a48",
   "metadata": {},
   "outputs": [],
   "source": []
  }
 ],
 "metadata": {
  "kernelspec": {
   "display_name": "default",
   "language": "python",
   "name": "python3"
  },
  "language_info": {
   "codemirror_mode": {
    "name": "ipython",
    "version": 3
   },
   "file_extension": ".py",
   "mimetype": "text/x-python",
   "name": "python",
   "nbconvert_exporter": "python",
   "pygments_lexer": "ipython3",
   "version": "3.13.3"
  }
 },
 "nbformat": 4,
 "nbformat_minor": 5
}
