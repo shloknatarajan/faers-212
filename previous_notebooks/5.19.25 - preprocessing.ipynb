{
 "cells": [
  {
   "cell_type": "code",
   "execution_count": 25,
   "id": "806affad-c8ed-4229-a7fe-df800342b09c",
   "metadata": {},
   "outputs": [],
   "source": [
    "import pandas as pd\n",
    "import numpy as np\n",
    "import os\n",
    "import warnings\n",
    "from scipy.stats import nbinom, gamma, fisher_exact\n",
    "from scipy.special import digamma\n",
    "from scipy.optimize import minimize\n"
   ]
  },
  {
   "cell_type": "code",
   "execution_count": 26,
   "id": "f2ac2d8c-5ac1-46a5-927f-5d33971b213e",
   "metadata": {},
   "outputs": [],
   "source": [
    "def download_faer_files(root_dir):\n",
    "    # Define root directory where FAERS datasets are located\n",
    "    quarters = ['Q1', 'Q2', 'Q3', 'Q4']\n",
    "\n",
    "    # Adjust range from 2013 to 2025\n",
    "    all_quarters = [f\"{str(y)[2:]}{q}\" for y in range(2017, 2025) for q in quarters]\n",
    "\n",
    "    # Limit to only those quarters that exist (sanity check)\n",
    "    existing_quarters = [q for q in all_quarters if os.path.exists(os.path.join(root_dir, f\"DEMO{q}.txt\"))]\n",
    "\n",
    "    # Store DataFrames in a dict\n",
    "    data = {}\n",
    "\n",
    "    for q in existing_quarters:\n",
    "        try:\n",
    "            data[q] = {\n",
    "                'demo': pd.read_csv(os.path.join(root_dir, f\"DEMO{q}.txt\"), delimiter='$', encoding='ISO-8859-1'),\n",
    "                'drug': pd.read_csv(os.path.join(root_dir, f\"DRUG{q}.txt\"), delimiter='$', encoding='ISO-8859-1'),\n",
    "                'reac': pd.read_csv(os.path.join(root_dir, f\"REAC{q}.txt\"), delimiter='$', encoding='ISO-8859-1'),\n",
    "                'outc': pd.read_csv(os.path.join(root_dir, f\"OUTC{q}.txt\"), delimiter='$', encoding='ISO-8859-1'),\n",
    "                'indi': pd.read_csv(os.path.join(root_dir, f\"INDI{q}.txt\"), delimiter='$', encoding='ISO-8859-1'),\n",
    "                'rpsr': pd.read_csv(os.path.join(root_dir, f\"RPSR{q}.txt\"), delimiter='$', encoding='ISO-8859-1'),\n",
    "                'ther': pd.read_csv(os.path.join(root_dir, f\"THER{q}.txt\"), delimiter='$', encoding='ISO-8859-1'),\n",
    "            }\n",
    "            print(f\"Loaded {q} successfully.\")\n",
    "        except Exception as e:\n",
    "            print(f\"Error loading data for {q}: {e}\")\n",
    "\n",
    "    return data\n",
    "\n"
   ]
  },
  {
   "cell_type": "code",
   "execution_count": 27,
   "id": "d743291f-94df-4f82-b3c1-673ac85e0aeb",
   "metadata": {},
   "outputs": [],
   "source": [
    "def generate_periods(start_year, start_quarter, end_year, end_quarter):\n",
    "    periods = []\n",
    "    quarters = ['Q1', 'Q2', 'Q3', 'Q4']\n",
    "\n",
    "    start_year = int(start_year)\n",
    "    end_year = int(end_year)\n",
    "\n",
    "    # Loop through the years and quarters to generate all periods in the range\n",
    "    for year in range(start_year, end_year + 1):\n",
    "        start_qtr = start_quarter if year == start_year else 'Q1'\n",
    "        end_qtr = end_quarter if year == end_year else 'Q4'\n",
    "\n",
    "        for qtr in quarters[quarters.index(start_qtr):quarters.index(end_qtr) + 1]:\n",
    "            periods.append(f\"{str(year)[-2:]}{qtr}\")\n",
    "    return periods\n"
   ]
  },
  {
   "cell_type": "code",
   "execution_count": 28,
   "id": "bdfaff8d-680b-4323-8603-6b9787e1736e",
   "metadata": {},
   "outputs": [],
   "source": [
    "def create_dataframes(start_year, start_quarter, end_year, end_quarter):\n",
    "    # Generate periods based on user input\n",
    "    periods = generate_periods(start_year, start_quarter, end_year, end_quarter)\n",
    "    print(periods)\n",
    "\n",
    "    # List of table types to be processed \n",
    "    table_types = ['demo', 'drug', 'reac', 'outc', 'indi', 'rpsr', 'ther']\n",
    "\n",
    "    # Initialize a dictionary to store lists of DataFrames for each table\n",
    "    data_dict = {table: [] for table in table_types}\n",
    "\n",
    "    # Loop through each period and collect data for each table type\n",
    "    for period in periods:\n",
    "        if period in data:  # Check if data for the period exists\n",
    "            for table in table_types:\n",
    "                if table in data[period]:\n",
    "                    data_dict[table].append(data[period][table])\n",
    "        else:\n",
    "            print(f\"Warning: No data available for {period}\")\n",
    "\n",
    "    # Concatenate data for each table type into a single DataFrame\n",
    "    merged_data = {\n",
    "        table: pd.concat(data_dict[table], ignore_index=True) if data_dict[table] else pd.DataFrame()\n",
    "        for table in table_types\n",
    "    }\n",
    "\n",
    "    demo = merged_data['demo']\n",
    "    drug = merged_data['drug']\n",
    "    reac = merged_data['reac']\n",
    "    outc = merged_data['outc']\n",
    "    indi = merged_data['indi']\n",
    "    rpsr = merged_data['rpsr']\n",
    "    ther = merged_data['ther']\n",
    "\n",
    "    return demo, drug, reac, outc, indi, rpsr, ther\n"
   ]
  },
  {
   "cell_type": "code",
   "execution_count": 29,
   "id": "30246cbf-1b6b-4cd0-ab28-b98beae9dc2d",
   "metadata": {},
   "outputs": [],
   "source": [
    "def preprocess_drug_df(drug):\n",
    "    drug = drug[['primaryid', 'caseid', 'role_cod', 'drugname', 'prod_ai']]\n",
    "    drug = drug[drug['role_cod'] == 'PS']\n",
    "\n",
    "    drug = drug[pd.notnull(drug['drugname'])]  # Drops Nulls\n",
    "    drug['drugname'] = drug['drugname'].str.strip().str.lower()  # Stips whitespace, Transforms to lowercase\n",
    "    drug = drug[~drug['drugname'].isin(['unknown'])]  # Drops unknowns\n",
    "    drug['drugname'] = drug['drugname'].str.replace('\\\\', '/')  # Standardizes slashes to '/'\n",
    "    drug['drugname'] = drug['drugname'].map(\n",
    "        lambda x: x[:-1] if str(x).endswith(\".\") else x)  # Removes periods at the end of drug names\n",
    "\n",
    "    return drug\n"
   ]
  },
  {
   "cell_type": "code",
   "execution_count": 30,
   "id": "180a8617-17c2-4b0a-a776-91d43ce8b2ae",
   "metadata": {},
   "outputs": [],
   "source": [
    "def preprocess_reac_df(reac):\n",
    "    reac = reac[pd.notnull(reac['pt'])] # Drops Nulls\n",
    "\n",
    "    reac['pt'] = reac['pt'].str.strip().str.lower()  # Transforms to lowercase\n",
    "    reac = reac[~reac['pt'].isin(['unknown'])]  # Drops unknowns\n",
    "    reac['pt'] = reac['pt'].map(\n",
    "        lambda x: x[:-1] if str(x).endswith(\".\") else x)  # Removes periods at the end of drug names\n",
    "\n",
    "    return reac\n"
   ]
  },
  {
   "cell_type": "code",
   "execution_count": 31,
   "id": "2bfbbfa1-5891-4694-b9e3-b5b25d2cd211",
   "metadata": {},
   "outputs": [],
   "source": [
    "def preprocess_demo_df(demo):\n",
    "    demo = demo[['primaryid', 'caseid', 'fda_dt', 'caseversion', 'age_cod', 'age', 'sex', 'wt']]\n",
    "    demo = demo.sort_values(by=['caseid', 'fda_dt', 'primaryid'], ascending=[True, False, False])\n",
    "    demo = demo.drop_duplicates(subset=['caseid'], keep='first')\n",
    "\n",
    "    \"\"\"\n",
    "    demo = demo[pd.notnull(demo['age']) \n",
    "    demo = demo[demo.age_cod != 'dec'].reset_index(drop=True)\n",
    "    demo['age'] = demo['age'].apply(pd.to_numeric, errors='coerce')\n",
    "    demo['age'] = np.where(demo['age_cod'] == 'MON', demo['age'] * 1 / 12, demo['age'])  # mounth\n",
    "    demo['age'] = np.where(demo['age_cod'] == 'WK', demo['age'] * 1 / 52, demo['age'])  # week\n",
    "    demo['age'] = np.where(demo['age_cod'] == 'DY', demo['age'] * 1 / 365, demo['age'])  # day\n",
    "    demo['age'] = np.where(demo['age_cod'] == 'HR', demo['age'] * 1 / 8760, demo['age'])  # hour\n",
    "    demo = demo.drop(['age_cod'], axis=1)\n",
    "    \"\"\" \n",
    "\n",
    "    return demo\n"
   ]
  },
  {
   "cell_type": "code",
   "execution_count": 32,
   "id": "49f475b4-689d-43f5-a341-3961fd5d524b",
   "metadata": {},
   "outputs": [],
   "source": [
    "def phv_ebgm_qn(theta_hat, N, E):\n",
    "    r1, b1, r2, b2, p = theta_hat\n",
    "    prob_f1 = b1 / (b1 + E)\n",
    "    prob_f2 = b2 / (b2 + E)\n",
    "    f1_nb = nbinom.pmf(N, n=r1, p=prob_f1)\n",
    "    f2_nb = nbinom.pmf(N, n=r2, p=prob_f2)\n",
    "    num = p * f1_nb\n",
    "    den = num + (1 - p) * f2_nb\n",
    "    return num / den\n",
    "\n",
    "def phv_ebgm_score(theta_hat, N, E, qn):\n",
    "    r1, b1, r2, b2, _ = theta_hat\n",
    "    e1 = digamma(r1 + N) - np.log(b1 + E)\n",
    "    e2 = digamma(r2 + N) - np.log(b2 + E)\n",
    "    exp_log = qn * e1 + (1 - qn) * e2\n",
    "    eb_log2 = exp_log / np.log(2)\n",
    "    return 2 ** eb_log2\n",
    "\n",
    "def phv_ebgm_quant_bisect(cut_point, theta_hat, N, E, qn,\n",
    "                          digits=2, limits=(-1e5, 1e5), max_iter=2000):\n",
    "    r1, b1, r2, b2, _ = theta_hat\n",
    "    lower, upper = limits\n",
    "    tol = 0.5 * 10 ** (-digits)\n",
    "\n",
    "    def post_cdf_minus_cp(x):\n",
    "        c1 = gamma.cdf(x, a=r1 + N, scale=1/(b1 + E))\n",
    "        c2 = gamma.cdf(x, a=r2 + N, scale=1/(b2 + E))\n",
    "        return qn * c1 + (1 - qn) * c2 - cut_point\n",
    "\n",
    "    N = np.asarray(N)\n",
    "    E = np.asarray(E)\n",
    "    qn = np.asarray(qn)\n",
    "\n",
    "    guess = np.ones_like(N, dtype=float)\n",
    "    err0 = post_cdf_minus_cp(guess)\n",
    "    is_pos = err0 > 0\n",
    "    left = np.where(is_pos, lower, guess)\n",
    "    right = np.where(is_pos, guess, upper)\n",
    "\n",
    "    for _ in range(max_iter):\n",
    "        mid = (left + right) / 2\n",
    "        err_mid = post_cdf_minus_cp(mid)\n",
    "        if np.max((right - left) / 2) < tol:\n",
    "            q = np.round(mid, digits)\n",
    "            if np.any(q == upper):\n",
    "                raise ValueError(\"increase maximum for 'limits'\")\n",
    "            return q\n",
    "        err_left = post_cdf_minus_cp(left)\n",
    "        same = np.sign(err_left) == np.sign(err_mid)\n",
    "        left = np.where(same, mid, left)\n",
    "        right = np.where(same, right, mid)\n",
    "\n",
    "    raise RuntimeError(\"failed to converge -- try adjusting 'limits' or 'max_iter'\")\n",
    "\n",
    "def dbinbinom(x, size1, prob1, size2, prob2, w):\n",
    "    return w * nbinom.pmf(x, n=size1, p=prob1) + (1 - w) * nbinom.pmf(x, n=size2, p=prob2)\n",
    "\n",
    "def phvid_objective(theta, N, E):\n",
    "    r1, b1, r2, b2, w = theta\n",
    "    prob1 = b1 / (b1 + E)\n",
    "    prob2 = b2 / (b2 + E)\n",
    "    pmf = dbinbinom(N, r1, prob1, r2, prob2, w)\n",
    "    return np.sum(-np.log(pmf + 1e-16))  # add tiny epsilon to avoid log(0)\n",
    "\n",
    "def phv_ebgm(a, b, c, d, alpha=0.05, theta_init=None, squashing=True):\n",
    "    \"\"\"\n",
    "    a, b, c, d: counts (scalars or array‐like)\n",
    "    alpha: two‐sided significance level\n",
    "    theta_init: array‐like [r1, b1, r2, b2, p] or pandas.DataFrame of guesses\n",
    "    squashing: (not implemented – placeholder)\n",
    "    \"\"\"\n",
    "    # turn inputs into arrays\n",
    "    a, b, c, d = np.broadcast_arrays(a, b, c, d)\n",
    "    if np.any(a < 0) or np.any(b < 0) or np.any(c < 0) or np.any(d < 0):\n",
    "        raise ValueError(\"a, b, c, d must be non‐negative\")\n",
    "    # total counts\n",
    "    tot = a + b + c + d\n",
    "    N = a.astype(float)\n",
    "    E = (a + b) / tot * (a + c)\n",
    "\n",
    "    # squashing placeholder\n",
    "    if squashing and np.any(a == 0):\n",
    "        warnings.warn(\"squashing=True but no squash implemented; continuing with raw counts\")\n",
    "\n",
    "    # prepare initial guess\n",
    "    if theta_init is None:\n",
    "        x0 = np.array([0.2, 0.1, 2.0, 4.0, 1/3])\n",
    "    else:\n",
    "        if isinstance(theta_init, pd.DataFrame):\n",
    "            x0 = theta_init.iloc[0].values\n",
    "        else:\n",
    "            x0 = np.asarray(theta_init, dtype=float)\n",
    "        if x0.shape[0] != 5:\n",
    "            raise ValueError(\"theta_init must have length 5\")\n",
    "\n",
    "    # bounds: r1,b1,r2,b2 > 0; p in (0,1)\n",
    "    bounds = [(1e-6, None)]*4 + [(1e-6, 1-1e-6)]\n",
    "    res = minimize(phvid_objective, x0, args=(N, E),\n",
    "                   bounds=bounds, method='L-BFGS-B')\n",
    "    if not res.success:\n",
    "        raise RuntimeError(\"hyperparameter estimation failed: \" + res.message)\n",
    "    theta_hat = res.x\n",
    "\n",
    "    # compute posterior weights, EBGM and CIs\n",
    "    qn = phv_ebgm_qn(theta_hat, N, E)\n",
    "    ebgm = phv_ebgm_score(theta_hat, N, E, qn)\n",
    "    half = alpha / 2\n",
    "    ci_low  = phv_ebgm_quant_bisect(half,      theta_hat, N, E, qn)\n",
    "    ci_high = phv_ebgm_quant_bisect(1 - half,  theta_hat, N, E, qn)\n",
    "\n",
    "    return pd.DataFrame({\n",
    "        'ebgm':   ebgm,\n",
    "        'ci_low': ci_low,\n",
    "        'ci_high':ci_high\n",
    "    })"
   ]
  },
  {
   "cell_type": "code",
   "execution_count": 50,
   "id": "cb1262c2-fe70-4cb3-9bcd-2bb769e552b2",
   "metadata": {},
   "outputs": [],
   "source": [
    "def compute_or_and_ci(a, b, c, d):\n",
    "    \"\"\"\n",
    "    Computes Odds Ratio (OR) and Confidence Interval (CI)\n",
    "    \"\"\"\n",
    "    # Odds Ratio\n",
    "    or_val = (a * d) / (b * c)\n",
    "\n",
    "    # Log(OR) and standard error\n",
    "    log_or = np.log(or_val)\n",
    "    se = np.sqrt(1 / a + 1 / b + 1 / c + 1 / d)\n",
    "\n",
    "    # Confidence Interval\n",
    "    ci_low = np.exp(log_or - 1.96 * se)\n",
    "    ci_high = np.exp(log_or + 1.96 * se)\n",
    "\n",
    "    return or_val, ci_low, ci_high\n",
    "\n",
    "\n",
    "def compute_prr_and_ci(a, b, c, d):\n",
    "    \"\"\" \n",
    "    Computes Proportional Reporting Ratio (PRR), Standard Error (SE), and Confidence Interval (CI)\n",
    "    \"\"\" \n",
    "    # Proportional Reporting Ratio (PRR)\n",
    "    prr = (a / (a + b)) / (c / (c + d))\n",
    "\n",
    "    # Standard Error (SE)\n",
    "    se = np.sqrt(1 / a + 1 / c - 1 / (a + b) - 1 / (c + d))\n",
    "\n",
    "    # Confidence Interval for PRR\n",
    "    ln_prr = np.log(prr)\n",
    "    ci_low = np.exp(ln_prr - 1.96 * se)\n",
    "    ci_high = np.exp(ln_prr + 1.96 * se)\n",
    "\n",
    "    return prr, se, ci_low, ci_high\n",
    "\n",
    "def compute_bayesian_ic(a, b, c, d,\n",
    "                        gamma_11=0.5, alpha1=0.5, beta1=0.5, \n",
    "                        alpha=2.0, beta=2.0):\n",
    "    \"\"\"\n",
    "    Compute Bayesian Information Component (IC), E(IC), V(IC), and IC-2SD\n",
    "    based on counts a, b, c, d and prior hyperparameters.\n",
    "    \n",
    "    Parameters:\n",
    "    - a, b, c, d: cell counts (can be arrays)\n",
    "    - gamma_11, alpha1, beta1, alpha, beta: prior pseudo-counts (defaults are Jeffrey's prior)\n",
    "    \n",
    "    Returns:\n",
    "    - DataFrame with E(IC), Var(IC), IC_2SD (lower bound)\n",
    "    \"\"\"\n",
    "    # Total N\n",
    "    N = a + b + c + d\n",
    "    \n",
    "    # Compute gamma (normalization term)\n",
    "    gamma = gamma_11 * ((N + alpha) * (N + beta)) / ((a + b + alpha1) * (a + c + beta1))\n",
    "\n",
    "    # Expected value of IC (E(IC))\n",
    "    E_ic = np.log2(\n",
    "        (a + gamma_11) * (N + alpha) * (N + beta) /\n",
    "        ((N + gamma) * (a + b + alpha1) * (a + c + beta1))\n",
    "    )\n",
    "\n",
    "    # Compute variance of IC (V(IC))\n",
    "    ln2_sq = np.log(2) ** 2\n",
    "    term1 = ((N - a + gamma - gamma_11) / ((a + gamma_11) * (1 + N + gamma)))\n",
    "    term2 = ((N - (a + b) + alpha - alpha1) / ((a + b + alpha1) * (1 + N + alpha)))\n",
    "    term3 = ((N - (a + c) + beta - beta1) / ((a + c + beta1) * (1 + N + beta)))\n",
    "    V_ic = (1 / ln2_sq) * (term1 + term2 + term3)\n",
    "\n",
    "    # Lower bound: IC - 2 * SD\n",
    "    IC_2SD = E_ic - 2 * np.sqrt(V_ic)\n",
    "\n",
    "    return pd.DataFrame({\n",
    "        \"E_IC\": E_ic,\n",
    "        \"Var_IC\": V_ic,\n",
    "        \"IC_2SD\": IC_2SD\n",
    "    })"
   ]
  },
  {
   "cell_type": "code",
   "execution_count": 52,
   "id": "920f7152-8617-4dae-a24a-cf8cbf7b2f43",
   "metadata": {},
   "outputs": [],
   "source": [
    "# Function to add statistics (OR, PRR, EGBM) to the DataFrame\n",
    "def add_stats(df):\n",
    "    a = df['Count_query_drug'] \n",
    "    b = df['No_AE_query_drug'] \n",
    "    c = df['Count_non_query_drug'] \n",
    "    d = df['No_AE_non_query_drug'] \n",
    "\n",
    "    # Compute Odds Ratio (OR) and Confidence Interval (CI) \n",
    "    or_vals, ci_low_or, ci_high_or = compute_or_and_ci(a, b, c, d)\n",
    "\n",
    "    # Compute Proportional Reporting Ratio (PRR), SE, and Confidence Interval (CI) \n",
    "    prr_vals, se_prr, ci_low_prr, ci_high_prr = compute_prr_and_ci(a, b, c, d)\n",
    "\n",
    "    # Compute p-value from fischer's exact test for each row (used due to small counts) \n",
    "    p_values = df.apply(\n",
    "        lambda row: fisher_exact([[row['Count_query_drug'], row['No_AE_query_drug']],\n",
    "                              [row['Count_non_query_drug'], row['No_AE_non_query_drug']]])[1], axis=1\n",
    "        )\n",
    "\n",
    "    # Compute ebgm statistic \n",
    "    ebgm_result = phv_ebgm(a, b, c, d, alpha=0.5)\n",
    "\n",
    "    # Compute ic statistic \n",
    "    ic_result = compute_bayesian_ic(a, b, c, d, gamma_11=0.5, alpha1=0.5, beta1=0.5, alpha=2.0, beta=2.0)\n",
    "\n",
    "    \n",
    "    # Add new columns for OR, PRR, and p-value statistics\n",
    "    df['odds_ratio'] = or_vals\n",
    "    df['ci_lower_or'] = ci_low_or\n",
    "    df['ci_upper_or'] = ci_high_or\n",
    "    df['prr'] = prr_vals\n",
    "    df['se_prr'] = se_prr\n",
    "    df['ci_lower_prr'] = ci_low_prr\n",
    "    df['ci_upper_prr'] = ci_high_prr\n",
    "    df['p_value'] = p_values\n",
    "    \n",
    "    df = df.merge(ebgm_result, left_index=True, right_index=True)\n",
    "    df = df.merge(ic_result, left_index=True, right_index=True)\n",
    "\n",
    "    print(df)\n",
    "    return df\n",
    "\n"
   ]
  },
  {
   "cell_type": "code",
   "execution_count": 35,
   "id": "e82851b9-dfdd-41ec-ae19-ae4cf6df5398",
   "metadata": {},
   "outputs": [
    {
     "name": "stderr",
     "output_type": "stream",
     "text": [
      "/var/folders/1z/lz8g1zg14zv6dkhlyvsk7zvc0000gn/T/ipykernel_10022/1006456903.py:17: DtypeWarning: Columns (21) have mixed types. Specify dtype option on import or set low_memory=False.\n",
      "  'demo': pd.read_csv(os.path.join(root_dir, f\"DEMO{q}.txt\"), delimiter='$', encoding='ISO-8859-1'),\n",
      "/var/folders/1z/lz8g1zg14zv6dkhlyvsk7zvc0000gn/T/ipykernel_10022/1006456903.py:18: DtypeWarning: Columns (14) have mixed types. Specify dtype option on import or set low_memory=False.\n",
      "  'drug': pd.read_csv(os.path.join(root_dir, f\"DRUG{q}.txt\"), delimiter='$', encoding='ISO-8859-1'),\n",
      "/var/folders/1z/lz8g1zg14zv6dkhlyvsk7zvc0000gn/T/ipykernel_10022/1006456903.py:23: DtypeWarning: Columns (6) have mixed types. Specify dtype option on import or set low_memory=False.\n",
      "  'ther': pd.read_csv(os.path.join(root_dir, f\"THER{q}.txt\"), delimiter='$', encoding='ISO-8859-1'),\n"
     ]
    },
    {
     "name": "stdout",
     "output_type": "stream",
     "text": [
      "Loaded 17Q1 successfully.\n"
     ]
    },
    {
     "name": "stderr",
     "output_type": "stream",
     "text": [
      "/var/folders/1z/lz8g1zg14zv6dkhlyvsk7zvc0000gn/T/ipykernel_10022/1006456903.py:17: DtypeWarning: Columns (21) have mixed types. Specify dtype option on import or set low_memory=False.\n",
      "  'demo': pd.read_csv(os.path.join(root_dir, f\"DEMO{q}.txt\"), delimiter='$', encoding='ISO-8859-1'),\n",
      "/var/folders/1z/lz8g1zg14zv6dkhlyvsk7zvc0000gn/T/ipykernel_10022/1006456903.py:18: DtypeWarning: Columns (14) have mixed types. Specify dtype option on import or set low_memory=False.\n",
      "  'drug': pd.read_csv(os.path.join(root_dir, f\"DRUG{q}.txt\"), delimiter='$', encoding='ISO-8859-1'),\n",
      "/var/folders/1z/lz8g1zg14zv6dkhlyvsk7zvc0000gn/T/ipykernel_10022/1006456903.py:23: DtypeWarning: Columns (6) have mixed types. Specify dtype option on import or set low_memory=False.\n",
      "  'ther': pd.read_csv(os.path.join(root_dir, f\"THER{q}.txt\"), delimiter='$', encoding='ISO-8859-1'),\n"
     ]
    },
    {
     "name": "stdout",
     "output_type": "stream",
     "text": [
      "Loaded 17Q2 successfully.\n"
     ]
    },
    {
     "name": "stderr",
     "output_type": "stream",
     "text": [
      "/var/folders/1z/lz8g1zg14zv6dkhlyvsk7zvc0000gn/T/ipykernel_10022/1006456903.py:18: DtypeWarning: Columns (14) have mixed types. Specify dtype option on import or set low_memory=False.\n",
      "  'drug': pd.read_csv(os.path.join(root_dir, f\"DRUG{q}.txt\"), delimiter='$', encoding='ISO-8859-1'),\n"
     ]
    },
    {
     "name": "stdout",
     "output_type": "stream",
     "text": [
      "Loaded 17Q3 successfully.\n"
     ]
    },
    {
     "name": "stderr",
     "output_type": "stream",
     "text": [
      "/var/folders/1z/lz8g1zg14zv6dkhlyvsk7zvc0000gn/T/ipykernel_10022/1006456903.py:17: DtypeWarning: Columns (21) have mixed types. Specify dtype option on import or set low_memory=False.\n",
      "  'demo': pd.read_csv(os.path.join(root_dir, f\"DEMO{q}.txt\"), delimiter='$', encoding='ISO-8859-1'),\n",
      "/var/folders/1z/lz8g1zg14zv6dkhlyvsk7zvc0000gn/T/ipykernel_10022/1006456903.py:18: DtypeWarning: Columns (14) have mixed types. Specify dtype option on import or set low_memory=False.\n",
      "  'drug': pd.read_csv(os.path.join(root_dir, f\"DRUG{q}.txt\"), delimiter='$', encoding='ISO-8859-1'),\n",
      "/var/folders/1z/lz8g1zg14zv6dkhlyvsk7zvc0000gn/T/ipykernel_10022/1006456903.py:23: DtypeWarning: Columns (6) have mixed types. Specify dtype option on import or set low_memory=False.\n",
      "  'ther': pd.read_csv(os.path.join(root_dir, f\"THER{q}.txt\"), delimiter='$', encoding='ISO-8859-1'),\n"
     ]
    },
    {
     "name": "stdout",
     "output_type": "stream",
     "text": [
      "Loaded 17Q4 successfully.\n"
     ]
    },
    {
     "name": "stderr",
     "output_type": "stream",
     "text": [
      "/var/folders/1z/lz8g1zg14zv6dkhlyvsk7zvc0000gn/T/ipykernel_10022/1006456903.py:17: DtypeWarning: Columns (21) have mixed types. Specify dtype option on import or set low_memory=False.\n",
      "  'demo': pd.read_csv(os.path.join(root_dir, f\"DEMO{q}.txt\"), delimiter='$', encoding='ISO-8859-1'),\n",
      "/var/folders/1z/lz8g1zg14zv6dkhlyvsk7zvc0000gn/T/ipykernel_10022/1006456903.py:18: DtypeWarning: Columns (14) have mixed types. Specify dtype option on import or set low_memory=False.\n",
      "  'drug': pd.read_csv(os.path.join(root_dir, f\"DRUG{q}.txt\"), delimiter='$', encoding='ISO-8859-1'),\n",
      "/var/folders/1z/lz8g1zg14zv6dkhlyvsk7zvc0000gn/T/ipykernel_10022/1006456903.py:23: DtypeWarning: Columns (6) have mixed types. Specify dtype option on import or set low_memory=False.\n",
      "  'ther': pd.read_csv(os.path.join(root_dir, f\"THER{q}.txt\"), delimiter='$', encoding='ISO-8859-1'),\n"
     ]
    },
    {
     "name": "stdout",
     "output_type": "stream",
     "text": [
      "Loaded 18Q1 successfully.\n"
     ]
    },
    {
     "name": "stderr",
     "output_type": "stream",
     "text": [
      "/var/folders/1z/lz8g1zg14zv6dkhlyvsk7zvc0000gn/T/ipykernel_10022/1006456903.py:17: DtypeWarning: Columns (21) have mixed types. Specify dtype option on import or set low_memory=False.\n",
      "  'demo': pd.read_csv(os.path.join(root_dir, f\"DEMO{q}.txt\"), delimiter='$', encoding='ISO-8859-1'),\n",
      "/var/folders/1z/lz8g1zg14zv6dkhlyvsk7zvc0000gn/T/ipykernel_10022/1006456903.py:18: DtypeWarning: Columns (14) have mixed types. Specify dtype option on import or set low_memory=False.\n",
      "  'drug': pd.read_csv(os.path.join(root_dir, f\"DRUG{q}.txt\"), delimiter='$', encoding='ISO-8859-1'),\n",
      "/var/folders/1z/lz8g1zg14zv6dkhlyvsk7zvc0000gn/T/ipykernel_10022/1006456903.py:23: DtypeWarning: Columns (6) have mixed types. Specify dtype option on import or set low_memory=False.\n",
      "  'ther': pd.read_csv(os.path.join(root_dir, f\"THER{q}.txt\"), delimiter='$', encoding='ISO-8859-1'),\n"
     ]
    },
    {
     "name": "stdout",
     "output_type": "stream",
     "text": [
      "Loaded 18Q2 successfully.\n"
     ]
    },
    {
     "name": "stderr",
     "output_type": "stream",
     "text": [
      "/var/folders/1z/lz8g1zg14zv6dkhlyvsk7zvc0000gn/T/ipykernel_10022/1006456903.py:17: DtypeWarning: Columns (21) have mixed types. Specify dtype option on import or set low_memory=False.\n",
      "  'demo': pd.read_csv(os.path.join(root_dir, f\"DEMO{q}.txt\"), delimiter='$', encoding='ISO-8859-1'),\n",
      "/var/folders/1z/lz8g1zg14zv6dkhlyvsk7zvc0000gn/T/ipykernel_10022/1006456903.py:18: DtypeWarning: Columns (14) have mixed types. Specify dtype option on import or set low_memory=False.\n",
      "  'drug': pd.read_csv(os.path.join(root_dir, f\"DRUG{q}.txt\"), delimiter='$', encoding='ISO-8859-1'),\n",
      "/var/folders/1z/lz8g1zg14zv6dkhlyvsk7zvc0000gn/T/ipykernel_10022/1006456903.py:23: DtypeWarning: Columns (6) have mixed types. Specify dtype option on import or set low_memory=False.\n",
      "  'ther': pd.read_csv(os.path.join(root_dir, f\"THER{q}.txt\"), delimiter='$', encoding='ISO-8859-1'),\n"
     ]
    },
    {
     "name": "stdout",
     "output_type": "stream",
     "text": [
      "Loaded 18Q3 successfully.\n"
     ]
    },
    {
     "name": "stderr",
     "output_type": "stream",
     "text": [
      "/var/folders/1z/lz8g1zg14zv6dkhlyvsk7zvc0000gn/T/ipykernel_10022/1006456903.py:17: DtypeWarning: Columns (21) have mixed types. Specify dtype option on import or set low_memory=False.\n",
      "  'demo': pd.read_csv(os.path.join(root_dir, f\"DEMO{q}.txt\"), delimiter='$', encoding='ISO-8859-1'),\n",
      "/var/folders/1z/lz8g1zg14zv6dkhlyvsk7zvc0000gn/T/ipykernel_10022/1006456903.py:18: DtypeWarning: Columns (14) have mixed types. Specify dtype option on import or set low_memory=False.\n",
      "  'drug': pd.read_csv(os.path.join(root_dir, f\"DRUG{q}.txt\"), delimiter='$', encoding='ISO-8859-1'),\n",
      "/var/folders/1z/lz8g1zg14zv6dkhlyvsk7zvc0000gn/T/ipykernel_10022/1006456903.py:23: DtypeWarning: Columns (6) have mixed types. Specify dtype option on import or set low_memory=False.\n",
      "  'ther': pd.read_csv(os.path.join(root_dir, f\"THER{q}.txt\"), delimiter='$', encoding='ISO-8859-1'),\n"
     ]
    },
    {
     "name": "stdout",
     "output_type": "stream",
     "text": [
      "Loaded 18Q4 successfully.\n"
     ]
    },
    {
     "name": "stderr",
     "output_type": "stream",
     "text": [
      "/var/folders/1z/lz8g1zg14zv6dkhlyvsk7zvc0000gn/T/ipykernel_10022/1006456903.py:17: DtypeWarning: Columns (21) have mixed types. Specify dtype option on import or set low_memory=False.\n",
      "  'demo': pd.read_csv(os.path.join(root_dir, f\"DEMO{q}.txt\"), delimiter='$', encoding='ISO-8859-1'),\n",
      "/var/folders/1z/lz8g1zg14zv6dkhlyvsk7zvc0000gn/T/ipykernel_10022/1006456903.py:18: DtypeWarning: Columns (14) have mixed types. Specify dtype option on import or set low_memory=False.\n",
      "  'drug': pd.read_csv(os.path.join(root_dir, f\"DRUG{q}.txt\"), delimiter='$', encoding='ISO-8859-1'),\n",
      "/var/folders/1z/lz8g1zg14zv6dkhlyvsk7zvc0000gn/T/ipykernel_10022/1006456903.py:23: DtypeWarning: Columns (6) have mixed types. Specify dtype option on import or set low_memory=False.\n",
      "  'ther': pd.read_csv(os.path.join(root_dir, f\"THER{q}.txt\"), delimiter='$', encoding='ISO-8859-1'),\n"
     ]
    },
    {
     "name": "stdout",
     "output_type": "stream",
     "text": [
      "Loaded 19Q1 successfully.\n"
     ]
    },
    {
     "name": "stderr",
     "output_type": "stream",
     "text": [
      "/var/folders/1z/lz8g1zg14zv6dkhlyvsk7zvc0000gn/T/ipykernel_10022/1006456903.py:17: DtypeWarning: Columns (21) have mixed types. Specify dtype option on import or set low_memory=False.\n",
      "  'demo': pd.read_csv(os.path.join(root_dir, f\"DEMO{q}.txt\"), delimiter='$', encoding='ISO-8859-1'),\n",
      "/var/folders/1z/lz8g1zg14zv6dkhlyvsk7zvc0000gn/T/ipykernel_10022/1006456903.py:18: DtypeWarning: Columns (14) have mixed types. Specify dtype option on import or set low_memory=False.\n",
      "  'drug': pd.read_csv(os.path.join(root_dir, f\"DRUG{q}.txt\"), delimiter='$', encoding='ISO-8859-1'),\n",
      "/var/folders/1z/lz8g1zg14zv6dkhlyvsk7zvc0000gn/T/ipykernel_10022/1006456903.py:23: DtypeWarning: Columns (6) have mixed types. Specify dtype option on import or set low_memory=False.\n",
      "  'ther': pd.read_csv(os.path.join(root_dir, f\"THER{q}.txt\"), delimiter='$', encoding='ISO-8859-1'),\n"
     ]
    },
    {
     "name": "stdout",
     "output_type": "stream",
     "text": [
      "Loaded 19Q2 successfully.\n"
     ]
    },
    {
     "name": "stderr",
     "output_type": "stream",
     "text": [
      "/var/folders/1z/lz8g1zg14zv6dkhlyvsk7zvc0000gn/T/ipykernel_10022/1006456903.py:17: DtypeWarning: Columns (21) have mixed types. Specify dtype option on import or set low_memory=False.\n",
      "  'demo': pd.read_csv(os.path.join(root_dir, f\"DEMO{q}.txt\"), delimiter='$', encoding='ISO-8859-1'),\n",
      "/var/folders/1z/lz8g1zg14zv6dkhlyvsk7zvc0000gn/T/ipykernel_10022/1006456903.py:18: DtypeWarning: Columns (14) have mixed types. Specify dtype option on import or set low_memory=False.\n",
      "  'drug': pd.read_csv(os.path.join(root_dir, f\"DRUG{q}.txt\"), delimiter='$', encoding='ISO-8859-1'),\n",
      "/var/folders/1z/lz8g1zg14zv6dkhlyvsk7zvc0000gn/T/ipykernel_10022/1006456903.py:23: DtypeWarning: Columns (6) have mixed types. Specify dtype option on import or set low_memory=False.\n",
      "  'ther': pd.read_csv(os.path.join(root_dir, f\"THER{q}.txt\"), delimiter='$', encoding='ISO-8859-1'),\n"
     ]
    },
    {
     "name": "stdout",
     "output_type": "stream",
     "text": [
      "Loaded 19Q3 successfully.\n"
     ]
    },
    {
     "name": "stderr",
     "output_type": "stream",
     "text": [
      "/var/folders/1z/lz8g1zg14zv6dkhlyvsk7zvc0000gn/T/ipykernel_10022/1006456903.py:17: DtypeWarning: Columns (21) have mixed types. Specify dtype option on import or set low_memory=False.\n",
      "  'demo': pd.read_csv(os.path.join(root_dir, f\"DEMO{q}.txt\"), delimiter='$', encoding='ISO-8859-1'),\n",
      "/var/folders/1z/lz8g1zg14zv6dkhlyvsk7zvc0000gn/T/ipykernel_10022/1006456903.py:18: DtypeWarning: Columns (14) have mixed types. Specify dtype option on import or set low_memory=False.\n",
      "  'drug': pd.read_csv(os.path.join(root_dir, f\"DRUG{q}.txt\"), delimiter='$', encoding='ISO-8859-1'),\n",
      "/var/folders/1z/lz8g1zg14zv6dkhlyvsk7zvc0000gn/T/ipykernel_10022/1006456903.py:23: DtypeWarning: Columns (6) have mixed types. Specify dtype option on import or set low_memory=False.\n",
      "  'ther': pd.read_csv(os.path.join(root_dir, f\"THER{q}.txt\"), delimiter='$', encoding='ISO-8859-1'),\n"
     ]
    },
    {
     "name": "stdout",
     "output_type": "stream",
     "text": [
      "Loaded 19Q4 successfully.\n"
     ]
    },
    {
     "name": "stderr",
     "output_type": "stream",
     "text": [
      "/var/folders/1z/lz8g1zg14zv6dkhlyvsk7zvc0000gn/T/ipykernel_10022/1006456903.py:17: DtypeWarning: Columns (21) have mixed types. Specify dtype option on import or set low_memory=False.\n",
      "  'demo': pd.read_csv(os.path.join(root_dir, f\"DEMO{q}.txt\"), delimiter='$', encoding='ISO-8859-1'),\n",
      "/var/folders/1z/lz8g1zg14zv6dkhlyvsk7zvc0000gn/T/ipykernel_10022/1006456903.py:18: DtypeWarning: Columns (14) have mixed types. Specify dtype option on import or set low_memory=False.\n",
      "  'drug': pd.read_csv(os.path.join(root_dir, f\"DRUG{q}.txt\"), delimiter='$', encoding='ISO-8859-1'),\n",
      "/var/folders/1z/lz8g1zg14zv6dkhlyvsk7zvc0000gn/T/ipykernel_10022/1006456903.py:23: DtypeWarning: Columns (6) have mixed types. Specify dtype option on import or set low_memory=False.\n",
      "  'ther': pd.read_csv(os.path.join(root_dir, f\"THER{q}.txt\"), delimiter='$', encoding='ISO-8859-1'),\n"
     ]
    },
    {
     "name": "stdout",
     "output_type": "stream",
     "text": [
      "Loaded 20Q1 successfully.\n"
     ]
    },
    {
     "name": "stderr",
     "output_type": "stream",
     "text": [
      "/var/folders/1z/lz8g1zg14zv6dkhlyvsk7zvc0000gn/T/ipykernel_10022/1006456903.py:17: DtypeWarning: Columns (21) have mixed types. Specify dtype option on import or set low_memory=False.\n",
      "  'demo': pd.read_csv(os.path.join(root_dir, f\"DEMO{q}.txt\"), delimiter='$', encoding='ISO-8859-1'),\n",
      "/var/folders/1z/lz8g1zg14zv6dkhlyvsk7zvc0000gn/T/ipykernel_10022/1006456903.py:18: DtypeWarning: Columns (14) have mixed types. Specify dtype option on import or set low_memory=False.\n",
      "  'drug': pd.read_csv(os.path.join(root_dir, f\"DRUG{q}.txt\"), delimiter='$', encoding='ISO-8859-1'),\n",
      "/var/folders/1z/lz8g1zg14zv6dkhlyvsk7zvc0000gn/T/ipykernel_10022/1006456903.py:23: DtypeWarning: Columns (6) have mixed types. Specify dtype option on import or set low_memory=False.\n",
      "  'ther': pd.read_csv(os.path.join(root_dir, f\"THER{q}.txt\"), delimiter='$', encoding='ISO-8859-1'),\n"
     ]
    },
    {
     "name": "stdout",
     "output_type": "stream",
     "text": [
      "Loaded 20Q2 successfully.\n"
     ]
    },
    {
     "name": "stderr",
     "output_type": "stream",
     "text": [
      "/var/folders/1z/lz8g1zg14zv6dkhlyvsk7zvc0000gn/T/ipykernel_10022/1006456903.py:18: DtypeWarning: Columns (14,16) have mixed types. Specify dtype option on import or set low_memory=False.\n",
      "  'drug': pd.read_csv(os.path.join(root_dir, f\"DRUG{q}.txt\"), delimiter='$', encoding='ISO-8859-1'),\n"
     ]
    },
    {
     "name": "stdout",
     "output_type": "stream",
     "text": [
      "Loaded 20Q3 successfully.\n"
     ]
    },
    {
     "name": "stderr",
     "output_type": "stream",
     "text": [
      "/var/folders/1z/lz8g1zg14zv6dkhlyvsk7zvc0000gn/T/ipykernel_10022/1006456903.py:17: DtypeWarning: Columns (21) have mixed types. Specify dtype option on import or set low_memory=False.\n",
      "  'demo': pd.read_csv(os.path.join(root_dir, f\"DEMO{q}.txt\"), delimiter='$', encoding='ISO-8859-1'),\n",
      "/var/folders/1z/lz8g1zg14zv6dkhlyvsk7zvc0000gn/T/ipykernel_10022/1006456903.py:18: DtypeWarning: Columns (14) have mixed types. Specify dtype option on import or set low_memory=False.\n",
      "  'drug': pd.read_csv(os.path.join(root_dir, f\"DRUG{q}.txt\"), delimiter='$', encoding='ISO-8859-1'),\n",
      "/var/folders/1z/lz8g1zg14zv6dkhlyvsk7zvc0000gn/T/ipykernel_10022/1006456903.py:23: DtypeWarning: Columns (6) have mixed types. Specify dtype option on import or set low_memory=False.\n",
      "  'ther': pd.read_csv(os.path.join(root_dir, f\"THER{q}.txt\"), delimiter='$', encoding='ISO-8859-1'),\n"
     ]
    },
    {
     "name": "stdout",
     "output_type": "stream",
     "text": [
      "Loaded 20Q4 successfully.\n"
     ]
    },
    {
     "name": "stderr",
     "output_type": "stream",
     "text": [
      "/var/folders/1z/lz8g1zg14zv6dkhlyvsk7zvc0000gn/T/ipykernel_10022/1006456903.py:17: DtypeWarning: Columns (21) have mixed types. Specify dtype option on import or set low_memory=False.\n",
      "  'demo': pd.read_csv(os.path.join(root_dir, f\"DEMO{q}.txt\"), delimiter='$', encoding='ISO-8859-1'),\n",
      "/var/folders/1z/lz8g1zg14zv6dkhlyvsk7zvc0000gn/T/ipykernel_10022/1006456903.py:23: DtypeWarning: Columns (6) have mixed types. Specify dtype option on import or set low_memory=False.\n",
      "  'ther': pd.read_csv(os.path.join(root_dir, f\"THER{q}.txt\"), delimiter='$', encoding='ISO-8859-1'),\n"
     ]
    },
    {
     "name": "stdout",
     "output_type": "stream",
     "text": [
      "Loaded 21Q1 successfully.\n"
     ]
    },
    {
     "name": "stderr",
     "output_type": "stream",
     "text": [
      "/var/folders/1z/lz8g1zg14zv6dkhlyvsk7zvc0000gn/T/ipykernel_10022/1006456903.py:17: DtypeWarning: Columns (21) have mixed types. Specify dtype option on import or set low_memory=False.\n",
      "  'demo': pd.read_csv(os.path.join(root_dir, f\"DEMO{q}.txt\"), delimiter='$', encoding='ISO-8859-1'),\n",
      "/var/folders/1z/lz8g1zg14zv6dkhlyvsk7zvc0000gn/T/ipykernel_10022/1006456903.py:18: DtypeWarning: Columns (14) have mixed types. Specify dtype option on import or set low_memory=False.\n",
      "  'drug': pd.read_csv(os.path.join(root_dir, f\"DRUG{q}.txt\"), delimiter='$', encoding='ISO-8859-1'),\n",
      "/var/folders/1z/lz8g1zg14zv6dkhlyvsk7zvc0000gn/T/ipykernel_10022/1006456903.py:23: DtypeWarning: Columns (6) have mixed types. Specify dtype option on import or set low_memory=False.\n",
      "  'ther': pd.read_csv(os.path.join(root_dir, f\"THER{q}.txt\"), delimiter='$', encoding='ISO-8859-1'),\n"
     ]
    },
    {
     "name": "stdout",
     "output_type": "stream",
     "text": [
      "Loaded 21Q2 successfully.\n"
     ]
    },
    {
     "name": "stderr",
     "output_type": "stream",
     "text": [
      "/var/folders/1z/lz8g1zg14zv6dkhlyvsk7zvc0000gn/T/ipykernel_10022/1006456903.py:17: DtypeWarning: Columns (21) have mixed types. Specify dtype option on import or set low_memory=False.\n",
      "  'demo': pd.read_csv(os.path.join(root_dir, f\"DEMO{q}.txt\"), delimiter='$', encoding='ISO-8859-1'),\n",
      "/var/folders/1z/lz8g1zg14zv6dkhlyvsk7zvc0000gn/T/ipykernel_10022/1006456903.py:18: DtypeWarning: Columns (14) have mixed types. Specify dtype option on import or set low_memory=False.\n",
      "  'drug': pd.read_csv(os.path.join(root_dir, f\"DRUG{q}.txt\"), delimiter='$', encoding='ISO-8859-1'),\n",
      "/var/folders/1z/lz8g1zg14zv6dkhlyvsk7zvc0000gn/T/ipykernel_10022/1006456903.py:23: DtypeWarning: Columns (6) have mixed types. Specify dtype option on import or set low_memory=False.\n",
      "  'ther': pd.read_csv(os.path.join(root_dir, f\"THER{q}.txt\"), delimiter='$', encoding='ISO-8859-1'),\n"
     ]
    },
    {
     "name": "stdout",
     "output_type": "stream",
     "text": [
      "Loaded 21Q3 successfully.\n"
     ]
    },
    {
     "name": "stderr",
     "output_type": "stream",
     "text": [
      "/var/folders/1z/lz8g1zg14zv6dkhlyvsk7zvc0000gn/T/ipykernel_10022/1006456903.py:17: DtypeWarning: Columns (21) have mixed types. Specify dtype option on import or set low_memory=False.\n",
      "  'demo': pd.read_csv(os.path.join(root_dir, f\"DEMO{q}.txt\"), delimiter='$', encoding='ISO-8859-1'),\n"
     ]
    },
    {
     "name": "stdout",
     "output_type": "stream",
     "text": [
      "Loaded 21Q4 successfully.\n"
     ]
    },
    {
     "name": "stderr",
     "output_type": "stream",
     "text": [
      "/var/folders/1z/lz8g1zg14zv6dkhlyvsk7zvc0000gn/T/ipykernel_10022/1006456903.py:17: DtypeWarning: Columns (21) have mixed types. Specify dtype option on import or set low_memory=False.\n",
      "  'demo': pd.read_csv(os.path.join(root_dir, f\"DEMO{q}.txt\"), delimiter='$', encoding='ISO-8859-1'),\n"
     ]
    },
    {
     "name": "stdout",
     "output_type": "stream",
     "text": [
      "Loaded 22Q1 successfully.\n"
     ]
    },
    {
     "name": "stderr",
     "output_type": "stream",
     "text": [
      "/var/folders/1z/lz8g1zg14zv6dkhlyvsk7zvc0000gn/T/ipykernel_10022/1006456903.py:17: DtypeWarning: Columns (21) have mixed types. Specify dtype option on import or set low_memory=False.\n",
      "  'demo': pd.read_csv(os.path.join(root_dir, f\"DEMO{q}.txt\"), delimiter='$', encoding='ISO-8859-1'),\n"
     ]
    },
    {
     "name": "stdout",
     "output_type": "stream",
     "text": [
      "Loaded 22Q2 successfully.\n"
     ]
    },
    {
     "name": "stderr",
     "output_type": "stream",
     "text": [
      "/var/folders/1z/lz8g1zg14zv6dkhlyvsk7zvc0000gn/T/ipykernel_10022/1006456903.py:17: DtypeWarning: Columns (21) have mixed types. Specify dtype option on import or set low_memory=False.\n",
      "  'demo': pd.read_csv(os.path.join(root_dir, f\"DEMO{q}.txt\"), delimiter='$', encoding='ISO-8859-1'),\n"
     ]
    },
    {
     "name": "stdout",
     "output_type": "stream",
     "text": [
      "Loaded 22Q3 successfully.\n"
     ]
    },
    {
     "name": "stderr",
     "output_type": "stream",
     "text": [
      "/var/folders/1z/lz8g1zg14zv6dkhlyvsk7zvc0000gn/T/ipykernel_10022/1006456903.py:17: DtypeWarning: Columns (21) have mixed types. Specify dtype option on import or set low_memory=False.\n",
      "  'demo': pd.read_csv(os.path.join(root_dir, f\"DEMO{q}.txt\"), delimiter='$', encoding='ISO-8859-1'),\n"
     ]
    },
    {
     "name": "stdout",
     "output_type": "stream",
     "text": [
      "Loaded 22Q4 successfully.\n"
     ]
    },
    {
     "name": "stderr",
     "output_type": "stream",
     "text": [
      "/var/folders/1z/lz8g1zg14zv6dkhlyvsk7zvc0000gn/T/ipykernel_10022/1006456903.py:17: DtypeWarning: Columns (21) have mixed types. Specify dtype option on import or set low_memory=False.\n",
      "  'demo': pd.read_csv(os.path.join(root_dir, f\"DEMO{q}.txt\"), delimiter='$', encoding='ISO-8859-1'),\n"
     ]
    },
    {
     "name": "stdout",
     "output_type": "stream",
     "text": [
      "Loaded 23Q1 successfully.\n"
     ]
    },
    {
     "name": "stderr",
     "output_type": "stream",
     "text": [
      "/var/folders/1z/lz8g1zg14zv6dkhlyvsk7zvc0000gn/T/ipykernel_10022/1006456903.py:17: DtypeWarning: Columns (21) have mixed types. Specify dtype option on import or set low_memory=False.\n",
      "  'demo': pd.read_csv(os.path.join(root_dir, f\"DEMO{q}.txt\"), delimiter='$', encoding='ISO-8859-1'),\n"
     ]
    },
    {
     "name": "stdout",
     "output_type": "stream",
     "text": [
      "Loaded 23Q2 successfully.\n"
     ]
    },
    {
     "name": "stderr",
     "output_type": "stream",
     "text": [
      "/var/folders/1z/lz8g1zg14zv6dkhlyvsk7zvc0000gn/T/ipykernel_10022/1006456903.py:17: DtypeWarning: Columns (21) have mixed types. Specify dtype option on import or set low_memory=False.\n",
      "  'demo': pd.read_csv(os.path.join(root_dir, f\"DEMO{q}.txt\"), delimiter='$', encoding='ISO-8859-1'),\n"
     ]
    },
    {
     "name": "stdout",
     "output_type": "stream",
     "text": [
      "Loaded 23Q3 successfully.\n"
     ]
    },
    {
     "name": "stderr",
     "output_type": "stream",
     "text": [
      "/var/folders/1z/lz8g1zg14zv6dkhlyvsk7zvc0000gn/T/ipykernel_10022/1006456903.py:17: DtypeWarning: Columns (21) have mixed types. Specify dtype option on import or set low_memory=False.\n",
      "  'demo': pd.read_csv(os.path.join(root_dir, f\"DEMO{q}.txt\"), delimiter='$', encoding='ISO-8859-1'),\n"
     ]
    },
    {
     "name": "stdout",
     "output_type": "stream",
     "text": [
      "Loaded 23Q4 successfully.\n"
     ]
    },
    {
     "name": "stderr",
     "output_type": "stream",
     "text": [
      "/var/folders/1z/lz8g1zg14zv6dkhlyvsk7zvc0000gn/T/ipykernel_10022/1006456903.py:17: DtypeWarning: Columns (21) have mixed types. Specify dtype option on import or set low_memory=False.\n",
      "  'demo': pd.read_csv(os.path.join(root_dir, f\"DEMO{q}.txt\"), delimiter='$', encoding='ISO-8859-1'),\n"
     ]
    },
    {
     "name": "stdout",
     "output_type": "stream",
     "text": [
      "Loaded 24Q1 successfully.\n"
     ]
    },
    {
     "name": "stderr",
     "output_type": "stream",
     "text": [
      "/var/folders/1z/lz8g1zg14zv6dkhlyvsk7zvc0000gn/T/ipykernel_10022/1006456903.py:17: DtypeWarning: Columns (21) have mixed types. Specify dtype option on import or set low_memory=False.\n",
      "  'demo': pd.read_csv(os.path.join(root_dir, f\"DEMO{q}.txt\"), delimiter='$', encoding='ISO-8859-1'),\n",
      "/var/folders/1z/lz8g1zg14zv6dkhlyvsk7zvc0000gn/T/ipykernel_10022/1006456903.py:18: DtypeWarning: Columns (15) have mixed types. Specify dtype option on import or set low_memory=False.\n",
      "  'drug': pd.read_csv(os.path.join(root_dir, f\"DRUG{q}.txt\"), delimiter='$', encoding='ISO-8859-1'),\n"
     ]
    },
    {
     "name": "stdout",
     "output_type": "stream",
     "text": [
      "Loaded 24Q2 successfully.\n"
     ]
    },
    {
     "name": "stderr",
     "output_type": "stream",
     "text": [
      "/var/folders/1z/lz8g1zg14zv6dkhlyvsk7zvc0000gn/T/ipykernel_10022/1006456903.py:17: DtypeWarning: Columns (21) have mixed types. Specify dtype option on import or set low_memory=False.\n",
      "  'demo': pd.read_csv(os.path.join(root_dir, f\"DEMO{q}.txt\"), delimiter='$', encoding='ISO-8859-1'),\n"
     ]
    },
    {
     "name": "stdout",
     "output_type": "stream",
     "text": [
      "Loaded 24Q3 successfully.\n"
     ]
    },
    {
     "name": "stderr",
     "output_type": "stream",
     "text": [
      "/var/folders/1z/lz8g1zg14zv6dkhlyvsk7zvc0000gn/T/ipykernel_10022/1006456903.py:17: DtypeWarning: Columns (21) have mixed types. Specify dtype option on import or set low_memory=False.\n",
      "  'demo': pd.read_csv(os.path.join(root_dir, f\"DEMO{q}.txt\"), delimiter='$', encoding='ISO-8859-1'),\n",
      "/var/folders/1z/lz8g1zg14zv6dkhlyvsk7zvc0000gn/T/ipykernel_10022/1006456903.py:18: DtypeWarning: Columns (15) have mixed types. Specify dtype option on import or set low_memory=False.\n",
      "  'drug': pd.read_csv(os.path.join(root_dir, f\"DRUG{q}.txt\"), delimiter='$', encoding='ISO-8859-1'),\n"
     ]
    },
    {
     "name": "stdout",
     "output_type": "stream",
     "text": [
      "Loaded 24Q4 successfully.\n"
     ]
    }
   ],
   "source": [
    "root_dir = '/Users/jodie/Documents/BMI 212/faers-cohort-generation/FAERS-data-toolkit-master/FAERSdata'\n",
    "data = download_faer_files(root_dir)\n"
   ]
  },
  {
   "cell_type": "code",
   "execution_count": 36,
   "id": "1a57c6c2-1056-4ac2-9b92-38ef9ab3f16f",
   "metadata": {},
   "outputs": [
    {
     "name": "stdout",
     "output_type": "stream",
     "text": [
      "['17Q2', '17Q3', '17Q4', '18Q1', '18Q2', '18Q3', '18Q4', '19Q1', '19Q2', '19Q3', '19Q4', '20Q1', '20Q2', '20Q3', '20Q4', '21Q1', '21Q2', '21Q3', '21Q4', '22Q1', '22Q2', '22Q3', '22Q4', '23Q1', '23Q2', '23Q3', '23Q4', '24Q1']\n"
     ]
    }
   ],
   "source": [
    "start_year = 2017 \n",
    "start_quarter = 'Q2'\n",
    "end_year = 2024\n",
    "end_quarter = 'Q1'\n",
    "\n",
    "demo, drug, reac, outc, indi, rpsr, ther = create_dataframes(start_year, start_quarter, end_year, end_quarter)\n"
   ]
  },
  {
   "cell_type": "code",
   "execution_count": 37,
   "id": "630641f0-7f96-4956-a3cb-b22869c1ea57",
   "metadata": {},
   "outputs": [
    {
     "data": {
      "text/plain": [
       "38957534"
      ]
     },
     "execution_count": 37,
     "metadata": {},
     "output_type": "execute_result"
    }
   ],
   "source": [
    "demo.shape[0]\n",
    "drug.shape[0]\n",
    "reac.shape[0]"
   ]
  },
  {
   "cell_type": "code",
   "execution_count": 38,
   "id": "4ddd7b35-7d34-4443-b2b2-24bfb5598a11",
   "metadata": {},
   "outputs": [],
   "source": [
    "demo = preprocess_demo_df(demo)\n",
    "# drug = preprocess_drug_df(drug)\n",
    "# reac = preprocess_reac_df(reac)\n"
   ]
  },
  {
   "cell_type": "code",
   "execution_count": 39,
   "id": "ef7072d2-ad03-433a-92a2-4bc1e1d13eee",
   "metadata": {},
   "outputs": [],
   "source": [
    "query_drug = 'edaravone'\n",
    "\n",
    "# Finds reports related to the query drug\n",
    "query_drug_df = drug[\n",
    "    drug['drugname'].str.lower().str.contains(query_drug, na=False) |\n",
    "    drug['prod_ai'].str.lower().str.contains(query_drug, na=False)\n",
    "]"
   ]
  },
  {
   "cell_type": "code",
   "execution_count": 40,
   "id": "0ce5c8b1-e79a-4107-8db2-1779ea7500ea",
   "metadata": {},
   "outputs": [
    {
     "data": {
      "text/html": [
       "<div>\n",
       "<style scoped>\n",
       "    .dataframe tbody tr th:only-of-type {\n",
       "        vertical-align: middle;\n",
       "    }\n",
       "\n",
       "    .dataframe tbody tr th {\n",
       "        vertical-align: top;\n",
       "    }\n",
       "\n",
       "    .dataframe thead th {\n",
       "        text-align: right;\n",
       "    }\n",
       "</style>\n",
       "<table border=\"1\" class=\"dataframe\">\n",
       "  <thead>\n",
       "    <tr style=\"text-align: right;\">\n",
       "      <th></th>\n",
       "      <th>primaryid</th>\n",
       "      <th>caseid</th>\n",
       "      <th>fda_dt</th>\n",
       "      <th>caseversion</th>\n",
       "      <th>age_cod</th>\n",
       "      <th>age</th>\n",
       "      <th>sex</th>\n",
       "      <th>wt</th>\n",
       "      <th>drug_seq</th>\n",
       "      <th>role_cod</th>\n",
       "      <th>...</th>\n",
       "      <th>cum_dose_unit</th>\n",
       "      <th>dechal</th>\n",
       "      <th>rechal</th>\n",
       "      <th>lot_num</th>\n",
       "      <th>exp_dt</th>\n",
       "      <th>nda_num</th>\n",
       "      <th>dose_amt</th>\n",
       "      <th>dose_unit</th>\n",
       "      <th>dose_form</th>\n",
       "      <th>dose_freq</th>\n",
       "    </tr>\n",
       "  </thead>\n",
       "  <tbody>\n",
       "    <tr>\n",
       "      <th>0</th>\n",
       "      <td>63373272</td>\n",
       "      <td>6337327</td>\n",
       "      <td>20070705</td>\n",
       "      <td>2</td>\n",
       "      <td>YR</td>\n",
       "      <td>70.0</td>\n",
       "      <td>M</td>\n",
       "      <td>60.000</td>\n",
       "      <td>26</td>\n",
       "      <td>SS</td>\n",
       "      <td>...</td>\n",
       "      <td>NaN</td>\n",
       "      <td>NaN</td>\n",
       "      <td>NaN</td>\n",
       "      <td>NaN</td>\n",
       "      <td>NaN</td>\n",
       "      <td>NaN</td>\n",
       "      <td>30</td>\n",
       "      <td>MG</td>\n",
       "      <td>INJECTION, SOLUTION</td>\n",
       "      <td>NaN</td>\n",
       "    </tr>\n",
       "    <tr>\n",
       "      <th>1</th>\n",
       "      <td>737231510</td>\n",
       "      <td>7372315</td>\n",
       "      <td>20181005</td>\n",
       "      <td>10</td>\n",
       "      <td>YR</td>\n",
       "      <td>71.0</td>\n",
       "      <td>F</td>\n",
       "      <td>NaN</td>\n",
       "      <td>12</td>\n",
       "      <td>C</td>\n",
       "      <td>...</td>\n",
       "      <td>NaN</td>\n",
       "      <td>U</td>\n",
       "      <td>NaN</td>\n",
       "      <td>NaN</td>\n",
       "      <td>NaN</td>\n",
       "      <td>NaN</td>\n",
       "      <td>NaN</td>\n",
       "      <td>NaN</td>\n",
       "      <td>NaN</td>\n",
       "      <td>NaN</td>\n",
       "    </tr>\n",
       "    <tr>\n",
       "      <th>2</th>\n",
       "      <td>1165786410</td>\n",
       "      <td>11657864</td>\n",
       "      <td>20200715</td>\n",
       "      <td>10</td>\n",
       "      <td>YR</td>\n",
       "      <td>48.0</td>\n",
       "      <td>F</td>\n",
       "      <td>49.600</td>\n",
       "      <td>20</td>\n",
       "      <td>C</td>\n",
       "      <td>...</td>\n",
       "      <td>NaN</td>\n",
       "      <td>NaN</td>\n",
       "      <td>NaN</td>\n",
       "      <td>NaN</td>\n",
       "      <td>NaN</td>\n",
       "      <td>NaN</td>\n",
       "      <td>NaN</td>\n",
       "      <td>NaN</td>\n",
       "      <td>NaN</td>\n",
       "      <td>NaN</td>\n",
       "    </tr>\n",
       "    <tr>\n",
       "      <th>3</th>\n",
       "      <td>118102753</td>\n",
       "      <td>11810275</td>\n",
       "      <td>20170710</td>\n",
       "      <td>3</td>\n",
       "      <td>YR</td>\n",
       "      <td>75.0</td>\n",
       "      <td>M</td>\n",
       "      <td>53.000</td>\n",
       "      <td>5</td>\n",
       "      <td>C</td>\n",
       "      <td>...</td>\n",
       "      <td>MG</td>\n",
       "      <td>NaN</td>\n",
       "      <td>NaN</td>\n",
       "      <td>NaN</td>\n",
       "      <td>NaN</td>\n",
       "      <td>NaN</td>\n",
       "      <td>60.0</td>\n",
       "      <td>MG</td>\n",
       "      <td>NaN</td>\n",
       "      <td>QD</td>\n",
       "    </tr>\n",
       "    <tr>\n",
       "      <th>4</th>\n",
       "      <td>118163064</td>\n",
       "      <td>11816306</td>\n",
       "      <td>20170519</td>\n",
       "      <td>4</td>\n",
       "      <td>YR</td>\n",
       "      <td>81.0</td>\n",
       "      <td>F</td>\n",
       "      <td>NaN</td>\n",
       "      <td>4</td>\n",
       "      <td>SS</td>\n",
       "      <td>...</td>\n",
       "      <td>NaN</td>\n",
       "      <td>Y</td>\n",
       "      <td>NaN</td>\n",
       "      <td>NaN</td>\n",
       "      <td>NaN</td>\n",
       "      <td>NaN</td>\n",
       "      <td>NaN</td>\n",
       "      <td>NaN</td>\n",
       "      <td>NaN</td>\n",
       "      <td>NaN</td>\n",
       "    </tr>\n",
       "    <tr>\n",
       "      <th>...</th>\n",
       "      <td>...</td>\n",
       "      <td>...</td>\n",
       "      <td>...</td>\n",
       "      <td>...</td>\n",
       "      <td>...</td>\n",
       "      <td>...</td>\n",
       "      <td>...</td>\n",
       "      <td>...</td>\n",
       "      <td>...</td>\n",
       "      <td>...</td>\n",
       "      <td>...</td>\n",
       "      <td>...</td>\n",
       "      <td>...</td>\n",
       "      <td>...</td>\n",
       "      <td>...</td>\n",
       "      <td>...</td>\n",
       "      <td>...</td>\n",
       "      <td>...</td>\n",
       "      <td>...</td>\n",
       "      <td>...</td>\n",
       "      <td>...</td>\n",
       "    </tr>\n",
       "    <tr>\n",
       "      <th>4622</th>\n",
       "      <td>236749971</td>\n",
       "      <td>23674997</td>\n",
       "      <td>20240326</td>\n",
       "      <td>1</td>\n",
       "      <td>YR</td>\n",
       "      <td>34.0</td>\n",
       "      <td>F</td>\n",
       "      <td>NaN</td>\n",
       "      <td>2</td>\n",
       "      <td>C</td>\n",
       "      <td>...</td>\n",
       "      <td>NaN</td>\n",
       "      <td>NaN</td>\n",
       "      <td>NaN</td>\n",
       "      <td>NaN</td>\n",
       "      <td>NaN</td>\n",
       "      <td>NaN</td>\n",
       "      <td>NaN</td>\n",
       "      <td>NaN</td>\n",
       "      <td>NaN</td>\n",
       "      <td>NaN</td>\n",
       "    </tr>\n",
       "    <tr>\n",
       "      <th>4623</th>\n",
       "      <td>236830131</td>\n",
       "      <td>23683013</td>\n",
       "      <td>20240328</td>\n",
       "      <td>1</td>\n",
       "      <td>YR</td>\n",
       "      <td>56.0</td>\n",
       "      <td>M</td>\n",
       "      <td>91.399</td>\n",
       "      <td>3</td>\n",
       "      <td>C</td>\n",
       "      <td>...</td>\n",
       "      <td>NaN</td>\n",
       "      <td>NaN</td>\n",
       "      <td>NaN</td>\n",
       "      <td>NaN</td>\n",
       "      <td>NaN</td>\n",
       "      <td>NaN</td>\n",
       "      <td>NaN</td>\n",
       "      <td>NaN</td>\n",
       "      <td>NaN</td>\n",
       "      <td>NaN</td>\n",
       "    </tr>\n",
       "    <tr>\n",
       "      <th>4624</th>\n",
       "      <td>236830191</td>\n",
       "      <td>23683019</td>\n",
       "      <td>20240328</td>\n",
       "      <td>1</td>\n",
       "      <td>YR</td>\n",
       "      <td>37.0</td>\n",
       "      <td>M</td>\n",
       "      <td>NaN</td>\n",
       "      <td>4</td>\n",
       "      <td>SS</td>\n",
       "      <td>...</td>\n",
       "      <td>NaN</td>\n",
       "      <td>NaN</td>\n",
       "      <td>NaN</td>\n",
       "      <td>NaN</td>\n",
       "      <td>NaN</td>\n",
       "      <td>NaN</td>\n",
       "      <td>NaN</td>\n",
       "      <td>NaN</td>\n",
       "      <td>Suspension</td>\n",
       "      <td>NaN</td>\n",
       "    </tr>\n",
       "    <tr>\n",
       "      <th>4625</th>\n",
       "      <td>236882611</td>\n",
       "      <td>23688261</td>\n",
       "      <td>20240329</td>\n",
       "      <td>1</td>\n",
       "      <td>YR</td>\n",
       "      <td>73.0</td>\n",
       "      <td>F</td>\n",
       "      <td>NaN</td>\n",
       "      <td>5</td>\n",
       "      <td>C</td>\n",
       "      <td>...</td>\n",
       "      <td>NaN</td>\n",
       "      <td>NaN</td>\n",
       "      <td>NaN</td>\n",
       "      <td>NaN</td>\n",
       "      <td>NaN</td>\n",
       "      <td>NaN</td>\n",
       "      <td>30.0</td>\n",
       "      <td>MG</td>\n",
       "      <td>NaN</td>\n",
       "      <td>QD</td>\n",
       "    </tr>\n",
       "    <tr>\n",
       "      <th>4626</th>\n",
       "      <td>236889371</td>\n",
       "      <td>23688937</td>\n",
       "      <td>20240329</td>\n",
       "      <td>1</td>\n",
       "      <td>YR</td>\n",
       "      <td>83.0</td>\n",
       "      <td>M</td>\n",
       "      <td>NaN</td>\n",
       "      <td>7</td>\n",
       "      <td>C</td>\n",
       "      <td>...</td>\n",
       "      <td>NaN</td>\n",
       "      <td>NaN</td>\n",
       "      <td>NaN</td>\n",
       "      <td>NaN</td>\n",
       "      <td>NaN</td>\n",
       "      <td>NaN</td>\n",
       "      <td>NaN</td>\n",
       "      <td>NaN</td>\n",
       "      <td>NaN</td>\n",
       "      <td>NaN</td>\n",
       "    </tr>\n",
       "  </tbody>\n",
       "</table>\n",
       "<p>4627 rows × 26 columns</p>\n",
       "</div>"
      ],
      "text/plain": [
       "       primaryid    caseid    fda_dt  caseversion age_cod   age sex      wt  \\\n",
       "0       63373272   6337327  20070705            2      YR  70.0   M  60.000   \n",
       "1      737231510   7372315  20181005           10      YR  71.0   F     NaN   \n",
       "2     1165786410  11657864  20200715           10      YR  48.0   F  49.600   \n",
       "3      118102753  11810275  20170710            3      YR  75.0   M  53.000   \n",
       "4      118163064  11816306  20170519            4      YR  81.0   F     NaN   \n",
       "...          ...       ...       ...          ...     ...   ...  ..     ...   \n",
       "4622   236749971  23674997  20240326            1      YR  34.0   F     NaN   \n",
       "4623   236830131  23683013  20240328            1      YR  56.0   M  91.399   \n",
       "4624   236830191  23683019  20240328            1      YR  37.0   M     NaN   \n",
       "4625   236882611  23688261  20240329            1      YR  73.0   F     NaN   \n",
       "4626   236889371  23688937  20240329            1      YR  83.0   M     NaN   \n",
       "\n",
       "      drug_seq role_cod  ... cum_dose_unit dechal  rechal lot_num exp_dt  \\\n",
       "0           26       SS  ...           NaN    NaN     NaN     NaN    NaN   \n",
       "1           12        C  ...           NaN      U     NaN     NaN    NaN   \n",
       "2           20        C  ...           NaN    NaN     NaN     NaN    NaN   \n",
       "3            5        C  ...            MG    NaN     NaN     NaN    NaN   \n",
       "4            4       SS  ...           NaN      Y     NaN     NaN    NaN   \n",
       "...        ...      ...  ...           ...    ...     ...     ...    ...   \n",
       "4622         2        C  ...           NaN    NaN     NaN     NaN    NaN   \n",
       "4623         3        C  ...           NaN    NaN     NaN     NaN    NaN   \n",
       "4624         4       SS  ...           NaN    NaN     NaN     NaN    NaN   \n",
       "4625         5        C  ...           NaN    NaN     NaN     NaN    NaN   \n",
       "4626         7        C  ...           NaN    NaN     NaN     NaN    NaN   \n",
       "\n",
       "      nda_num dose_amt dose_unit            dose_form dose_freq  \n",
       "0         NaN       30        MG  INJECTION, SOLUTION       NaN  \n",
       "1         NaN      NaN       NaN                  NaN       NaN  \n",
       "2         NaN      NaN       NaN                  NaN       NaN  \n",
       "3         NaN     60.0        MG                  NaN        QD  \n",
       "4         NaN      NaN       NaN                  NaN       NaN  \n",
       "...       ...      ...       ...                  ...       ...  \n",
       "4622      NaN      NaN       NaN                  NaN       NaN  \n",
       "4623      NaN      NaN       NaN                  NaN       NaN  \n",
       "4624      NaN      NaN       NaN           Suspension       NaN  \n",
       "4625      NaN     30.0        MG                  NaN        QD  \n",
       "4626      NaN      NaN       NaN                  NaN       NaN  \n",
       "\n",
       "[4627 rows x 26 columns]"
      ]
     },
     "execution_count": 40,
     "metadata": {},
     "output_type": "execute_result"
    }
   ],
   "source": [
    "query_drug_df_merged = pd.merge(demo, query_drug_df, on=['primaryid', 'caseid'], how='inner')\n",
    "query_drug_df_merged"
   ]
  },
  {
   "cell_type": "code",
   "execution_count": 41,
   "id": "fca99541-c6c5-4f8e-9759-006365347715",
   "metadata": {},
   "outputs": [
    {
     "data": {
      "text/html": [
       "<div>\n",
       "<style scoped>\n",
       "    .dataframe tbody tr th:only-of-type {\n",
       "        vertical-align: middle;\n",
       "    }\n",
       "\n",
       "    .dataframe tbody tr th {\n",
       "        vertical-align: top;\n",
       "    }\n",
       "\n",
       "    .dataframe thead th {\n",
       "        text-align: right;\n",
       "    }\n",
       "</style>\n",
       "<table border=\"1\" class=\"dataframe\">\n",
       "  <thead>\n",
       "    <tr style=\"text-align: right;\">\n",
       "      <th></th>\n",
       "      <th>count</th>\n",
       "      <th>percent</th>\n",
       "    </tr>\n",
       "    <tr>\n",
       "      <th>sex</th>\n",
       "      <th></th>\n",
       "      <th></th>\n",
       "    </tr>\n",
       "  </thead>\n",
       "  <tbody>\n",
       "    <tr>\n",
       "      <th>M</th>\n",
       "      <td>1978</td>\n",
       "      <td>58.47</td>\n",
       "    </tr>\n",
       "    <tr>\n",
       "      <th>F</th>\n",
       "      <td>1404</td>\n",
       "      <td>41.50</td>\n",
       "    </tr>\n",
       "    <tr>\n",
       "      <th>UNK</th>\n",
       "      <td>1</td>\n",
       "      <td>0.03</td>\n",
       "    </tr>\n",
       "  </tbody>\n",
       "</table>\n",
       "</div>"
      ],
      "text/plain": [
       "     count  percent\n",
       "sex                \n",
       "M     1978    58.47\n",
       "F     1404    41.50\n",
       "UNK      1     0.03"
      ]
     },
     "execution_count": 41,
     "metadata": {},
     "output_type": "execute_result"
    }
   ],
   "source": [
    "# Descriptive stats: Get sex breakdown \n",
    "counts = query_drug_df_merged['sex'].value_counts()\n",
    "percentages = query_drug_df_merged['sex'].value_counts(normalize=True) * 100\n",
    "\n",
    "summary_df = pd.DataFrame({'count': counts, 'percent': percentages.round(2)})\n",
    "summary_df"
   ]
  },
  {
   "cell_type": "code",
   "execution_count": 47,
   "id": "17668eea-77ea-4d81-bdbe-7502a95cbfd7",
   "metadata": {},
   "outputs": [],
   "source": [
    "# Get AE counts for cases where query drug is mentioned\n",
    "query_drug_ids = query_drug_df_merged['primaryid'].unique()\n",
    "query_drug_reac = reac[reac['primaryid'].isin(query_drug_ids)]\n",
    "ae_counts = query_drug_reac['pt'].value_counts().reset_index()\n",
    "ae_counts.columns = ['pt_name', 'Count']\n",
    "\n",
    "# Get AE counts for cases where query drug is not mentioned\n",
    "non_query_drug = drug[~drug['primaryid'].isin(query_drug_ids)]\n",
    "non_query_ids = non_query_drug['primaryid'].unique()\n",
    "non_query_reac = reac[reac['primaryid'].isin(non_query_ids)]\n",
    "non_ae_counts = non_query_reac['pt'].value_counts().reset_index()\n",
    "non_ae_counts.columns = ['pt_name', 'Count']\n",
    "\n",
    "ae_counts.columns = ['pt_name', 'Count_query_drug']\n",
    "non_ae_counts.columns = ['pt_name', 'Count_non_query_drug']\n",
    "\n",
    "# Merge AE counts for query drug and non-query drug\n",
    "ae_comparison = pd.merge(\n",
    "    ae_counts,\n",
    "    non_ae_counts,\n",
    "    on='pt_name',\n",
    "    how='outer'\n",
    ")\n",
    "\n",
    "# Filter to AEs with at least 3 reports for the query drug\n",
    "ae_filtered = ae_comparison[\n",
    "    (ae_comparison['Count_query_drug'].notna()) &\n",
    "    (ae_comparison['Count_query_drug'] >= 3)\n",
    "].copy().reset_index() "
   ]
  },
  {
   "cell_type": "code",
   "execution_count": 48,
   "id": "dcd0fb99-0bf3-4d14-a0bd-d486d8a0e6cf",
   "metadata": {},
   "outputs": [],
   "source": [
    "# Calculates the number of reports that did not include a specific adverse\n",
    "# event for both the query drug and non-query drugs\n",
    "query_num = query_drug_ids.shape[0]\n",
    "non_num = non_query_ids.shape[0]\n",
    "ae_filtered['No_AE_query_drug'] = query_num - ae_filtered['Count_query_drug']\n",
    "ae_filtered['No_AE_non_query_drug'] = non_num - ae_filtered['Count_non_query_drug']\n",
    "ae_filtered = ae_filtered.drop('index', axis=1)"
   ]
  },
  {
   "cell_type": "code",
   "execution_count": 51,
   "id": "b8a94411-dcad-4080-9196-111a954c04dd",
   "metadata": {},
   "outputs": [
    {
     "name": "stdout",
     "output_type": "stream",
     "text": [
      "                                      pt_name  Count_query_drug  \\\n",
      "0                        Abdominal discomfort              30.0   \n",
      "1                        Abdominal distension               8.0   \n",
      "2                              Abdominal pain              16.0   \n",
      "3                        Abdominal pain upper              24.0   \n",
      "4              Accidental exposure to product               3.0   \n",
      "..                                        ...               ...   \n",
      "352                          Weight increased               5.0   \n",
      "353                                  Wheezing               6.0   \n",
      "354          White blood cell count decreased               7.0   \n",
      "355          White blood cell count increased               5.0   \n",
      "356  Wrong technique in product usage process               3.0   \n",
      "\n",
      "     Count_non_query_drug  No_AE_query_drug  No_AE_non_query_drug  odds_ratio  \\\n",
      "0                  116650            3588.0              11833297    0.848184   \n",
      "1                   62060            3610.0              11887887    0.424498   \n",
      "2                  140888            3602.0              11809059    0.372321   \n",
      "3                  122889            3594.0              11827058    0.642683   \n",
      "4                   66524            3615.0              11883423    0.148244   \n",
      "..                    ...               ...                   ...         ...   \n",
      "352                149031            3613.0              11800916    0.109582   \n",
      "353                 43677            3612.0              11906270    0.452821   \n",
      "354                 78352            3611.0              11871595    0.293717   \n",
      "355                 21397            3613.0              11928550    0.771502   \n",
      "356                156632            3615.0              11793315    0.062484   \n",
      "\n",
      "     ci_lower_or  ci_upper_or       prr    se_prr  ci_lower_prr  ci_upper_prr  \\\n",
      "0       0.592122     1.214978  0.849442  0.181839      0.594771      1.213161   \n",
      "1       0.212115     0.849531  0.425771  0.353185      0.213078      0.850771   \n",
      "2       0.227839     0.608424  0.375097  0.249461      0.230037      0.611630   \n",
      "3       0.430176     0.960168  0.645053  0.203466      0.432914      0.961146   \n",
      "4       0.047787     0.459877  0.148950  0.577124      0.048060      0.461634   \n",
      "..           ...          ...       ...       ...           ...           ...   \n",
      "352     0.045582     0.263443  0.110813  0.446912      0.046150      0.266079   \n",
      "353     0.203285     1.008665  0.453728  0.407938      0.203963      1.009344   \n",
      "354     0.139918     0.616574  0.295084  0.377615      0.140771      0.618555   \n",
      "355     0.320888     1.854900  0.771817  0.446957      0.321408      1.853411   \n",
      "356     0.020142     0.193833  0.063261  0.577116      0.020412      0.196060   \n",
      "\n",
      "          p_value      ebgm  ci_low  ci_high      E_IC    Var_IC    IC_2SD  \n",
      "0    4.455179e-01  0.835659    0.74     0.94 -0.231984  0.068834 -0.756709  \n",
      "1    1.020355e-02  0.448129    0.37     0.56 -1.182239  0.245475 -2.173148  \n",
      "2    4.663574e-06  0.388221    0.33     0.46 -1.387015  0.126733 -2.099007  \n",
      "3    2.592107e-02  0.644054    0.57     0.74 -0.622070  0.085545 -1.207033  \n",
      "4    5.368179e-06  0.196222    0.14     0.28 -2.559928  0.595283 -4.103019  \n",
      "..            ...       ...     ...      ...       ...       ...       ...  \n",
      "352  6.479279e-14  0.134147    0.10     0.18 -3.052014  0.379019 -4.283304  \n",
      "353  5.142825e-02  0.479916    0.38     0.62 -1.078143  0.320833 -2.210986  \n",
      "354  1.156935e-04  0.324629    0.26     0.41 -1.691262  0.278117 -2.745998  \n",
      "355  8.421058e-01  0.734346    0.57     0.97 -0.343550  0.379103 -1.574976  \n",
      "356  7.751868e-17  0.085014    0.06     0.12 -3.775068  0.595265 -5.318136  \n",
      "\n",
      "[357 rows x 19 columns]\n"
     ]
    }
   ],
   "source": [
    "ae_filtered_new = add_stats(ae_filtered.copy())"
   ]
  },
  {
   "cell_type": "code",
   "execution_count": null,
   "id": "aeacffa0-becf-4686-b956-b862d610a921",
   "metadata": {},
   "outputs": [],
   "source": [
    "ae_filtered_new.sort_values(by='p_value')\n",
    "ae_filtered_new.sort_values(by='Count_query_drug').to_csv(f\"pt_terms_{query_drug}.csv\", index=False)\n"
   ]
  },
  {
   "cell_type": "code",
   "execution_count": null,
   "id": "eb5c47c6-9043-431b-be77-05b6db207ec5",
   "metadata": {},
   "outputs": [],
   "source": [
    "root_dir = '/Users/jodie/Documents/BMI 212/faers-cohort-generation'\n",
    "llt_soc = pd.read_csv(os.path.join(root_dir, 'llt_soc.csv'))"
   ]
  },
  {
   "cell_type": "code",
   "execution_count": null,
   "id": "0bd234ec-8fc1-4b15-bb05-82724d2de09a",
   "metadata": {},
   "outputs": [],
   "source": [
    "soc_filtered = (\n",
    "    ae_filtered\n",
    "    .merge(llt_soc[['pt_name', 'soc_name']], how='left', on='pt_name')\n",
    "    .groupby('soc_name', as_index=False)\n",
    "    .agg({\n",
    "        'Count_query_drug': 'sum',\n",
    "        'Count_non_query_drug': 'sum',\n",
    "        'No_AE_query_drug': 'sum',\n",
    "        'No_AE_non_query_drug': 'sum'\n",
    "    })\n",
    ")\n"
   ]
  },
  {
   "cell_type": "code",
   "execution_count": null,
   "id": "8529a839-af55-4b96-a15d-2633925ed453",
   "metadata": {},
   "outputs": [],
   "source": [
    "soc_filtered_new = add_stats(soc_filtered.copy())"
   ]
  },
  {
   "cell_type": "code",
   "execution_count": null,
   "id": "59ded4c2-1916-4bad-a1ee-daa0e12ed36f",
   "metadata": {},
   "outputs": [],
   "source": [
    "soc_filtered_new.sort_values(by='Count_query_drug').to_csv(f\"soc_terms_{query_drug}.csv\", index=False)"
   ]
  },
  {
   "cell_type": "code",
   "execution_count": null,
   "id": "73f4746e-b6d3-42fd-b4eb-246166fac22a",
   "metadata": {},
   "outputs": [],
   "source": []
  }
 ],
 "metadata": {
  "kernelspec": {
   "display_name": "Python 3 (ipykernel)",
   "language": "python",
   "name": "python3"
  },
  "language_info": {
   "codemirror_mode": {
    "name": "ipython",
    "version": 3
   },
   "file_extension": ".py",
   "mimetype": "text/x-python",
   "name": "python",
   "nbconvert_exporter": "python",
   "pygments_lexer": "ipython3",
   "version": "3.10.16"
  }
 },
 "nbformat": 4,
 "nbformat_minor": 5
}
