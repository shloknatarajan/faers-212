{
 "cells": [
  {
   "cell_type": "code",
   "execution_count": 14,
   "metadata": {},
   "outputs": [
    {
     "name": "stdout",
     "output_type": "stream",
     "text": [
      "The autoreload extension is already loaded. To reload it, use:\n",
      "  %reload_ext autoreload\n"
     ]
    }
   ],
   "source": [
    "# Run this cell: \n",
    "# The lines below will instruct jupyter to reload imported modules before \n",
    "# executing code cells. This enables you to quickly iterate and test revisions\n",
    "# to your code without having to restart the kernel and reload all of your \n",
    "# modules each time you make a code change in a separate python file.\n",
    "\n",
    "%load_ext autoreload\n",
    "%autoreload 2"
   ]
  },
  {
   "cell_type": "code",
   "execution_count": 20,
   "metadata": {},
   "outputs": [],
   "source": [
    "from src.faers_downloader import FAERSDownloader"
   ]
  },
  {
   "cell_type": "code",
   "execution_count": 21,
   "metadata": {},
   "outputs": [],
   "source": [
    "downloader = FAERSDownloader()"
   ]
  },
  {
   "cell_type": "code",
   "execution_count": 22,
   "metadata": {},
   "outputs": [
    {
     "name": "stdout",
     "output_type": "stream",
     "text": [
      "Available online quarters: {'2025Q1': 'https://fis.fda.gov/content/Exports/faers_ascii_2025q1.zip', '2024Q4': 'https://fis.fda.gov/content/Exports/faers_ascii_2024Q4.zip', '2024Q3': 'https://fis.fda.gov/content/Exports/faers_ascii_2024q3.zip', '2024Q2': 'https://fis.fda.gov/content/Exports/faers_ascii_2024q2.zip', '2024Q1': 'https://fis.fda.gov/content/Exports/faers_ascii_2024q1.zip', '2023Q4': 'https://fis.fda.gov/content/Exports/faers_ascii_2023Q4.zip', '2023Q3': 'https://fis.fda.gov/content/Exports/faers_ascii_2023Q3.zip', '2023Q2': 'https://fis.fda.gov/content/Exports/faers_ascii_2023q2.zip', '2023Q1': 'https://fis.fda.gov/content/Exports/faers_ascii_2023q1.zip', '2022Q4': 'https://fis.fda.gov/content/Exports/faers_ascii_2022Q4.zip', '2022Q3': 'https://fis.fda.gov/content/Exports/faers_ascii_2022Q3.zip', '2022Q2': 'https://fis.fda.gov/content/Exports/faers_ascii_2022q2.zip', '2022Q1': 'https://fis.fda.gov/content/Exports/faers_ascii_2022q1.zip', '2021Q4': 'https://fis.fda.gov/content/Exports/faers_ascii_2021Q4.zip', '2021Q3': 'https://fis.fda.gov/content/Exports/faers_ascii_2021Q3.zip', '2021Q2': 'https://fis.fda.gov/content/Exports/faers_ascii_2021Q2.zip', '2021Q1': 'https://fis.fda.gov/content/Exports/faers_ascii_2021Q1.zip', '2020Q4': 'https://fis.fda.gov/content/Exports/faers_ascii_2020Q4.zip', '2020Q3': 'https://fis.fda.gov/content/Exports/faers_ascii_2020Q3.zip', '2020Q2': 'https://fis.fda.gov/content/Exports/faers_ascii_2020Q2.zip', '2020Q1': 'https://fis.fda.gov/content/Exports/faers_ascii_2020Q1.zip', '2019Q4': 'https://fis.fda.gov/content/Exports/faers_ascii_2019Q4.zip', '2019Q3': 'https://fis.fda.gov/content/Exports/faers_ascii_2019Q3.zip', '2019Q2': 'https://fis.fda.gov/content/Exports/faers_ascii_2019Q2.zip', '2019Q1': 'https://fis.fda.gov/content/Exports/faers_ascii_2019Q1.zip', '2018Q4': 'https://fis.fda.gov/content/Exports/faers_ascii_2018q4.zip', '2018Q3': 'https://fis.fda.gov/content/Exports/faers_ascii_2018q3.zip', '2018Q2': 'https://fis.fda.gov/content/Exports/faers_ascii_2018q2.zip', '2018Q1': 'https://fis.fda.gov/content/Exports/faers_ascii_2018q1.zip', '2017Q4': 'https://fis.fda.gov/content/Exports/faers_ascii_2017q4.zip', '2017Q3': 'https://fis.fda.gov/content/Exports/faers_ascii_2017q3.zip', '2017Q2': 'https://fis.fda.gov/content/Exports/faers_ascii_2017q2.zip', '2017Q1': 'https://fis.fda.gov/content/Exports/faers_ascii_2017q1.zip', '2016Q4': 'https://fis.fda.gov/content/Exports/faers_ascii_2016q4.zip', '2016Q3': 'https://fis.fda.gov/content/Exports/faers_ascii_2016q3.zip', '2016Q2': 'https://fis.fda.gov/content/Exports/faers_ascii_2016q2.zip', '2016Q1': 'https://fis.fda.gov/content/Exports/faers_ascii_2016q1.zip', '2015Q4': 'https://fis.fda.gov/content/Exports/faers_ascii_2015q4.zip', '2015Q3': 'https://fis.fda.gov/content/Exports/faers_ascii_2015q3.zip', '2015Q2': 'https://fis.fda.gov/content/Exports/faers_ascii_2015q2.zip', '2015Q1': 'https://fis.fda.gov/content/Exports/faers_ascii_2015q1.zip', '2014Q4': 'https://fis.fda.gov/content/Exports/faers_ascii_2014q4.zip', '2014Q3': 'https://fis.fda.gov/content/Exports/faers_ascii_2014q3.zip', '2014Q2': 'https://fis.fda.gov/content/Exports/faers_ascii_2014q2.zip', '2014Q1': 'https://fis.fda.gov/content/Exports/faers_ascii_2014q1.zip', '2013Q4': 'https://fis.fda.gov/content/Exports/faers_ascii_2013q4.zip', '2013Q3': 'https://fis.fda.gov/content/Exports/faers_ascii_2013q3.zip', '2013Q2': 'https://fis.fda.gov/content/Exports/faers_ascii_2013q2.zip', '2013Q1': 'https://fis.fda.gov/content/Exports/faers_ascii_2013q1.zip', '2012Q4': 'https://fis.fda.gov/content/Exports/faers_ascii_2012q4.zip', '2012Q3': 'https://fis.fda.gov/content/Exports/aers_ascii_2012q3.zip', '2012Q2': 'https://fis.fda.gov/content/Exports/aers_ascii_2012q2.zip', '2012Q1': 'https://fis.fda.gov/content/Exports/aers_ascii_2012q1.zip', '2011Q4': 'https://fis.fda.gov/content/Exports/aers_ascii_2011q4.zip', '2011Q3': 'https://fis.fda.gov/content/Exports/aers_ascii_2011q3.zip', '2011Q2': 'https://fis.fda.gov/content/Exports/aers_ascii_2011q2.zip', '2011Q1': 'https://fis.fda.gov/content/Exports/aers_ascii_2011q1.zip', '2010Q4': 'https://fis.fda.gov/content/Exports/aers_ascii_2010q4.zip', '2010Q3': 'https://fis.fda.gov/content/Exports/aers_ascii_2010q3.zip', '2010Q2': 'https://fis.fda.gov/content/Exports/aers_ascii_2010q2.zip', '2010Q1': 'https://fis.fda.gov/content/Exports/aers_ascii_2010q1.zip', '2009Q4': 'https://fis.fda.gov/content/Exports/aers_ascii_2009q4.zip', '2009Q3': 'https://fis.fda.gov/content/Exports/aers_ascii_2009q3.zip', '2009Q2': 'https://fis.fda.gov/content/Exports/aers_ascii_2009q2.zip', '2009Q1': 'https://fis.fda.gov/content/Exports/aers_ascii_2009q1.zip', '2008Q4': 'https://fis.fda.gov/content/Exports/aers_ascii_2008q4.zip', '2008Q3': 'https://fis.fda.gov/content/Exports/aers_ascii_2008q3.zip', '2008Q2': 'https://fis.fda.gov/content/Exports/aers_ascii_2008q2.zip', '2008Q1': 'https://fis.fda.gov/content/Exports/aers_ascii_2008q1.zip', '2007Q4': 'https://fis.fda.gov/content/Exports/aers_ascii_2007q4.zip', '2007Q3': 'https://fis.fda.gov/content/Exports/aers_ascii_2007q3.zip', '2007Q2': 'https://fis.fda.gov/content/Exports/aers_ascii_2007q2.zip', '2007Q1': 'https://fis.fda.gov/content/Exports/aers_ascii_2007q1.zip', '2006Q4': 'https://fis.fda.gov/content/Exports/aers_ascii_2006q4.zip', '2006Q3': 'https://fis.fda.gov/content/Exports/aers_ascii_2006q3.zip', '2006Q2': 'https://fis.fda.gov/content/Exports/aers_ascii_2006q2.zip', '2006Q1': 'https://fis.fda.gov/content/Exports/aers_ascii_2006q1.zip', '2005Q4': 'https://fis.fda.gov/content/Exports/aers_ascii_2005q4.zip', '2005Q3': 'https://fis.fda.gov/content/Exports/aers_ascii_2005q3.zip', '2005Q2': 'https://fis.fda.gov/content/Exports/aers_ascii_2005q2.zip', '2005Q1': 'https://fis.fda.gov/content/Exports/aers_ascii_2005q1.zip', '2004Q4': 'https://fis.fda.gov/content/Exports/aers_ascii_2004q4.zip', '2004Q3': 'https://fis.fda.gov/content/Exports/aers_ascii_2004q3.zip', '2004Q2': 'https://fis.fda.gov/content/Exports/aers_ascii_2004q2.zip', '2004Q1': 'https://fis.fda.gov/content/Exports/aers_ascii_2004q1.zip'}\n",
      "Available locally downloaded quarters: ['2023Q1', '2023Q2', '2024Q1', '2025Q1']\n",
      "Example usage: \n",
      "downloader = FAERSDownloader()\n",
      "downloader.download_quarters(start_year=2023, end_year=2023, start_quarter=1, end_quarter=4) # Download all quarters for 2023\n",
      "downloader.download_quarter(quarter='2023Q1') # Download a single quarter\n"
     ]
    }
   ],
   "source": [
    "downloader.help()"
   ]
  },
  {
   "cell_type": "code",
   "execution_count": 23,
   "metadata": {},
   "outputs": [
    {
     "name": "stderr",
     "output_type": "stream",
     "text": [
      "\u001b[32m2025-06-01 23:09:11.503\u001b[0m | \u001b[1mINFO    \u001b[0m | \u001b[36msrc.parse_quarters\u001b[0m:\u001b[36mcheck_available_online\u001b[0m:\u001b[36m77\u001b[0m - \u001b[1mAll quarters ['2023Q1', '2023Q2'] found on FAERS Download Page (https://fis.fda.gov/extensions/FPD-QDE-FAERS/FPD-QDE-FAERS.html)\u001b[0m\n",
      "\u001b[32m2025-06-01 23:09:12.206\u001b[0m | \u001b[1mINFO    \u001b[0m | \u001b[36msrc.faers_downloader\u001b[0m:\u001b[36mdownload_quarters\u001b[0m:\u001b[36m17\u001b[0m - \u001b[1mDownloading 2 quarters\u001b[0m\n",
      "  0%|          | 0/2 [00:00<?, ?it/s]\u001b[32m2025-06-01 23:09:12.208\u001b[0m | \u001b[33m\u001b[1mWARNING \u001b[0m | \u001b[36msrc.faers_downloader\u001b[0m:\u001b[36mdownload_quarter\u001b[0m:\u001b[36m15\u001b[0m - \u001b[33m\u001b[1mSkipping 2023Q1 because it already exists\u001b[0m\n",
      "\u001b[32m2025-06-01 23:09:12.208\u001b[0m | \u001b[33m\u001b[1mWARNING \u001b[0m | \u001b[36msrc.faers_downloader\u001b[0m:\u001b[36mdownload_quarter\u001b[0m:\u001b[36m15\u001b[0m - \u001b[33m\u001b[1mSkipping 2023Q2 because it already exists\u001b[0m\n",
      "100%|██████████| 2/2 [00:00<00:00, 2290.72it/s]\n"
     ]
    }
   ],
   "source": [
    "downloader.download_quarters(start_year=2023, end_year=2023, start_quarter=1, end_quarter=2)"
   ]
  },
  {
   "cell_type": "code",
   "execution_count": 37,
   "metadata": {},
   "outputs": [],
   "source": [
    "from src.data_loader import load_faers_data"
   ]
  },
  {
   "cell_type": "code",
   "execution_count": 42,
   "metadata": {},
   "outputs": [
    {
     "name": "stderr",
     "output_type": "stream",
     "text": [
      "\u001b[32m2025-06-01 23:47:49.808\u001b[0m | \u001b[1mINFO    \u001b[0m | \u001b[36msrc.parse_quarters\u001b[0m:\u001b[36mcheck_available_downloaded\u001b[0m:\u001b[36m14\u001b[0m - \u001b[1mAll quarters ['2023Q1', '2023Q2'] found in data/faers_reports\u001b[0m\n",
      "Loading quarters:   0%|          | 0/2 [00:00<?, ?it/s]\u001b[32m2025-06-01 23:47:49.810\u001b[0m | \u001b[1mINFO    \u001b[0m | \u001b[36msrc.data_loader\u001b[0m:\u001b[36mload_quarters\u001b[0m:\u001b[36m7\u001b[0m - \u001b[1mLoading quarter: 2023Q1\u001b[0m\n",
      "<string>:17: DtypeWarning: Columns (21) have mixed types. Specify dtype option on import or set low_memory=False.\n",
      "Loading quarters:  50%|█████     | 1/2 [00:03<00:03,  3.76s/it]\u001b[32m2025-06-01 23:47:53.566\u001b[0m | \u001b[1mINFO    \u001b[0m | \u001b[36msrc.data_loader\u001b[0m:\u001b[36mload_quarters\u001b[0m:\u001b[36m7\u001b[0m - \u001b[1mLoading quarter: 2023Q2\u001b[0m\n",
      "<string>:17: DtypeWarning: Columns (21) have mixed types. Specify dtype option on import or set low_memory=False.\n",
      "Loading quarters: 100%|██████████| 2/2 [00:07<00:00,  3.82s/it]\n"
     ]
    }
   ],
   "source": [
    "x = load_faers_data(save_dir=\"data\", start_year=2023, end_year=2023, start_quarter=1, end_quarter=2)"
   ]
  },
  {
   "cell_type": "code",
   "execution_count": null,
   "metadata": {},
   "outputs": [
    {
     "data": {
      "text/plain": [
       "6"
      ]
     },
     "execution_count": 40,
     "metadata": {},
     "output_type": "execute_result"
    }
   ],
   "source": []
  },
  {
   "cell_type": "code",
   "execution_count": null,
   "metadata": {},
   "outputs": [],
   "source": []
  }
 ],
 "metadata": {
  "kernelspec": {
   "display_name": "default",
   "language": "python",
   "name": "python3"
  },
  "language_info": {
   "codemirror_mode": {
    "name": "ipython",
    "version": 3
   },
   "file_extension": ".py",
   "mimetype": "text/x-python",
   "name": "python",
   "nbconvert_exporter": "python",
   "pygments_lexer": "ipython3",
   "version": "3.13.3"
  }
 },
 "nbformat": 4,
 "nbformat_minor": 2
}
