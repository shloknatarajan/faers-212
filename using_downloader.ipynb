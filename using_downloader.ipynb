{
 "cells": [
  {
   "cell_type": "code",
   "execution_count": 3,
   "metadata": {},
   "outputs": [
    {
     "name": "stdout",
     "output_type": "stream",
     "text": [
      "The autoreload extension is already loaded. To reload it, use:\n",
      "  %reload_ext autoreload\n"
     ]
    }
   ],
   "source": [
    "# Run this cell: \n",
    "# The lines below will instruct jupyter to reload imported modules before \n",
    "# executing code cells. This enables you to quickly iterate and test revisions\n",
    "# to your code without having to restart the kernel and reload all of your \n",
    "# modules each time you make a code change in a separate python file.\n",
    "\n",
    "%load_ext autoreload\n",
    "%autoreload 2"
   ]
  },
  {
   "cell_type": "code",
   "execution_count": 7,
   "metadata": {},
   "outputs": [],
   "source": [
    "from src.faers_downloader import FAERSDownloader"
   ]
  },
  {
   "cell_type": "code",
   "execution_count": 11,
   "metadata": {},
   "outputs": [],
   "source": [
    "downloader = FAERSDownloader()"
   ]
  },
  {
   "cell_type": "code",
   "execution_count": 12,
   "metadata": {},
   "outputs": [
    {
     "name": "stderr",
     "output_type": "stream",
     "text": [
      "\u001b[32m2025-06-01 18:53:35.349\u001b[0m | \u001b[1mINFO    \u001b[0m | \u001b[36msrc.parse_quarters\u001b[0m:\u001b[36mcheck_available_online\u001b[0m:\u001b[36m77\u001b[0m - \u001b[1mAll quarters ['2023Q1', '2023Q2'] found on FAERS Download Page (https://fis.fda.gov/extensions/FPD-QDE-FAERS/FPD-QDE-FAERS.html)\u001b[0m\n",
      "  0%|          | 0/2 [00:00<?, ?it/s]\u001b[32m2025-06-01 18:53:35.350\u001b[0m | \u001b[1mINFO    \u001b[0m | \u001b[36msrc.faers_downloader\u001b[0m:\u001b[36mdownload_quarters\u001b[0m:\u001b[36m17\u001b[0m - \u001b[1mDownloading 2023Q1\u001b[0m\n",
      "\u001b[32m2025-06-01 18:53:35.351\u001b[0m | \u001b[33m\u001b[1mWARNING \u001b[0m | \u001b[36msrc.faers_downloader\u001b[0m:\u001b[36mdownload_quarter\u001b[0m:\u001b[36m137\u001b[0m - \u001b[33m\u001b[1mSkipping 2023Q1 because it already exists\u001b[0m\n",
      "\u001b[32m2025-06-01 18:53:35.351\u001b[0m | \u001b[1mINFO    \u001b[0m | \u001b[36msrc.faers_downloader\u001b[0m:\u001b[36mdownload_quarters\u001b[0m:\u001b[36m17\u001b[0m - \u001b[1mDownloading 2023Q2\u001b[0m\n",
      "\u001b[32m2025-06-01 18:53:35.352\u001b[0m | \u001b[33m\u001b[1mWARNING \u001b[0m | \u001b[36msrc.faers_downloader\u001b[0m:\u001b[36mdownload_quarter\u001b[0m:\u001b[36m137\u001b[0m - \u001b[33m\u001b[1mSkipping 2023Q2 because it already exists\u001b[0m\n",
      "100%|██████████| 2/2 [00:00<00:00, 1404.66it/s]\n"
     ]
    }
   ],
   "source": [
    "downloader.download_quarters(start_year=2023, end_year=2023, start_quarter=1, end_quarter=2)"
   ]
  },
  {
   "cell_type": "code",
   "execution_count": null,
   "metadata": {},
   "outputs": [],
   "source": []
  }
 ],
 "metadata": {
  "kernelspec": {
   "display_name": "default",
   "language": "python",
   "name": "python3"
  },
  "language_info": {
   "codemirror_mode": {
    "name": "ipython",
    "version": 3
   },
   "file_extension": ".py",
   "mimetype": "text/x-python",
   "name": "python",
   "nbconvert_exporter": "python",
   "pygments_lexer": "ipython3",
   "version": "3.13.3"
  }
 },
 "nbformat": 4,
 "nbformat_minor": 2
}
